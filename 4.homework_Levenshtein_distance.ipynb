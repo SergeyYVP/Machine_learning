{
 "cells": [
  {
   "cell_type": "markdown",
   "metadata": {},
   "source": [
    "# Поиск наиболее близкого имени участника"
   ]
  },
  {
   "cell_type": "code",
   "execution_count": 1,
   "metadata": {},
   "outputs": [],
   "source": [
    "# conda install -c conda-forge python-levenshtein\n",
    "# или pip install python-levenshtein\n",
    "import numpy as np\n",
    "import Levenshtein\n",
    "import pandas as pd"
   ]
  },
  {
   "cell_type": "code",
   "execution_count": 102,
   "metadata": {},
   "outputs": [],
   "source": [
    "# что было написано в заявке\n",
    "\n",
    "claim_list = [\n",
    "    'Шехавцова Анна',\n",
    "    'Гречихина Наталья',\n",
    "    'Козлова Алена',\n",
    "    'Груздева Алена',\n",
    "    'Груздева Полина',\n",
    "    'Кущенко Анна',\n",
    "    'Чистякова Анастасия'\n",
    "]"
   ]
  },
  {
   "cell_type": "code",
   "execution_count": 103,
   "metadata": {},
   "outputs": [],
   "source": [
    "# результат расшифровки речи диктора\n",
    "\n",
    "speech_recognition = [\n",
    "    'кучменко она',\n",
    "    'кущенко оксана',\n",
    "    'груздь алина',\n",
    "    'рычихина наталья',\n",
    "    'шиховцева на',\n",
    "    'чистова анастасия'\n",
    "]"
   ]
  },
  {
   "cell_type": "markdown",
   "metadata": {},
   "source": [
    "### С библиотекой Levenshtein"
   ]
  },
  {
   "cell_type": "code",
   "execution_count": 104,
   "metadata": {},
   "outputs": [
    {
     "data": {
      "text/plain": [
       "4"
      ]
     },
     "execution_count": 104,
     "metadata": {},
     "output_type": "execute_result"
    }
   ],
   "source": [
    "Levenshtein.distance('Оксана', 'Анна')"
   ]
  },
  {
   "cell_type": "code",
   "execution_count": 105,
   "metadata": {},
   "outputs": [
    {
     "name": "stdout",
     "output_type": "stream",
     "text": [
      "кучменко она\n",
      "кущенко оксана\n",
      "груздь алина\n",
      "рычихина наталья\n",
      "шиховцева на\n",
      "чистова анастасия\n"
     ]
    }
   ],
   "source": [
    "for recognized_name in speech_recognition:\n",
    "    print(recognized_name)"
   ]
  },
  {
   "cell_type": "code",
   "execution_count": 106,
   "metadata": {},
   "outputs": [
    {
     "name": "stdout",
     "output_type": "stream",
     "text": [
      "кучменко она,Шехавцова Анна,11\n",
      "кучменко она,Гречихина Наталья,14\n",
      "кучменко она,Козлова Алена,11\n",
      "кучменко она,Груздева Алена,10\n",
      "кучменко она,Груздева Полина,10\n",
      "кучменко она,Кущенко Анна,5\n",
      "кучменко она,Чистякова Анастасия,15\n",
      "кущенко оксана,Шехавцова Анна,11\n",
      "кущенко оксана,Гречихина Наталья,15\n",
      "кущенко оксана,Козлова Алена,11\n",
      "кущенко оксана,Груздева Алена,11\n",
      "кущенко оксана,Груздева Полина,11\n",
      "кущенко оксана,Кущенко Анна,5\n",
      "кущенко оксана,Чистякова Анастасия,14\n",
      "груздь алина,Шехавцова Анна,11\n",
      "груздь алина,Гречихина Наталья,14\n",
      "груздь алина,Козлова Алена,9\n",
      "груздь алина,Груздева Алена,6\n",
      "груздь алина,Груздева Полина,6\n",
      "груздь алина,Кущенко Анна,10\n",
      "груздь алина,Чистякова Анастасия,16\n",
      "рычихина наталья,Шехавцова Анна,14\n",
      "рычихина наталья,Гречихина Наталья,3\n",
      "рычихина наталья,Козлова Алена,14\n",
      "рычихина наталья,Груздева Алена,14\n",
      "рычихина наталья,Груздева Полина,14\n",
      "рычихина наталья,Кущенко Анна,14\n",
      "рычихина наталья,Чистякова Анастасия,12\n",
      "шиховцева на,Шехавцова Анна,6\n",
      "шиховцева на,Гречихина Наталья,14\n",
      "шиховцева на,Козлова Алена,9\n",
      "шиховцева на,Груздева Алена,9\n",
      "шиховцева на,Груздева Полина,10\n",
      "шиховцева на,Кущенко Анна,10\n",
      "шиховцева на,Чистякова Анастасия,13\n",
      "чистова анастасия,Шехавцова Анна,13\n",
      "чистова анастасия,Гречихина Наталья,12\n",
      "чистова анастасия,Козлова Алена,12\n",
      "чистова анастасия,Груздева Алена,14\n",
      "чистова анастасия,Груздева Полина,14\n",
      "чистова анастасия,Кущенко Анна,14\n",
      "чистова анастасия,Чистякова Анастасия,4\n"
     ]
    }
   ],
   "source": [
    "for recognized_name in speech_recognition:\n",
    "    for real_name in claim_list:\n",
    "        print('{},{},{}'.format(recognized_name, real_name, Levenshtein.distance(recognized_name, real_name)))"
   ]
  },
  {
   "cell_type": "markdown",
   "metadata": {},
   "source": [
    "### Без библиотеки из файла 'recognized_stats.txt'"
   ]
  },
  {
   "cell_type": "code",
   "execution_count": 107,
   "metadata": {},
   "outputs": [],
   "source": [
    "# distances = []\n",
    "\n",
    "# f = open('recognized_stats.txt', mode = 'r', encoding = 'utf-8')\n",
    "\n",
    "# lines = [line.strip().split(';') for line in f]\n",
    "\n",
    "# for line in lines:\n",
    "    \n",
    "#     for rec in line:\n",
    "#         recognized_name, real_name, distance = rec.split(',')\n",
    "#         print(recognized_name, real_name, distance)"
   ]
  },
  {
   "cell_type": "markdown",
   "metadata": {},
   "source": [
    "### Сортировка словаря"
   ]
  },
  {
   "cell_type": "code",
   "execution_count": 108,
   "metadata": {},
   "outputs": [
    {
     "name": "stdout",
     "output_type": "stream",
     "text": [
      "{'Шехавцова Анна': 11, 'Гречихина Наталья': 14, 'Козлова Алена': 11, 'Груздева Алена': 10, 'Груздева Полина': 10, 'Кущенко Анна': 5, 'Чистякова Анастасия': 15}\n"
     ]
    }
   ],
   "source": [
    "for recognized_name in speech_recognition:\n",
    "    distances = {real_name: Levenshtein.distance(recognized_name, real_name) for real_name in claim_list}\n",
    "    print(distances)\n",
    "    \n",
    "    break"
   ]
  },
  {
   "cell_type": "code",
   "execution_count": 109,
   "metadata": {},
   "outputs": [
    {
     "data": {
      "text/plain": [
       "[('Кущенко Анна', 5),\n",
       " ('Груздева Алена', 10),\n",
       " ('Груздева Полина', 10),\n",
       " ('Шехавцова Анна', 11),\n",
       " ('Козлова Алена', 11),\n",
       " ('Гречихина Наталья', 14),\n",
       " ('Чистякова Анастасия', 15)]"
      ]
     },
     "execution_count": 109,
     "metadata": {},
     "output_type": "execute_result"
    }
   ],
   "source": [
    "# x[1] - сортировка по значениям словаря по возрастанию (если надо по убыванию - добавляем минус перед x[1])\n",
    "# x[0] - по ключам\n",
    "sorted(distances.items(), key = lambda x: x[1])"
   ]
  },
  {
   "cell_type": "code",
   "execution_count": 110,
   "metadata": {},
   "outputs": [],
   "source": [
    "def find_match(speech_recognition, claim_list):\n",
    "    '''\n",
    "    Функция принимает список распознанных и реальных имен.\n",
    "    Рассчитывает расстояние Левенштейна между всеми парами\n",
    "    распознанных и реальных имен и возвращает DataFrame\n",
    "    соответствия распознанного имени реальному имени (или именам).\n",
    "    '''\n",
    "    fio_match = {}\n",
    "    min_distances = []\n",
    "    claim_list_arr = np.array(claim_list)\n",
    "    for recognized_name in speech_recognition:\n",
    "        distances = np.array([Levenshtein.distance(recognized_name, name) for name in claim_list])\n",
    "        if (distances==distances.min()).sum() == 1:\n",
    "            fio_match[recognized_name] = claim_list[distances.argmin()]\n",
    "        else:\n",
    "            fio_match[recognized_name] = claim_list_arr[np.where(distances==distances.min())[0]]       \n",
    "        min_distances.append(distances.min())\n",
    "    match_df = pd.DataFrame({'Распознанное имя': list(fio_match.keys()), \n",
    "                            'Реальное имя': list(fio_match.values()),\n",
    "                            'Расстояние Левенштейна':  min_distances})\n",
    "    return match_df"
   ]
  },
  {
   "cell_type": "code",
   "execution_count": 111,
   "metadata": {},
   "outputs": [
    {
     "data": {
      "text/html": [
       "<div>\n",
       "<style scoped>\n",
       "    .dataframe tbody tr th:only-of-type {\n",
       "        vertical-align: middle;\n",
       "    }\n",
       "\n",
       "    .dataframe tbody tr th {\n",
       "        vertical-align: top;\n",
       "    }\n",
       "\n",
       "    .dataframe thead th {\n",
       "        text-align: right;\n",
       "    }\n",
       "</style>\n",
       "<table border=\"1\" class=\"dataframe\">\n",
       "  <thead>\n",
       "    <tr style=\"text-align: right;\">\n",
       "      <th></th>\n",
       "      <th>Распознанное имя</th>\n",
       "      <th>Реальное имя</th>\n",
       "      <th>Расстояние Левенштейна</th>\n",
       "    </tr>\n",
       "  </thead>\n",
       "  <tbody>\n",
       "    <tr>\n",
       "      <th>0</th>\n",
       "      <td>кучменко она</td>\n",
       "      <td>Кущенко Анна</td>\n",
       "      <td>5</td>\n",
       "    </tr>\n",
       "    <tr>\n",
       "      <th>1</th>\n",
       "      <td>кущенко оксана</td>\n",
       "      <td>Кущенко Анна</td>\n",
       "      <td>5</td>\n",
       "    </tr>\n",
       "    <tr>\n",
       "      <th>2</th>\n",
       "      <td>груздь алина</td>\n",
       "      <td>[Груздева Алена, Груздева Полина]</td>\n",
       "      <td>6</td>\n",
       "    </tr>\n",
       "    <tr>\n",
       "      <th>3</th>\n",
       "      <td>рычихина наталья</td>\n",
       "      <td>Гречихина Наталья</td>\n",
       "      <td>3</td>\n",
       "    </tr>\n",
       "    <tr>\n",
       "      <th>4</th>\n",
       "      <td>шиховцева на</td>\n",
       "      <td>Шехавцова Анна</td>\n",
       "      <td>6</td>\n",
       "    </tr>\n",
       "    <tr>\n",
       "      <th>5</th>\n",
       "      <td>чистова анастасия</td>\n",
       "      <td>Чистякова Анастасия</td>\n",
       "      <td>4</td>\n",
       "    </tr>\n",
       "  </tbody>\n",
       "</table>\n",
       "</div>"
      ],
      "text/plain": [
       "    Распознанное имя                       Реальное имя  \\\n",
       "0       кучменко она                       Кущенко Анна   \n",
       "1     кущенко оксана                       Кущенко Анна   \n",
       "2       груздь алина  [Груздева Алена, Груздева Полина]   \n",
       "3   рычихина наталья                  Гречихина Наталья   \n",
       "4       шиховцева на                     Шехавцова Анна   \n",
       "5  чистова анастасия                Чистякова Анастасия   \n",
       "\n",
       "   Расстояние Левенштейна  \n",
       "0                       5  \n",
       "1                       5  \n",
       "2                       6  \n",
       "3                       3  \n",
       "4                       6  \n",
       "5                       4  "
      ]
     },
     "execution_count": 111,
     "metadata": {},
     "output_type": "execute_result"
    }
   ],
   "source": [
    "find_match(speech_recognition, claim_list)"
   ]
  },
  {
   "cell_type": "code",
   "execution_count": null,
   "metadata": {},
   "outputs": [],
   "source": []
  }
 ],
 "metadata": {
  "kernelspec": {
   "display_name": "Python 3",
   "language": "python",
   "name": "python3"
  },
  "language_info": {
   "codemirror_mode": {
    "name": "ipython",
    "version": 3
   },
   "file_extension": ".py",
   "mimetype": "text/x-python",
   "name": "python",
   "nbconvert_exporter": "python",
   "pygments_lexer": "ipython3",
   "version": "3.7.1"
  }
 },
 "nbformat": 4,
 "nbformat_minor": 2
}
