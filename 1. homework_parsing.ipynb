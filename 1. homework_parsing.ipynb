{
 "cells": [
  {
   "cell_type": "markdown",
   "metadata": {},
   "source": [
    "# Парсинг обещание.ru"
   ]
  },
  {
   "cell_type": "markdown",
   "metadata": {},
   "source": [
    "Сервис контроля обещаний и предсказаний различных публичных людей.<br>\n",
    "В данном случае будут сравниваться обещания Путина и Медведева.\n",
    "Используем расширения для Chrome для удобного парсинга http://selectorgadget.com (+ используем fromstring из либы lxml)"
   ]
  },
  {
   "cell_type": "markdown",
   "metadata": {},
   "source": [
    "Будем мультипоточно качать сразу по 50 статей с сайта одновременно (Pool)"
   ]
  },
  {
   "cell_type": "code",
   "execution_count": 1,
   "metadata": {},
   "outputs": [],
   "source": [
    "import pandas as pd"
   ]
  },
  {
   "cell_type": "code",
   "execution_count": 2,
   "metadata": {},
   "outputs": [],
   "source": [
    "from matplotlib import pyplot as plt\n",
    "%matplotlib inline\n",
    "import seaborn as sns"
   ]
  },
  {
   "cell_type": "code",
   "execution_count": 3,
   "metadata": {},
   "outputs": [],
   "source": [
    "import requests\n",
    "from multiprocessing.dummy import Pool\n",
    "from lxml.html import fromstring\n",
    "\n",
    "def get_page(url):\n",
    "    html = requests.get(url).text\n",
    "    dom = fromstring(html)\n",
    "    dom.make_links_absolute(url)\n",
    "    return dom\n",
    "\n",
    "def get_article_urls(url_date):\n",
    "    pattern = '.title-link'\n",
    "    dom = get_page(url_date)\n",
    "    return [t.attrib['href'] for t in dom.cssselect(pattern)]\n",
    "\n",
    "def get_article_text(url):\n",
    "    pattern_header = 'h1'\n",
    "    patterns = ['.normalize p']\n",
    "    \n",
    "    try:\n",
    "        dom = get_page(url)\n",
    "    except:\n",
    "        return None, None\n",
    "    \n",
    "    try:\n",
    "        header = dom.cssselect(pattern_header)[0].text_content().strip()\n",
    "    except:\n",
    "        header = \"\"\n",
    "\n",
    "    try:\n",
    "        css_elements = flatten([dom.cssselect(pattern) for pattern in patterns])\n",
    "        text = \"\\n\\n\".join([t.text_content().strip() for t in css_elements])\n",
    "    except:\n",
    "        text = \"\"\n",
    "\n",
    "    return header, text\n",
    "\n",
    "flatten = lambda l: [item for sublist in l for item in sublist]"
   ]
  },
  {
   "cell_type": "code",
   "execution_count": 210,
   "metadata": {},
   "outputs": [],
   "source": [
    "def url_pages(person):\n",
    "    url_page_template_1 = f'http://www.obeschania.ru/documents/?order_type=desc&type=promises&topic=&person={person}&organization=&region=&status_active=on&from_date=&to_date=&execute_from_date=&execute_to_date='\n",
    "    url_page_template_2 = f'http://www.obeschania.ru/documents/?order_type=desc&region=&execute_to_date=&topic=&person={person}&from_date=&to_date=&organization=&execute_from_date=&type=promises&page='\n",
    "    url_pages = [url_page_template_1]\n",
    "    for page in range(2, 18):\n",
    "        url_page_template = url_page_template_2.replace('page=', f'page={page}')\n",
    "        url_pages.append(url_page_template)\n",
    "    return url_pages"
   ]
  },
  {
   "cell_type": "code",
   "execution_count": 211,
   "metadata": {},
   "outputs": [],
   "source": [
    "url_pages_putin = url_pages(1)\n",
    "url_pages_medvedev = url_pages(2)"
   ]
  },
  {
   "cell_type": "code",
   "execution_count": 212,
   "metadata": {},
   "outputs": [],
   "source": [
    "pool = Pool(100)"
   ]
  },
  {
   "cell_type": "code",
   "execution_count": 213,
   "metadata": {},
   "outputs": [
    {
     "name": "stdout",
     "output_type": "stream",
     "text": [
      "CPU times: user 1.08 s, sys: 41.9 ms, total: 1.12 s\n",
      "Wall time: 6.44 s\n"
     ]
    }
   ],
   "source": [
    "%%time\n",
    "url_articles_putin = pool.map(get_article_urls, url_pages_putin)\n",
    "url_articles_putin = flatten(url_articles_putin)\n",
    "url_articles_medvedev = pool.map(get_article_urls, url_pages_medvedev)\n",
    "url_articles_medvedev = flatten(url_articles_medvedev)"
   ]
  },
  {
   "cell_type": "markdown",
   "metadata": {},
   "source": [
    "вот сколько ссылок на статьи теперь у нас есть"
   ]
  },
  {
   "cell_type": "code",
   "execution_count": 214,
   "metadata": {},
   "outputs": [
    {
     "data": {
      "text/plain": [
       "(170, 166)"
      ]
     },
     "execution_count": 214,
     "metadata": {},
     "output_type": "execute_result"
    }
   ],
   "source": [
    "len(url_articles_putin), len(url_articles_medvedev)"
   ]
  },
  {
   "cell_type": "code",
   "execution_count": 215,
   "metadata": {},
   "outputs": [],
   "source": [
    "urls_putin = url_articles_putin\n",
    "urls_medvedev = url_articles_medvedev"
   ]
  },
  {
   "cell_type": "code",
   "execution_count": 219,
   "metadata": {},
   "outputs": [],
   "source": [
    "df_putin = pd.DataFrame({\"url\": urls_putin})\n",
    "df_medvedev = pd.DataFrame({\"url\": urls_medvedev})"
   ]
  },
  {
   "cell_type": "code",
   "execution_count": 220,
   "metadata": {},
   "outputs": [],
   "source": [
    "df_putin['person'] = 'Путин'\n",
    "df_medvedev['person'] = 'Медведев'"
   ]
  },
  {
   "cell_type": "code",
   "execution_count": 222,
   "metadata": {},
   "outputs": [
    {
     "data": {
      "text/html": [
       "<div>\n",
       "<style scoped>\n",
       "    .dataframe tbody tr th:only-of-type {\n",
       "        vertical-align: middle;\n",
       "    }\n",
       "\n",
       "    .dataframe tbody tr th {\n",
       "        vertical-align: top;\n",
       "    }\n",
       "\n",
       "    .dataframe thead th {\n",
       "        text-align: right;\n",
       "    }\n",
       "</style>\n",
       "<table border=\"1\" class=\"dataframe\">\n",
       "  <thead>\n",
       "    <tr style=\"text-align: right;\">\n",
       "      <th></th>\n",
       "      <th>url</th>\n",
       "      <th>person</th>\n",
       "    </tr>\n",
       "  </thead>\n",
       "  <tbody>\n",
       "    <tr>\n",
       "      <th>0</th>\n",
       "      <td>http://www.obeschania.ru/documents/promises/so...</td>\n",
       "      <td>Путин</td>\n",
       "    </tr>\n",
       "    <tr>\n",
       "      <th>1</th>\n",
       "      <td>http://www.obeschania.ru/documents/promises/pe...</td>\n",
       "      <td>Путин</td>\n",
       "    </tr>\n",
       "    <tr>\n",
       "      <th>2</th>\n",
       "      <td>http://www.obeschania.ru/documents/promises/ar...</td>\n",
       "      <td>Путин</td>\n",
       "    </tr>\n",
       "    <tr>\n",
       "      <th>3</th>\n",
       "      <td>http://www.obeschania.ru/documents/promises/ar...</td>\n",
       "      <td>Путин</td>\n",
       "    </tr>\n",
       "    <tr>\n",
       "      <th>4</th>\n",
       "      <td>http://www.obeschania.ru/documents/promises/pu...</td>\n",
       "      <td>Путин</td>\n",
       "    </tr>\n",
       "  </tbody>\n",
       "</table>\n",
       "</div>"
      ],
      "text/plain": [
       "                                                 url person\n",
       "0  http://www.obeschania.ru/documents/promises/so...  Путин\n",
       "1  http://www.obeschania.ru/documents/promises/pe...  Путин\n",
       "2  http://www.obeschania.ru/documents/promises/ar...  Путин\n",
       "3  http://www.obeschania.ru/documents/promises/ar...  Путин\n",
       "4  http://www.obeschania.ru/documents/promises/pu...  Путин"
      ]
     },
     "execution_count": 222,
     "metadata": {},
     "output_type": "execute_result"
    }
   ],
   "source": [
    "df_putin.head()"
   ]
  },
  {
   "cell_type": "code",
   "execution_count": 223,
   "metadata": {},
   "outputs": [
    {
     "data": {
      "text/html": [
       "<div>\n",
       "<style scoped>\n",
       "    .dataframe tbody tr th:only-of-type {\n",
       "        vertical-align: middle;\n",
       "    }\n",
       "\n",
       "    .dataframe tbody tr th {\n",
       "        vertical-align: top;\n",
       "    }\n",
       "\n",
       "    .dataframe thead th {\n",
       "        text-align: right;\n",
       "    }\n",
       "</style>\n",
       "<table border=\"1\" class=\"dataframe\">\n",
       "  <thead>\n",
       "    <tr style=\"text-align: right;\">\n",
       "      <th></th>\n",
       "      <th>url</th>\n",
       "      <th>person</th>\n",
       "    </tr>\n",
       "  </thead>\n",
       "  <tbody>\n",
       "    <tr>\n",
       "      <th>0</th>\n",
       "      <td>http://www.obeschania.ru/documents/promises/pl...</td>\n",
       "      <td>Медведев</td>\n",
       "    </tr>\n",
       "    <tr>\n",
       "      <th>1</th>\n",
       "      <td>http://www.obeschania.ru/documents/promises/me...</td>\n",
       "      <td>Медведев</td>\n",
       "    </tr>\n",
       "    <tr>\n",
       "      <th>2</th>\n",
       "      <td>http://www.obeschania.ru/documents/promises/st...</td>\n",
       "      <td>Медведев</td>\n",
       "    </tr>\n",
       "    <tr>\n",
       "      <th>3</th>\n",
       "      <td>http://www.obeschania.ru/documents/promises/me...</td>\n",
       "      <td>Медведев</td>\n",
       "    </tr>\n",
       "    <tr>\n",
       "      <th>4</th>\n",
       "      <td>http://www.obeschania.ru/documents/promises/re...</td>\n",
       "      <td>Медведев</td>\n",
       "    </tr>\n",
       "  </tbody>\n",
       "</table>\n",
       "</div>"
      ],
      "text/plain": [
       "                                                 url    person\n",
       "0  http://www.obeschania.ru/documents/promises/pl...  Медведев\n",
       "1  http://www.obeschania.ru/documents/promises/me...  Медведев\n",
       "2  http://www.obeschania.ru/documents/promises/st...  Медведев\n",
       "3  http://www.obeschania.ru/documents/promises/me...  Медведев\n",
       "4  http://www.obeschania.ru/documents/promises/re...  Медведев"
      ]
     },
     "execution_count": 223,
     "metadata": {},
     "output_type": "execute_result"
    }
   ],
   "source": [
    "df_medvedev.head()"
   ]
  },
  {
   "cell_type": "markdown",
   "metadata": {},
   "source": [
    "скачаем тексты статей"
   ]
  },
  {
   "cell_type": "code",
   "execution_count": 224,
   "metadata": {},
   "outputs": [],
   "source": [
    "from tqdm import tqdm"
   ]
  },
  {
   "cell_type": "code",
   "execution_count": 225,
   "metadata": {},
   "outputs": [
    {
     "name": "stdout",
     "output_type": "stream",
     "text": [
      "CPU times: user 4.01 s, sys: 137 ms, total: 4.15 s\n",
      "Wall time: 8.33 s\n"
     ]
    }
   ],
   "source": [
    "%%time\n",
    "headers_texts_putin = pool.map(get_article_text, urls_putin)"
   ]
  },
  {
   "cell_type": "code",
   "execution_count": 226,
   "metadata": {},
   "outputs": [
    {
     "name": "stdout",
     "output_type": "stream",
     "text": [
      "CPU times: user 3.95 s, sys: 133 ms, total: 4.08 s\n",
      "Wall time: 6.62 s\n"
     ]
    }
   ],
   "source": [
    "%%time\n",
    "headers_texts_medvedev = pool.map(get_article_text, urls_medvedev)"
   ]
  },
  {
   "cell_type": "code",
   "execution_count": 227,
   "metadata": {},
   "outputs": [],
   "source": [
    "pool.close()\n",
    "pool.join()"
   ]
  },
  {
   "cell_type": "markdown",
   "metadata": {},
   "source": [
    "объединим в датасет"
   ]
  },
  {
   "cell_type": "code",
   "execution_count": 228,
   "metadata": {},
   "outputs": [],
   "source": [
    "df_putin[\"header\"] = [t[0] for t in headers_texts_putin]\n",
    "df_putin[\"text\"] = [t[1] for t in headers_texts_putin]\n",
    "df_medvedev[\"header\"] = [t[0] for t in headers_texts_medvedev]\n",
    "df_medvedev[\"text\"] = [t[1] for t in headers_texts_medvedev]"
   ]
  },
  {
   "cell_type": "code",
   "execution_count": 229,
   "metadata": {},
   "outputs": [
    {
     "data": {
      "text/html": [
       "<div>\n",
       "<style scoped>\n",
       "    .dataframe tbody tr th:only-of-type {\n",
       "        vertical-align: middle;\n",
       "    }\n",
       "\n",
       "    .dataframe tbody tr th {\n",
       "        vertical-align: top;\n",
       "    }\n",
       "\n",
       "    .dataframe thead th {\n",
       "        text-align: right;\n",
       "    }\n",
       "</style>\n",
       "<table border=\"1\" class=\"dataframe\">\n",
       "  <thead>\n",
       "    <tr style=\"text-align: right;\">\n",
       "      <th></th>\n",
       "      <th>url</th>\n",
       "      <th>person</th>\n",
       "      <th>header</th>\n",
       "      <th>text</th>\n",
       "    </tr>\n",
       "  </thead>\n",
       "  <tbody>\n",
       "    <tr>\n",
       "      <th>0</th>\n",
       "      <td>http://www.obeschania.ru/documents/promises/so...</td>\n",
       "      <td>Путин</td>\n",
       "      <td>Соревнования для паралимпийцев будут проводить...</td>\n",
       "      <td>Открытые соревнования для паралимпийцев будут ...</td>\n",
       "    </tr>\n",
       "    <tr>\n",
       "      <th>1</th>\n",
       "      <td>http://www.obeschania.ru/documents/promises/pe...</td>\n",
       "      <td>Путин</td>\n",
       "      <td>Поможем со строительством перинатального центр...</td>\n",
       "      <td>Президент РФ Владимир Путин пообещал помочь со...</td>\n",
       "    </tr>\n",
       "    <tr>\n",
       "      <th>2</th>\n",
       "      <td>http://www.obeschania.ru/documents/promises/ar...</td>\n",
       "      <td>Путин</td>\n",
       "      <td>Перевооружение российской армии и флота заверш...</td>\n",
       "      <td>Масштабное перевооружение российской армии и ф...</td>\n",
       "    </tr>\n",
       "    <tr>\n",
       "      <th>3</th>\n",
       "      <td>http://www.obeschania.ru/documents/promises/ar...</td>\n",
       "      <td>Путин</td>\n",
       "      <td>Лично проверю результаты \"генеральной уборки\" ...</td>\n",
       "      <td>Президенту РФ Владимир Путин пообещал в следую...</td>\n",
       "    </tr>\n",
       "    <tr>\n",
       "      <th>4</th>\n",
       "      <td>http://www.obeschania.ru/documents/promises/pu...</td>\n",
       "      <td>Путин</td>\n",
       "      <td>Сохраним поддержку материнства в числе национа...</td>\n",
       "      <td>Президент РФ Владимир Путин в ходе церемонии в...</td>\n",
       "    </tr>\n",
       "  </tbody>\n",
       "</table>\n",
       "</div>"
      ],
      "text/plain": [
       "                                                 url person  \\\n",
       "0  http://www.obeschania.ru/documents/promises/so...  Путин   \n",
       "1  http://www.obeschania.ru/documents/promises/pe...  Путин   \n",
       "2  http://www.obeschania.ru/documents/promises/ar...  Путин   \n",
       "3  http://www.obeschania.ru/documents/promises/ar...  Путин   \n",
       "4  http://www.obeschania.ru/documents/promises/pu...  Путин   \n",
       "\n",
       "                                              header  \\\n",
       "0  Соревнования для паралимпийцев будут проводить...   \n",
       "1  Поможем со строительством перинатального центр...   \n",
       "2  Перевооружение российской армии и флота заверш...   \n",
       "3  Лично проверю результаты \"генеральной уборки\" ...   \n",
       "4  Сохраним поддержку материнства в числе национа...   \n",
       "\n",
       "                                                text  \n",
       "0  Открытые соревнования для паралимпийцев будут ...  \n",
       "1  Президент РФ Владимир Путин пообещал помочь со...  \n",
       "2  Масштабное перевооружение российской армии и ф...  \n",
       "3  Президенту РФ Владимир Путин пообещал в следую...  \n",
       "4  Президент РФ Владимир Путин в ходе церемонии в...  "
      ]
     },
     "execution_count": 229,
     "metadata": {},
     "output_type": "execute_result"
    }
   ],
   "source": [
    "df_putin.head()"
   ]
  },
  {
   "cell_type": "code",
   "execution_count": 230,
   "metadata": {},
   "outputs": [
    {
     "data": {
      "text/html": [
       "<div>\n",
       "<style scoped>\n",
       "    .dataframe tbody tr th:only-of-type {\n",
       "        vertical-align: middle;\n",
       "    }\n",
       "\n",
       "    .dataframe tbody tr th {\n",
       "        vertical-align: top;\n",
       "    }\n",
       "\n",
       "    .dataframe thead th {\n",
       "        text-align: right;\n",
       "    }\n",
       "</style>\n",
       "<table border=\"1\" class=\"dataframe\">\n",
       "  <thead>\n",
       "    <tr style=\"text-align: right;\">\n",
       "      <th></th>\n",
       "      <th>url</th>\n",
       "      <th>person</th>\n",
       "      <th>header</th>\n",
       "      <th>text</th>\n",
       "    </tr>\n",
       "  </thead>\n",
       "  <tbody>\n",
       "    <tr>\n",
       "      <th>0</th>\n",
       "      <td>http://www.obeschania.ru/documents/promises/pl...</td>\n",
       "      <td>Медведев</td>\n",
       "      <td>Примем план развития конкуренции в России</td>\n",
       "      <td>В ближайшее время будет разработан и представл...</td>\n",
       "    </tr>\n",
       "    <tr>\n",
       "      <th>1</th>\n",
       "      <td>http://www.obeschania.ru/documents/promises/me...</td>\n",
       "      <td>Медведев</td>\n",
       "      <td>\"Единая Россия\" не будет принимать непопулярны...</td>\n",
       "      <td>\"Единая Россия\" не будет \"отдыхать\" после побе...</td>\n",
       "    </tr>\n",
       "    <tr>\n",
       "      <th>2</th>\n",
       "      <td>http://www.obeschania.ru/documents/promises/st...</td>\n",
       "      <td>Медведев</td>\n",
       "      <td>Льготная ставка по кредитам для аграриев зараб...</td>\n",
       "      <td>Льготная ставка по кредитам для аграриев в 5% ...</td>\n",
       "    </tr>\n",
       "    <tr>\n",
       "      <th>3</th>\n",
       "      <td>http://www.obeschania.ru/documents/promises/me...</td>\n",
       "      <td>Медведев</td>\n",
       "      <td>Россия будет отстаивать права своих граждан в ...</td>\n",
       "      <td>Россия как сильное и влиятельное государство б...</td>\n",
       "    </tr>\n",
       "    <tr>\n",
       "      <th>4</th>\n",
       "      <td>http://www.obeschania.ru/documents/promises/re...</td>\n",
       "      <td>Медведев</td>\n",
       "      <td>Правительство выполнит программу строительства...</td>\n",
       "      <td>Правительство РФ несмотря на сложности с бюдже...</td>\n",
       "    </tr>\n",
       "  </tbody>\n",
       "</table>\n",
       "</div>"
      ],
      "text/plain": [
       "                                                 url    person  \\\n",
       "0  http://www.obeschania.ru/documents/promises/pl...  Медведев   \n",
       "1  http://www.obeschania.ru/documents/promises/me...  Медведев   \n",
       "2  http://www.obeschania.ru/documents/promises/st...  Медведев   \n",
       "3  http://www.obeschania.ru/documents/promises/me...  Медведев   \n",
       "4  http://www.obeschania.ru/documents/promises/re...  Медведев   \n",
       "\n",
       "                                              header  \\\n",
       "0          Примем план развития конкуренции в России   \n",
       "1  \"Единая Россия\" не будет принимать непопулярны...   \n",
       "2  Льготная ставка по кредитам для аграриев зараб...   \n",
       "3  Россия будет отстаивать права своих граждан в ...   \n",
       "4  Правительство выполнит программу строительства...   \n",
       "\n",
       "                                                text  \n",
       "0  В ближайшее время будет разработан и представл...  \n",
       "1  \"Единая Россия\" не будет \"отдыхать\" после побе...  \n",
       "2  Льготная ставка по кредитам для аграриев в 5% ...  \n",
       "3  Россия как сильное и влиятельное государство б...  \n",
       "4  Правительство РФ несмотря на сложности с бюдже...  "
      ]
     },
     "execution_count": 230,
     "metadata": {},
     "output_type": "execute_result"
    }
   ],
   "source": [
    "df_medvedev.head()"
   ]
  },
  {
   "cell_type": "code",
   "execution_count": 231,
   "metadata": {},
   "outputs": [
    {
     "data": {
      "text/plain": [
       "((170, 4), (166, 4))"
      ]
     },
     "execution_count": 231,
     "metadata": {},
     "output_type": "execute_result"
    }
   ],
   "source": [
    "df_putin.shape, df_medvedev.shape"
   ]
  },
  {
   "cell_type": "code",
   "execution_count": 232,
   "metadata": {},
   "outputs": [
    {
     "name": "stdout",
     "output_type": "stream",
     "text": [
      "<class 'pandas.core.frame.DataFrame'>\n",
      "RangeIndex: 170 entries, 0 to 169\n",
      "Data columns (total 4 columns):\n",
      "url       170 non-null object\n",
      "person    170 non-null object\n",
      "header    170 non-null object\n",
      "text      170 non-null object\n",
      "dtypes: object(4)\n",
      "memory usage: 5.4+ KB\n"
     ]
    }
   ],
   "source": [
    "df_putin.info()"
   ]
  },
  {
   "cell_type": "code",
   "execution_count": 233,
   "metadata": {},
   "outputs": [
    {
     "name": "stdout",
     "output_type": "stream",
     "text": [
      "<class 'pandas.core.frame.DataFrame'>\n",
      "RangeIndex: 166 entries, 0 to 165\n",
      "Data columns (total 4 columns):\n",
      "url       166 non-null object\n",
      "person    166 non-null object\n",
      "header    166 non-null object\n",
      "text      166 non-null object\n",
      "dtypes: object(4)\n",
      "memory usage: 5.3+ KB\n"
     ]
    }
   ],
   "source": [
    "df_medvedev.info()"
   ]
  },
  {
   "cell_type": "code",
   "execution_count": 234,
   "metadata": {},
   "outputs": [],
   "source": [
    "df = pd.concat([df_putin, df_medvedev])"
   ]
  },
  {
   "cell_type": "code",
   "execution_count": 236,
   "metadata": {},
   "outputs": [],
   "source": [
    "df.to_pickle('promises.pkl')"
   ]
  },
  {
   "cell_type": "markdown",
   "metadata": {},
   "source": [
    "длина заголовка"
   ]
  },
  {
   "cell_type": "code",
   "execution_count": 237,
   "metadata": {},
   "outputs": [
    {
     "data": {
      "image/png": "[encoded data removed]",
      "text/plain": [
       "<Figure size 720x360 with 1 Axes>"
      ]
     },
     "metadata": {
      "needs_background": "light"
     },
     "output_type": "display_data"
    }
   ],
   "source": [
    "plt.figure(figsize=(10,5))\n",
    "ax = df.header.apply(len).hist()"
   ]
  },
  {
   "cell_type": "markdown",
   "metadata": {},
   "source": [
    "длина текста"
   ]
  },
  {
   "cell_type": "code",
   "execution_count": 238,
   "metadata": {},
   "outputs": [
    {
     "data": {
      "image/png": "[encoded data removed]",
      "text/plain": [
       "<Figure size 720x360 with 1 Axes>"
      ]
     },
     "metadata": {
      "needs_background": "light"
     },
     "output_type": "display_data"
    }
   ],
   "source": [
    "plt.figure(figsize=(10,5))\n",
    "ax = df.text.apply(len).hist()"
   ]
  },
  {
   "cell_type": "markdown",
   "metadata": {},
   "source": [
    "# Лемматизация слов"
   ]
  },
  {
   "cell_type": "markdown",
   "metadata": {},
   "source": [
    "приведём все слова в текстах к начальной форме слова - так мы сильно сократим размерность пространства признаков"
   ]
  },
  {
   "cell_type": "markdown",
   "metadata": {},
   "source": [
    "хоть pymorphy2 и достаточно быстрый, лучше его упаковывать в класс со своим кэшем (который хорошо бы ещё куда-то выгружать при окончании и загружать в начале работы, это можете доделать. Удобно для этих целей использовать json)"
   ]
  },
  {
   "cell_type": "code",
   "execution_count": 239,
   "metadata": {},
   "outputs": [],
   "source": [
    "import pymorphy2\n",
    "from nltk.tokenize import word_tokenize"
   ]
  },
  {
   "cell_type": "code",
   "execution_count": 302,
   "metadata": {},
   "outputs": [],
   "source": [
    "stopw = set([u'это', u'году', u'года', u'также', u'этот',\n",
    "        u'которые', u'который', u'которая', u'поэтому',\n",
    "        u'весь', u'свой', u'мочь', u'eтот', u'например',\n",
    "        u'какой-то', u'кто-то', u'самый', u'очень', u'несколько',\n",
    "        u'источник', u'стать', u'время', u'пока', u'однако',\n",
    "        u'около', u'немного', u'кроме', u'гораздо', u'каждый',\n",
    "        u'первый', u'вполне', u'из-за', u'из-под',\n",
    "        u'второй', u'нужно', u'нужный', u'просто', u'большой',\n",
    "        u'хороший', u'хотеть', u'начать', u'должный', u'новый', u'день',\n",
    "        u'метр', u'получить', u'далее', u'именно', u'апрель',\n",
    "        u'сообщать', u'разный', u'говорить', u'делать', u'год', u'быть',\n",
    "        u'появиться', u'2016', u'март', u'2019', u'человек', u'россия',\n",
    "        u'2015', u'получить', u'иметь', u'составить', u'дать', u'читать',\n",
    "        u'ничто', u'достаточно', u'использовать', u'путин', u'медведев', \n",
    "        u'принять', u'практически', u'жизнь', u'что', u'президент',\n",
    "        u'находиться', u'месяц', u'достаточно', u'что-то', u'часто',\n",
    "        u'хотеть', u'начаться', u'делать', u'событие', u'составлять',\n",
    "        u'остаться', u'заявить', u'сделать', u'дело',\n",
    "        u'примерно', u'попасть', u'хотя', u'лишь', u'первое',\n",
    "        u'больший', u'решить', u'число', u'идти', u'давать', u'вопрос',\n",
    "        u'сегодня', u'часть', u'высокий', u'главный', u'случай', u'место',\n",
    "        u'конец', u'работать', u'работа', u'слово', u'важный', u'сказать',\n",
    "        u'правительство', u'дмитрий', u'российский', u'премьер-министр',\n",
    "        u'тот', u'владимир', u'государство', u'страна', u'российский',\n",
    "        u'глава', u'для', u'тот', u'2018', u'срок', u'наш', u'она', u'уже', u'только',\n",
    "        u'они', u'такой', u'чтобы', u'при', u'как', u'премьер', u'председатель', \n",
    "        u'ещё', u'президентский',]\n",
    ")\n",
    "\n"
   ]
  },
  {
   "cell_type": "code",
   "execution_count": 307,
   "metadata": {},
   "outputs": [],
   "source": [
    "class MorphProvider:\n",
    "    def __init__(self):\n",
    "        self.cache = {}\n",
    "        self.morph = pymorphy2.MorphAnalyzer()\n",
    "    \n",
    "    def __call__(self, w):\n",
    "        w = w.lower()\n",
    "        cached = self.cache.get(w)\n",
    "        if cached:\n",
    "            return cached\n",
    "        try:\n",
    "            morphed = self.morph.parse(w)[0].normal_form\n",
    "            if morphed not in stopw:\n",
    "                self.cache[w] = morphed\n",
    "                return morphed \n",
    "            return ''\n",
    "        except:\n",
    "            return None\n",
    "    \n",
    "    def morph_string(self, s):\n",
    "        words = word_tokenize(s)\n",
    "        return \" \".join([self.__call__(w) for w in words])"
   ]
  },
  {
   "cell_type": "code",
   "execution_count": 308,
   "metadata": {},
   "outputs": [],
   "source": [
    "morph = MorphProvider()"
   ]
  },
  {
   "cell_type": "code",
   "execution_count": 309,
   "metadata": {},
   "outputs": [],
   "source": [
    "from tqdm import tqdm"
   ]
  },
  {
   "cell_type": "code",
   "execution_count": 310,
   "metadata": {
    "scrolled": true
   },
   "outputs": [
    {
     "name": "stderr",
     "output_type": "stream",
     "text": [
      "\n",
      "\n",
      "\n",
      "\n",
      "  0%|          | 0/336 [00:00<?, ?it/s]\u001b[A\u001b[A\u001b[A\u001b[A\n",
      "\n",
      "\n",
      "\n",
      "  1%|          | 2/336 [00:00<00:20, 16.13it/s]\u001b[A\u001b[A\u001b[A\u001b[A\n",
      "\n",
      "\n",
      "\n",
      "  1%|          | 4/336 [00:00<00:19, 17.00it/s]\u001b[A\u001b[A\u001b[A\u001b[A\n",
      "\n",
      "\n",
      "\n",
      "  2%|▏         | 6/336 [00:00<00:19, 16.78it/s]\u001b[A\u001b[A\u001b[A\u001b[A\n",
      "\n",
      "\n",
      "\n",
      "  2%|▏         | 8/336 [00:00<00:19, 16.60it/s]\u001b[A\u001b[A\u001b[A\u001b[A\n",
      "\n",
      "\n",
      "\n",
      "  3%|▎         | 10/336 [00:00<00:18, 17.21it/s]\u001b[A\u001b[A\u001b[A\u001b[A\n",
      "\n",
      "\n",
      "\n",
      "  4%|▍         | 13/336 [00:00<00:16, 19.01it/s]\u001b[A\u001b[A\u001b[A\u001b[A\n",
      "\n",
      "\n",
      "\n",
      "  5%|▍         | 16/336 [00:00<00:15, 20.42it/s]\u001b[A\u001b[A\u001b[A\u001b[A\n",
      "\n",
      "\n",
      "\n",
      "  6%|▌         | 19/336 [00:00<00:16, 19.73it/s]\u001b[A\u001b[A\u001b[A\u001b[A\n",
      "\n",
      "\n",
      "\n",
      "  6%|▋         | 21/336 [00:01<00:16, 19.31it/s]\u001b[A\u001b[A\u001b[A\u001b[A\n",
      "\n",
      "\n",
      "\n",
      "  7%|▋         | 25/336 [00:01<00:13, 22.56it/s]\u001b[A\u001b[A\u001b[A\u001b[A\n",
      "\n",
      "\n",
      "\n",
      "  8%|▊         | 28/336 [00:01<00:13, 23.38it/s]\u001b[A\u001b[A\u001b[A\u001b[A\n",
      "\n",
      "\n",
      "\n",
      "  9%|▉         | 31/336 [00:01<00:13, 22.64it/s]\u001b[A\u001b[A\u001b[A\u001b[A\n",
      "\n",
      "\n",
      "\n",
      " 11%|█         | 36/336 [00:01<00:11, 26.11it/s]\u001b[A\u001b[A\u001b[A\u001b[A\n",
      "\n",
      "\n",
      "\n",
      " 12%|█▏        | 39/336 [00:01<00:12, 23.87it/s]\u001b[A\u001b[A\u001b[A\u001b[A\n",
      "\n",
      "\n",
      "\n",
      " 12%|█▎        | 42/336 [00:01<00:13, 21.23it/s]\u001b[A\u001b[A\u001b[A\u001b[A\n",
      "\n",
      "\n",
      "\n",
      " 13%|█▎        | 45/336 [00:02<00:14, 19.88it/s]\u001b[A\u001b[A\u001b[A\u001b[A\n",
      "\n",
      "\n",
      "\n",
      " 14%|█▍        | 48/336 [00:02<00:15, 18.28it/s]\u001b[A\u001b[A\u001b[A\u001b[A\n",
      "\n",
      "\n",
      "\n",
      " 15%|█▌        | 51/336 [00:02<00:15, 18.79it/s]\u001b[A\u001b[A\u001b[A\u001b[A\n",
      "\n",
      "\n",
      "\n",
      " 16%|█▌        | 54/336 [00:02<00:14, 19.85it/s]\u001b[A\u001b[A\u001b[A\u001b[A\n",
      "\n",
      "\n",
      "\n",
      " 17%|█▋        | 57/336 [00:02<00:14, 18.75it/s]\u001b[A\u001b[A\u001b[A\u001b[A\n",
      "\n",
      "\n",
      "\n",
      " 18%|█▊        | 60/336 [00:02<00:14, 18.79it/s]\u001b[A\u001b[A\u001b[A\u001b[A\n",
      "\n",
      "\n",
      "\n",
      " 18%|█▊        | 62/336 [00:03<00:14, 18.97it/s]\u001b[A\u001b[A\u001b[A\u001b[A\n",
      "\n",
      "\n",
      "\n",
      " 19%|█▉        | 64/336 [00:03<00:15, 17.76it/s]\u001b[A\u001b[A\u001b[A\u001b[A\n",
      "\n",
      "\n",
      "\n",
      " 20%|█▉        | 66/336 [00:03<00:16, 16.61it/s]\u001b[A\u001b[A\u001b[A\u001b[A\n",
      "\n",
      "\n",
      "\n",
      " 20%|██        | 68/336 [00:03<00:15, 17.26it/s]\u001b[A\u001b[A\u001b[A\u001b[A\n",
      "\n",
      "\n",
      "\n",
      " 21%|██        | 70/336 [00:03<00:15, 16.96it/s]\u001b[A\u001b[A\u001b[A\u001b[A\n",
      "\n",
      "\n",
      "\n",
      " 22%|██▏       | 73/336 [00:03<00:15, 17.45it/s]\u001b[A\u001b[A\u001b[A\u001b[A\n",
      "\n",
      "\n",
      "\n",
      " 23%|██▎       | 76/336 [00:03<00:13, 19.52it/s]\u001b[A\u001b[A\u001b[A\u001b[A\n",
      "\n",
      "\n",
      "\n",
      " 24%|██▎       | 79/336 [00:03<00:12, 20.56it/s]\u001b[A\u001b[A\u001b[A\u001b[A\n",
      "\n",
      "\n",
      "\n",
      " 24%|██▍       | 82/336 [00:04<00:12, 21.13it/s]\u001b[A\u001b[A\u001b[A\u001b[A\n",
      "\n",
      "\n",
      "\n",
      " 25%|██▌       | 85/336 [00:04<00:12, 20.12it/s]\u001b[A\u001b[A\u001b[A\u001b[A\n",
      "\n",
      "\n",
      "\n",
      " 26%|██▌       | 88/336 [00:04<00:12, 19.88it/s]\u001b[A\u001b[A\u001b[A\u001b[A\n",
      "\n",
      "\n",
      "\n",
      " 27%|██▋       | 91/336 [00:04<00:12, 18.99it/s]\u001b[A\u001b[A\u001b[A\u001b[A\n",
      "\n",
      "\n",
      "\n",
      " 28%|██▊       | 93/336 [00:04<00:14, 17.11it/s]\u001b[A\u001b[A\u001b[A\u001b[A\n",
      "\n",
      "\n",
      "\n",
      " 28%|██▊       | 95/336 [00:04<00:14, 16.95it/s]\u001b[A\u001b[A\u001b[A\u001b[A\n",
      "\n",
      "\n",
      "\n",
      " 29%|██▉       | 98/336 [00:04<00:12, 18.44it/s]\u001b[A\u001b[A\u001b[A\u001b[A\n",
      "\n",
      "\n",
      "\n",
      " 30%|███       | 101/336 [00:05<00:12, 19.24it/s]\u001b[A\u001b[A\u001b[A\u001b[A\n",
      "\n",
      "\n",
      "\n",
      " 31%|███       | 103/336 [00:05<00:12, 18.07it/s]\u001b[A\u001b[A\u001b[A\u001b[A\n",
      "\n",
      "\n",
      "\n",
      " 31%|███▏      | 105/336 [00:05<00:13, 17.37it/s]\u001b[A\u001b[A\u001b[A\u001b[A\n",
      "\n",
      "\n",
      "\n",
      " 32%|███▏      | 108/336 [00:05<00:12, 18.74it/s]\u001b[A\u001b[A\u001b[A\u001b[A\n",
      "\n",
      "\n",
      "\n",
      " 33%|███▎      | 111/336 [00:05<00:10, 20.48it/s]\u001b[A\u001b[A\u001b[A\u001b[A\n",
      "\n",
      "\n",
      "\n",
      " 35%|███▍      | 117/336 [00:05<00:08, 25.05it/s]\u001b[A\u001b[A\u001b[A\u001b[A\n",
      "\n",
      "\n",
      "\n",
      " 36%|███▌      | 121/336 [00:05<00:08, 25.66it/s]\u001b[A\u001b[A\u001b[A\u001b[A\n",
      "\n",
      "\n",
      "\n",
      " 38%|███▊      | 126/336 [00:05<00:07, 29.79it/s]\u001b[A\u001b[A\u001b[A\u001b[A\n",
      "\n",
      "\n",
      "\n",
      " 39%|███▊      | 130/336 [00:06<00:07, 28.81it/s]\u001b[A\u001b[A\u001b[A\u001b[A\n",
      "\n",
      "\n",
      "\n",
      " 40%|███▉      | 134/336 [00:06<00:06, 29.50it/s]\u001b[A\u001b[A\u001b[A\u001b[A\n",
      "\n",
      "\n",
      "\n",
      " 41%|████      | 138/336 [00:06<00:06, 28.47it/s]\u001b[A\u001b[A\u001b[A\u001b[A\n",
      "\n",
      "\n",
      "\n",
      " 42%|████▏     | 142/336 [00:06<00:06, 29.63it/s]\u001b[A\u001b[A\u001b[A\u001b[A\n",
      "\n",
      "\n",
      "\n",
      " 43%|████▎     | 146/336 [00:06<00:06, 30.54it/s]\u001b[A\u001b[A\u001b[A\u001b[A\n",
      "\n",
      "\n",
      "\n",
      " 45%|████▍     | 150/336 [00:06<00:06, 28.43it/s]\u001b[A\u001b[A\u001b[A\u001b[A\n",
      "\n",
      "\n",
      "\n",
      " 46%|████▌     | 153/336 [00:06<00:07, 25.83it/s]\u001b[A\u001b[A\u001b[A\u001b[A\n",
      "\n",
      "\n",
      "\n",
      " 46%|████▋     | 156/336 [00:07<00:07, 25.16it/s]\u001b[A\u001b[A\u001b[A\u001b[A\n",
      "\n",
      "\n",
      "\n",
      " 47%|████▋     | 159/336 [00:07<00:06, 25.70it/s]\u001b[A\u001b[A\u001b[A\u001b[A\n",
      "\n",
      "\n",
      "\n",
      " 49%|████▊     | 163/336 [00:07<00:06, 26.44it/s]\u001b[A\u001b[A\u001b[A\u001b[A\n",
      "\n",
      "\n",
      "\n",
      " 49%|████▉     | 166/336 [00:07<00:06, 24.80it/s]\u001b[A\u001b[A\u001b[A\u001b[A\n",
      "\n",
      "\n",
      "\n",
      " 50%|█████     | 169/336 [00:07<00:06, 24.66it/s]\u001b[A\u001b[A\u001b[A\u001b[A\n",
      "\n",
      "\n",
      "\n",
      " 51%|█████     | 172/336 [00:07<00:06, 24.59it/s]\u001b[A\u001b[A\u001b[A\u001b[A\n",
      "\n",
      "\n",
      "\n",
      " 52%|█████▏    | 175/336 [00:07<00:06, 24.04it/s]\u001b[A\u001b[A\u001b[A\u001b[A\n",
      "\n",
      "\n",
      "\n",
      " 53%|█████▎    | 179/336 [00:07<00:05, 26.76it/s]\u001b[A\u001b[A\u001b[A\u001b[A\n",
      "\n",
      "\n",
      "\n",
      " 54%|█████▍    | 182/336 [00:08<00:05, 25.92it/s]\u001b[A\u001b[A\u001b[A\u001b[A\n",
      "\n",
      "\n",
      "\n",
      " 55%|█████▌    | 186/336 [00:08<00:05, 28.51it/s]\u001b[A\u001b[A\u001b[A\u001b[A\n",
      "\n",
      "\n",
      "\n",
      " 56%|█████▋    | 189/336 [00:08<00:05, 27.58it/s]\u001b[A\u001b[A\u001b[A\u001b[A\n",
      "\n",
      "\n",
      "\n",
      " 57%|█████▋    | 192/336 [00:08<00:05, 27.25it/s]\u001b[A\u001b[A\u001b[A\u001b[A\n",
      "\n",
      "\n",
      "\n",
      " 59%|█████▊    | 197/336 [00:08<00:04, 31.17it/s]\u001b[A\u001b[A\u001b[A\u001b[A\n",
      "\n",
      "\n",
      "\n",
      " 60%|█████▉    | 201/336 [00:08<00:04, 30.95it/s]\u001b[A\u001b[A\u001b[A\u001b[A\n",
      "\n",
      "\n",
      "\n",
      " 61%|██████    | 205/336 [00:08<00:04, 29.35it/s]\u001b[A\u001b[A\u001b[A\u001b[A\n",
      "\n",
      "\n",
      "\n",
      " 62%|██████▏   | 209/336 [00:08<00:04, 29.52it/s]\u001b[A\u001b[A\u001b[A\u001b[A\n",
      "\n",
      "\n",
      "\n",
      " 63%|██████▎   | 213/336 [00:09<00:04, 28.13it/s]\u001b[A\u001b[A\u001b[A\u001b[A\n",
      "\n",
      "\n",
      "\n",
      " 64%|██████▍   | 216/336 [00:09<00:04, 26.86it/s]\u001b[A\u001b[A\u001b[A\u001b[A\n",
      "\n",
      "\n",
      "\n",
      " 65%|██████▌   | 219/336 [00:09<00:04, 27.70it/s]\u001b[A\u001b[A\u001b[A\u001b[A\n",
      "\n",
      "\n",
      "\n",
      " 66%|██████▌   | 222/336 [00:09<00:04, 26.88it/s]\u001b[A\u001b[A\u001b[A\u001b[A\n",
      "\n",
      "\n",
      "\n",
      " 67%|██████▋   | 225/336 [00:09<00:04, 27.12it/s]\u001b[A\u001b[A\u001b[A\u001b[A\n",
      "\n",
      "\n",
      "\n",
      " 68%|██████▊   | 228/336 [00:09<00:04, 26.17it/s]\u001b[A\u001b[A\u001b[A\u001b[A\n",
      "\n",
      "\n",
      "\n",
      " 69%|██████▉   | 231/336 [00:09<00:04, 22.56it/s]\u001b[A\u001b[A\u001b[A\u001b[A\n",
      "\n",
      "\n",
      "\n",
      " 70%|██████▉   | 234/336 [00:09<00:04, 22.25it/s]\u001b[A\u001b[A\u001b[A\u001b[A\n",
      "\n",
      "\n",
      "\n",
      " 71%|███████   | 238/336 [00:10<00:03, 24.95it/s]\u001b[A\u001b[A\u001b[A\u001b[A\n",
      "\n",
      "\n",
      "\n",
      " 72%|███████▏  | 241/336 [00:10<00:04, 23.35it/s]\u001b[A\u001b[A\u001b[A\u001b[A\n",
      "\n",
      "\n",
      "\n",
      " 73%|███████▎  | 244/336 [00:10<00:04, 21.73it/s]\u001b[A\u001b[A\u001b[A\u001b[A\n",
      "\n",
      "\n",
      "\n",
      " 74%|███████▎  | 247/336 [00:10<00:05, 17.56it/s]\u001b[A\u001b[A\u001b[A\u001b[A\n",
      "\n",
      "\n",
      "\n",
      " 74%|███████▍  | 249/336 [00:10<00:05, 16.21it/s]\u001b[A\u001b[A\u001b[A\u001b[A\n",
      "\n",
      "\n",
      "\n",
      " 75%|███████▌  | 252/336 [00:10<00:04, 18.69it/s]\u001b[A\u001b[A\u001b[A\u001b[A\n",
      "\n",
      "\n",
      "\n",
      " 76%|███████▌  | 256/336 [00:10<00:03, 21.71it/s]\u001b[A\u001b[A\u001b[A\u001b[A\n",
      "\n",
      "\n",
      "\n",
      " 77%|███████▋  | 259/336 [00:11<00:03, 21.48it/s]\u001b[A\u001b[A\u001b[A\u001b[A\n",
      "\n",
      "\n",
      "\n",
      " 78%|███████▊  | 263/336 [00:11<00:03, 23.04it/s]\u001b[A\u001b[A\u001b[A\u001b[A\n",
      "\n",
      "\n",
      "\n",
      " 80%|████████  | 269/336 [00:11<00:02, 27.25it/s]\u001b[A\u001b[A\u001b[A\u001b[A\n",
      "\n",
      "\n",
      "\n",
      " 81%|████████▏ | 273/336 [00:11<00:02, 29.72it/s]\u001b[A\u001b[A\u001b[A\u001b[A\n",
      "\n",
      "\n",
      "\n",
      " 82%|████████▏ | 277/336 [00:11<00:02, 29.09it/s]\u001b[A\u001b[A\u001b[A\u001b[A\n",
      "\n",
      "\n",
      "\n",
      " 84%|████████▎ | 281/336 [00:11<00:01, 30.65it/s]\u001b[A\u001b[A\u001b[A\u001b[A\n",
      "\n",
      "\n",
      "\n",
      " 85%|████████▍ | 285/336 [00:11<00:01, 32.96it/s]\u001b[A\u001b[A\u001b[A\u001b[A\n",
      "\n",
      "\n",
      "\n",
      " 86%|████████▌ | 289/336 [00:11<00:01, 33.21it/s]\u001b[A\u001b[A\u001b[A\u001b[A\n",
      "\n",
      "\n",
      "\n",
      " 87%|████████▋ | 293/336 [00:12<00:01, 34.17it/s]\u001b[A\u001b[A\u001b[A\u001b[A\n",
      "\n",
      "\n",
      "\n",
      " 89%|████████▊ | 298/336 [00:12<00:01, 35.23it/s]\u001b[A\u001b[A\u001b[A\u001b[A\n",
      "\n",
      "\n",
      "\n",
      " 90%|████████▉ | 302/336 [00:12<00:00, 35.71it/s]\u001b[A\u001b[A\u001b[A\u001b[A\n",
      "\n",
      "\n",
      "\n",
      " 91%|█████████ | 306/336 [00:12<00:00, 31.03it/s]\u001b[A\u001b[A\u001b[A\u001b[A\n",
      "\n",
      "\n",
      "\n",
      " 92%|█████████▏| 310/336 [00:12<00:00, 29.59it/s]\u001b[A\u001b[A\u001b[A\u001b[A\n",
      "\n",
      "\n",
      "\n",
      " 93%|█████████▎| 314/336 [00:12<00:00, 30.85it/s]\u001b[A\u001b[A\u001b[A\u001b[A\n",
      "\n",
      "\n",
      "\n",
      " 95%|█████████▍| 318/336 [00:12<00:00, 31.23it/s]\u001b[A\u001b[A\u001b[A\u001b[A\n",
      "\n",
      "\n",
      "\n",
      " 96%|█████████▌| 322/336 [00:13<00:00, 29.42it/s]\u001b[A\u001b[A\u001b[A\u001b[A\n",
      "\n",
      "\n",
      "\n",
      " 97%|█████████▋| 326/336 [00:13<00:00, 31.78it/s]\u001b[A\u001b[A\u001b[A\u001b[A\n",
      "\n",
      "\n",
      "\n",
      " 99%|█████████▊| 331/336 [00:13<00:00, 34.44it/s]\u001b[A\u001b[A\u001b[A\u001b[A\n",
      "\n",
      "\n",
      "\n",
      "100%|██████████| 336/336 [00:13<00:00, 25.17it/s]\u001b[A\u001b[A\u001b[A\u001b[A"
     ]
    }
   ],
   "source": [
    "df[\"normalized\"] = [morph.morph_string(t) for t in tqdm(df.text)]"
   ]
  },
  {
   "cell_type": "code",
   "execution_count": 314,
   "metadata": {},
   "outputs": [],
   "source": [
    "from sklearn.externals import joblib"
   ]
  },
  {
   "cell_type": "code",
   "execution_count": 315,
   "metadata": {
    "scrolled": true
   },
   "outputs": [
    {
     "data": {
      "text/plain": [
       "0    открытый соревнование  паралимпиец  проводитьс...\n",
       "1     рф   пообещать помочь с строительство перинат...\n",
       "2    масштабный перевооружение  армия и флот законч...\n",
       "3     рф   пообещать в следующий  прилететь в аркти...\n",
       "4     рф   в ход церемония вручение орден `` родите...\n",
       "Name: normalized, dtype: object"
      ]
     },
     "execution_count": 315,
     "metadata": {},
     "output_type": "execute_result"
    }
   ],
   "source": [
    "df[\"normalized\"].head()"
   ]
  },
  {
   "cell_type": "code",
   "execution_count": 316,
   "metadata": {},
   "outputs": [],
   "source": [
    "df.to_pickle('./data/promises.pkl')\n",
    "df = joblib.load('./data/promises.pkl')"
   ]
  },
  {
   "cell_type": "markdown",
   "metadata": {},
   "source": [
    "# Облако слов"
   ]
  },
  {
   "cell_type": "markdown",
   "metadata": {},
   "source": [
    "*4 fun*"
   ]
  },
  {
   "cell_type": "code",
   "execution_count": 317,
   "metadata": {},
   "outputs": [],
   "source": [
    "from collections import Counter"
   ]
  },
  {
   "cell_type": "code",
   "execution_count": 318,
   "metadata": {},
   "outputs": [],
   "source": [
    "words_putin = [w for w in \" \".join(df[df['person']=='Путин'].normalized).split() if len(w)>2]\n",
    "words_medvedev = [w for w in \" \".join(df[df['person']=='Медведев'].normalized).split() if len(w)>2]"
   ]
  },
  {
   "cell_type": "code",
   "execution_count": 319,
   "metadata": {},
   "outputs": [
    {
     "data": {
      "text/plain": [
       "[('май', 84),\n",
       " ('отметить', 81),\n",
       " ('полномочие', 72),\n",
       " ('истекать', 71),\n",
       " ('пообещать', 71),\n",
       " ('подчеркнуть', 57),\n",
       " ('напомнить', 54),\n",
       " ('один', 54),\n",
       " ('сообщить', 48),\n",
       " ('ход', 44),\n",
       " ('крым', 44),\n",
       " ('система', 44),\n",
       " ('миллиард', 43),\n",
       " ('федеральный', 42),\n",
       " ('рубль', 39),\n",
       " ('два', 36),\n",
       " ('встреча', 35),\n",
       " ('развитие', 33),\n",
       " ('власть', 33),\n",
       " ('после', 32)]"
      ]
     },
     "execution_count": 319,
     "metadata": {},
     "output_type": "execute_result"
    }
   ],
   "source": [
    "Counter(words_putin).most_common()[:20]"
   ]
  },
  {
   "cell_type": "code",
   "execution_count": 301,
   "metadata": {},
   "outputs": [
    {
     "data": {
      "text/plain": [
       "[('рубль', 70),\n",
       " ('отметить', 69),\n",
       " ('май', 67),\n",
       " ('развитие', 62),\n",
       " ('пообещать', 61),\n",
       " ('полномочие', 59),\n",
       " ('федеральный', 56),\n",
       " ('программа', 56),\n",
       " ('подчеркнуть', 51),\n",
       " ('истекать', 49),\n",
       " ('бюджет', 48),\n",
       " ('решение', 46),\n",
       " ('миллиард', 45),\n",
       " ('регион', 42),\n",
       " ('единый', 41),\n",
       " ('сообщить', 41),\n",
       " ('более', 39),\n",
       " ('тысяча', 38),\n",
       " ('ближний', 37),\n",
       " ('напомнить', 36)]"
      ]
     },
     "execution_count": 301,
     "metadata": {},
     "output_type": "execute_result"
    }
   ],
   "source": [
    "Counter(words_medvedev).most_common()[:20]"
   ]
  },
  {
   "cell_type": "code",
   "execution_count": 320,
   "metadata": {},
   "outputs": [],
   "source": [
    "from wordcloud import WordCloud\n",
    "\n",
    "def get_wordcloud(text,max_font_size=None):\n",
    "    wordcloud = WordCloud(max_font_size=max_font_size).generate(text)\n",
    "    plt.imshow(wordcloud)\n",
    "    plt.axis(\"off\")"
   ]
  },
  {
   "cell_type": "code",
   "execution_count": 321,
   "metadata": {},
   "outputs": [
    {
     "data": {
      "image/png": "[encoded data removed]",
      "text/plain": [
       "<Figure size 432x288 with 1 Axes>"
      ]
     },
     "metadata": {
      "needs_background": "light"
     },
     "output_type": "display_data"
    }
   ],
   "source": [
    "get_wordcloud(' '.join(words_putin))"
   ]
  },
  {
   "cell_type": "code",
   "execution_count": 322,
   "metadata": {},
   "outputs": [
    {
     "data": {
      "image/png": "[encoded data removed]",
      "text/plain": [
       "<Figure size 432x288 with 1 Axes>"
      ]
     },
     "metadata": {
      "needs_background": "light"
     },
     "output_type": "display_data"
    }
   ],
   "source": [
    "get_wordcloud(' '.join(words_medvedev))"
   ]
  },
  {
   "cell_type": "markdown",
   "metadata": {},
   "source": [
    "-----"
   ]
  },
  {
   "cell_type": "markdown",
   "metadata": {},
   "source": [
    "# Классификация обещаний политиков с сайта www.obeschania.ru"
   ]
  },
  {
   "cell_type": "markdown",
   "metadata": {},
   "source": [
    "Попробуем по тексту обещания определить политика."
   ]
  },
  {
   "cell_type": "markdown",
   "metadata": {},
   "source": [
    "### Данные"
   ]
  },
  {
   "cell_type": "code",
   "execution_count": 324,
   "metadata": {
    "scrolled": false
   },
   "outputs": [
    {
     "data": {
      "text/html": [
       "<div>\n",
       "<style scoped>\n",
       "    .dataframe tbody tr th:only-of-type {\n",
       "        vertical-align: middle;\n",
       "    }\n",
       "\n",
       "    .dataframe tbody tr th {\n",
       "        vertical-align: top;\n",
       "    }\n",
       "\n",
       "    .dataframe thead th {\n",
       "        text-align: right;\n",
       "    }\n",
       "</style>\n",
       "<table border=\"1\" class=\"dataframe\">\n",
       "  <thead>\n",
       "    <tr style=\"text-align: right;\">\n",
       "      <th></th>\n",
       "      <th>url</th>\n",
       "      <th>person</th>\n",
       "      <th>header</th>\n",
       "      <th>text</th>\n",
       "      <th>normalized</th>\n",
       "    </tr>\n",
       "  </thead>\n",
       "  <tbody>\n",
       "    <tr>\n",
       "      <th>0</th>\n",
       "      <td>http://www.obeschania.ru/documents/promises/so...</td>\n",
       "      <td>Путин</td>\n",
       "      <td>Соревнования для паралимпийцев будут проводить...</td>\n",
       "      <td>Открытые соревнования для паралимпийцев будут ...</td>\n",
       "      <td>открытый соревнование  паралимпиец  проводитьс...</td>\n",
       "    </tr>\n",
       "    <tr>\n",
       "      <th>1</th>\n",
       "      <td>http://www.obeschania.ru/documents/promises/pe...</td>\n",
       "      <td>Путин</td>\n",
       "      <td>Поможем со строительством перинатального центр...</td>\n",
       "      <td>Президент РФ Владимир Путин пообещал помочь со...</td>\n",
       "      <td>рф   пообещать помочь с строительство перинат...</td>\n",
       "    </tr>\n",
       "    <tr>\n",
       "      <th>2</th>\n",
       "      <td>http://www.obeschania.ru/documents/promises/ar...</td>\n",
       "      <td>Путин</td>\n",
       "      <td>Перевооружение российской армии и флота заверш...</td>\n",
       "      <td>Масштабное перевооружение российской армии и ф...</td>\n",
       "      <td>масштабный перевооружение  армия и флот законч...</td>\n",
       "    </tr>\n",
       "    <tr>\n",
       "      <th>3</th>\n",
       "      <td>http://www.obeschania.ru/documents/promises/ar...</td>\n",
       "      <td>Путин</td>\n",
       "      <td>Лично проверю результаты \"генеральной уборки\" ...</td>\n",
       "      <td>Президенту РФ Владимир Путин пообещал в следую...</td>\n",
       "      <td>рф   пообещать в следующий  прилететь в аркти...</td>\n",
       "    </tr>\n",
       "    <tr>\n",
       "      <th>4</th>\n",
       "      <td>http://www.obeschania.ru/documents/promises/pu...</td>\n",
       "      <td>Путин</td>\n",
       "      <td>Сохраним поддержку материнства в числе национа...</td>\n",
       "      <td>Президент РФ Владимир Путин в ходе церемонии в...</td>\n",
       "      <td>рф   в ход церемония вручение орден `` родите...</td>\n",
       "    </tr>\n",
       "  </tbody>\n",
       "</table>\n",
       "</div>"
      ],
      "text/plain": [
       "                                                 url person  \\\n",
       "0  http://www.obeschania.ru/documents/promises/so...  Путин   \n",
       "1  http://www.obeschania.ru/documents/promises/pe...  Путин   \n",
       "2  http://www.obeschania.ru/documents/promises/ar...  Путин   \n",
       "3  http://www.obeschania.ru/documents/promises/ar...  Путин   \n",
       "4  http://www.obeschania.ru/documents/promises/pu...  Путин   \n",
       "\n",
       "                                              header  \\\n",
       "0  Соревнования для паралимпийцев будут проводить...   \n",
       "1  Поможем со строительством перинатального центр...   \n",
       "2  Перевооружение российской армии и флота заверш...   \n",
       "3  Лично проверю результаты \"генеральной уборки\" ...   \n",
       "4  Сохраним поддержку материнства в числе национа...   \n",
       "\n",
       "                                                text  \\\n",
       "0  Открытые соревнования для паралимпийцев будут ...   \n",
       "1  Президент РФ Владимир Путин пообещал помочь со...   \n",
       "2  Масштабное перевооружение российской армии и ф...   \n",
       "3  Президенту РФ Владимир Путин пообещал в следую...   \n",
       "4  Президент РФ Владимир Путин в ходе церемонии в...   \n",
       "\n",
       "                                          normalized  \n",
       "0  открытый соревнование  паралимпиец  проводитьс...  \n",
       "1   рф   пообещать помочь с строительство перинат...  \n",
       "2  масштабный перевооружение  армия и флот законч...  \n",
       "3   рф   пообещать в следующий  прилететь в аркти...  \n",
       "4   рф   в ход церемония вручение орден `` родите...  "
      ]
     },
     "execution_count": 324,
     "metadata": {},
     "output_type": "execute_result"
    }
   ],
   "source": [
    "df.head()"
   ]
  },
  {
   "cell_type": "code",
   "execution_count": 325,
   "metadata": {},
   "outputs": [
    {
     "data": {
      "text/plain": [
       "Путин       170\n",
       "Медведев    166\n",
       "Name: person, dtype: int64"
      ]
     },
     "execution_count": 325,
     "metadata": {},
     "output_type": "execute_result"
    }
   ],
   "source": [
    "df.person.value_counts()"
   ]
  },
  {
   "cell_type": "code",
   "execution_count": 326,
   "metadata": {},
   "outputs": [],
   "source": [
    "df.index = range(len(df))"
   ]
  },
  {
   "cell_type": "code",
   "execution_count": 329,
   "metadata": {},
   "outputs": [
    {
     "data": {
      "text/html": [
       "<div>\n",
       "<style scoped>\n",
       "    .dataframe tbody tr th:only-of-type {\n",
       "        vertical-align: middle;\n",
       "    }\n",
       "\n",
       "    .dataframe tbody tr th {\n",
       "        vertical-align: top;\n",
       "    }\n",
       "\n",
       "    .dataframe thead th {\n",
       "        text-align: right;\n",
       "    }\n",
       "</style>\n",
       "<table border=\"1\" class=\"dataframe\">\n",
       "  <thead>\n",
       "    <tr style=\"text-align: right;\">\n",
       "      <th></th>\n",
       "      <th>url</th>\n",
       "      <th>person</th>\n",
       "      <th>header</th>\n",
       "      <th>text</th>\n",
       "      <th>normalized</th>\n",
       "    </tr>\n",
       "  </thead>\n",
       "  <tbody>\n",
       "    <tr>\n",
       "      <th>0</th>\n",
       "      <td>http://www.obeschania.ru/documents/promises/so...</td>\n",
       "      <td>Путин</td>\n",
       "      <td>Соревнования для паралимпийцев будут проводить...</td>\n",
       "      <td>Открытые соревнования для паралимпийцев будут ...</td>\n",
       "      <td>открытый соревнование  паралимпиец  проводитьс...</td>\n",
       "    </tr>\n",
       "    <tr>\n",
       "      <th>1</th>\n",
       "      <td>http://www.obeschania.ru/documents/promises/pe...</td>\n",
       "      <td>Путин</td>\n",
       "      <td>Поможем со строительством перинатального центр...</td>\n",
       "      <td>Президент РФ Владимир Путин пообещал помочь со...</td>\n",
       "      <td>рф   пообещать помочь с строительство перинат...</td>\n",
       "    </tr>\n",
       "    <tr>\n",
       "      <th>2</th>\n",
       "      <td>http://www.obeschania.ru/documents/promises/ar...</td>\n",
       "      <td>Путин</td>\n",
       "      <td>Перевооружение российской армии и флота заверш...</td>\n",
       "      <td>Масштабное перевооружение российской армии и ф...</td>\n",
       "      <td>масштабный перевооружение  армия и флот законч...</td>\n",
       "    </tr>\n",
       "    <tr>\n",
       "      <th>3</th>\n",
       "      <td>http://www.obeschania.ru/documents/promises/ar...</td>\n",
       "      <td>Путин</td>\n",
       "      <td>Лично проверю результаты \"генеральной уборки\" ...</td>\n",
       "      <td>Президенту РФ Владимир Путин пообещал в следую...</td>\n",
       "      <td>рф   пообещать в следующий  прилететь в аркти...</td>\n",
       "    </tr>\n",
       "    <tr>\n",
       "      <th>4</th>\n",
       "      <td>http://www.obeschania.ru/documents/promises/pu...</td>\n",
       "      <td>Путин</td>\n",
       "      <td>Сохраним поддержку материнства в числе национа...</td>\n",
       "      <td>Президент РФ Владимир Путин в ходе церемонии в...</td>\n",
       "      <td>рф   в ход церемония вручение орден `` родите...</td>\n",
       "    </tr>\n",
       "  </tbody>\n",
       "</table>\n",
       "</div>"
      ],
      "text/plain": [
       "                                                 url person  \\\n",
       "0  http://www.obeschania.ru/documents/promises/so...  Путин   \n",
       "1  http://www.obeschania.ru/documents/promises/pe...  Путин   \n",
       "2  http://www.obeschania.ru/documents/promises/ar...  Путин   \n",
       "3  http://www.obeschania.ru/documents/promises/ar...  Путин   \n",
       "4  http://www.obeschania.ru/documents/promises/pu...  Путин   \n",
       "\n",
       "                                              header  \\\n",
       "0  Соревнования для паралимпийцев будут проводить...   \n",
       "1  Поможем со строительством перинатального центр...   \n",
       "2  Перевооружение российской армии и флота заверш...   \n",
       "3  Лично проверю результаты \"генеральной уборки\" ...   \n",
       "4  Сохраним поддержку материнства в числе национа...   \n",
       "\n",
       "                                                text  \\\n",
       "0  Открытые соревнования для паралимпийцев будут ...   \n",
       "1  Президент РФ Владимир Путин пообещал помочь со...   \n",
       "2  Масштабное перевооружение российской армии и ф...   \n",
       "3  Президенту РФ Владимир Путин пообещал в следую...   \n",
       "4  Президент РФ Владимир Путин в ходе церемонии в...   \n",
       "\n",
       "                                          normalized  \n",
       "0  открытый соревнование  паралимпиец  проводитьс...  \n",
       "1   рф   пообещать помочь с строительство перинат...  \n",
       "2  масштабный перевооружение  армия и флот законч...  \n",
       "3   рф   пообещать в следующий  прилететь в аркти...  \n",
       "4   рф   в ход церемония вручение орден `` родите...  "
      ]
     },
     "execution_count": 329,
     "metadata": {},
     "output_type": "execute_result"
    }
   ],
   "source": [
    "df.head()"
   ]
  },
  {
   "cell_type": "code",
   "execution_count": 330,
   "metadata": {},
   "outputs": [],
   "source": [
    "df['person'] = df['person'].map({'Путин': 1, 'Медведев': 0})"
   ]
  },
  {
   "cell_type": "markdown",
   "metadata": {},
   "source": [
    "Уберём все токены, которые не являются словами, при этом все числа заменив на \"num\""
   ]
  },
  {
   "cell_type": "code",
   "execution_count": 332,
   "metadata": {},
   "outputs": [],
   "source": [
    "df[\"normalized_words\"] = df.normalized.apply(lambda x: ' '.join([w if w.isalpha() else 'num' for w in x.split() if w.isalpha() or w.isdigit()]))"
   ]
  },
  {
   "cell_type": "markdown",
   "metadata": {},
   "source": [
    "### Векторизуем тексты"
   ]
  },
  {
   "cell_type": "markdown",
   "metadata": {},
   "source": [
    "Здесь мы немного забежим вперёд и используем векторизацию текста в мешок слов ([bag of words](https://en.wikipedia.org/wiki/Bag-of-words_model))"
   ]
  },
  {
   "cell_type": "code",
   "execution_count": 333,
   "metadata": {},
   "outputs": [],
   "source": [
    "from sklearn.feature_extraction.text import CountVectorizer"
   ]
  },
  {
   "cell_type": "code",
   "execution_count": 334,
   "metadata": {},
   "outputs": [],
   "source": [
    "vectorizer = CountVectorizer(max_features=5000)"
   ]
  },
  {
   "cell_type": "code",
   "execution_count": 335,
   "metadata": {},
   "outputs": [
    {
     "name": "stdout",
     "output_type": "stream",
     "text": [
      "CPU times: user 83.1 ms, sys: 0 ns, total: 83.1 ms\n",
      "Wall time: 81.5 ms\n"
     ]
    }
   ],
   "source": [
    "%%time\n",
    "X = vectorizer.fit_transform(df.normalized_words).toarray()"
   ]
  },
  {
   "cell_type": "code",
   "execution_count": 336,
   "metadata": {},
   "outputs": [],
   "source": [
    "y = df.person"
   ]
  },
  {
   "cell_type": "code",
   "execution_count": 337,
   "metadata": {},
   "outputs": [],
   "source": [
    "from sklearn.model_selection import train_test_split"
   ]
  },
  {
   "cell_type": "code",
   "execution_count": 524,
   "metadata": {},
   "outputs": [],
   "source": [
    "X_train, X_test, y_train, y_test = train_test_split(X, y, random_state=8, test_size=0.15, stratify=y)"
   ]
  },
  {
   "cell_type": "code",
   "execution_count": 525,
   "metadata": {},
   "outputs": [
    {
     "data": {
      "text/plain": [
       "1    144\n",
       "0    141\n",
       "Name: person, dtype: int64"
      ]
     },
     "execution_count": 525,
     "metadata": {},
     "output_type": "execute_result"
    }
   ],
   "source": [
    "y_train.value_counts()"
   ]
  },
  {
   "cell_type": "code",
   "execution_count": 526,
   "metadata": {},
   "outputs": [
    {
     "data": {
      "text/plain": [
       "1    26\n",
       "0    25\n",
       "Name: person, dtype: int64"
      ]
     },
     "execution_count": 526,
     "metadata": {},
     "output_type": "execute_result"
    }
   ],
   "source": [
    "y_test.value_counts()"
   ]
  },
  {
   "cell_type": "markdown",
   "metadata": {},
   "source": [
    "### Обучим обычным деревом"
   ]
  },
  {
   "cell_type": "markdown",
   "metadata": {},
   "source": [
    "**Задание:** с помощью кросс-валидации по 10 фолдам и критерием качества f1 score подберите оптимальную глубину дерева в интервале 2-15\n",
    "\n",
    "*можете переиспользовать код из тетрадки 2, но не забудьте настроить параметры*"
   ]
  },
  {
   "cell_type": "markdown",
   "metadata": {},
   "source": [
    "К сожалению данных - мало, поэтому придется использовать вместо f1 - accuracy, иначе при обучении может встречаться ситуации, когда для расчета f1 не хватает каких либо данных."
   ]
  },
  {
   "cell_type": "code",
   "execution_count": 527,
   "metadata": {},
   "outputs": [],
   "source": [
    "from sklearn.tree import DecisionTreeClassifier\n",
    "from sklearn.model_selection import GridSearchCV\n",
    "from sklearn.model_selection import StratifiedKFold\n",
    "import numpy as np"
   ]
  },
  {
   "cell_type": "code",
   "execution_count": 528,
   "metadata": {},
   "outputs": [
    {
     "data": {
      "text/plain": [
       "(336, 5000)"
      ]
     },
     "execution_count": 528,
     "metadata": {},
     "output_type": "execute_result"
    }
   ],
   "source": [
    "X.shape"
   ]
  },
  {
   "cell_type": "code",
   "execution_count": 568,
   "metadata": {},
   "outputs": [
    {
     "data": {
      "text/plain": [
       "5"
      ]
     },
     "execution_count": 568,
     "metadata": {},
     "output_type": "execute_result"
    }
   ],
   "source": [
    "np.random.seed(8)\n",
    "skf = StratifiedKFold(n_splits=5)\n",
    "skf.get_n_splits(X_train, y_train)"
   ]
  },
  {
   "cell_type": "code",
   "execution_count": 592,
   "metadata": {},
   "outputs": [],
   "source": [
    "np.random.seed(8)\n",
    "param_grid = {\n",
    "        'max_depth': np.arange(2, 18),\n",
    "        'max_features': ['sqrt', 'log2', None],\n",
    "        'min_samples_leaf': np.arange(2, 10),\n",
    "#         'min_samples_split': np.arange(2, 10),\n",
    "        }\n",
    "\n",
    "grid_search = GridSearchCV(DecisionTreeClassifier(criterion='entropy'), \n",
    "        param_grid=param_grid, scoring='accuracy', cv=skf, return_train_score=True)"
   ]
  },
  {
   "cell_type": "code",
   "execution_count": 593,
   "metadata": {},
   "outputs": [
    {
     "name": "stderr",
     "output_type": "stream",
     "text": [
      "/home/sergey/anaconda3/lib/python3.7/site-packages/sklearn/model_selection/_search.py:841: DeprecationWarning: The default of the `iid` parameter will change from True to False in version 0.22 and will be removed in 0.24. This will change numeric results when test-set sizes are unequal.\n",
      "  DeprecationWarning)\n"
     ]
    },
    {
     "data": {
      "text/plain": [
       "GridSearchCV(cv=StratifiedKFold(n_splits=5, random_state=None, shuffle=False),\n",
       "       error_score='raise-deprecating',\n",
       "       estimator=DecisionTreeClassifier(class_weight=None, criterion='entropy', max_depth=None,\n",
       "            max_features=None, max_leaf_nodes=None,\n",
       "            min_impurity_decrease=0.0, min_impurity_split=None,\n",
       "            min_samples_leaf=1, min_samples_split=2,\n",
       "            min_weight_fraction_leaf=0.0, presort=False, random_state=None,\n",
       "            splitter='best'),\n",
       "       fit_params=None, iid='warn', n_jobs=None,\n",
       "       param_grid={'max_depth': array([ 2,  3,  4,  5,  6,  7,  8,  9, 10, 11, 12, 13, 14, 15, 16, 17]), 'max_features': ['sqrt', 'log2', None], 'min_samples_leaf': array([2, 3, 4, 5, 6, 7, 8, 9])},\n",
       "       pre_dispatch='2*n_jobs', refit=True, return_train_score=True,\n",
       "       scoring='accuracy', verbose=0)"
      ]
     },
     "execution_count": 593,
     "metadata": {},
     "output_type": "execute_result"
    }
   ],
   "source": [
    "grid_search.fit(X_train, y_train)"
   ]
  },
  {
   "cell_type": "code",
   "execution_count": 594,
   "metadata": {},
   "outputs": [
    {
     "data": {
      "text/plain": [
       "0.6350877192982456"
      ]
     },
     "execution_count": 594,
     "metadata": {},
     "output_type": "execute_result"
    }
   ],
   "source": [
    "grid_search.best_score_"
   ]
  },
  {
   "cell_type": "code",
   "execution_count": 595,
   "metadata": {},
   "outputs": [
    {
     "data": {
      "text/plain": [
       "DecisionTreeClassifier(class_weight=None, criterion='entropy', max_depth=17,\n",
       "            max_features=None, max_leaf_nodes=None,\n",
       "            min_impurity_decrease=0.0, min_impurity_split=None,\n",
       "            min_samples_leaf=3, min_samples_split=2,\n",
       "            min_weight_fraction_leaf=0.0, presort=False, random_state=None,\n",
       "            splitter='best')"
      ]
     },
     "execution_count": 595,
     "metadata": {},
     "output_type": "execute_result"
    }
   ],
   "source": [
    "grid_search.best_estimator_"
   ]
  },
  {
   "cell_type": "code",
   "execution_count": 596,
   "metadata": {},
   "outputs": [
    {
     "data": {
      "text/plain": [
       "{'max_depth': 17, 'max_features': None, 'min_samples_leaf': 3}"
      ]
     },
     "execution_count": 596,
     "metadata": {},
     "output_type": "execute_result"
    }
   ],
   "source": [
    "grid_search.best_params_"
   ]
  },
  {
   "cell_type": "code",
   "execution_count": 597,
   "metadata": {},
   "outputs": [],
   "source": [
    "model = grid_search.best_estimator_"
   ]
  },
  {
   "cell_type": "markdown",
   "metadata": {},
   "source": [
    "### Делаем предсказание"
   ]
  },
  {
   "cell_type": "markdown",
   "metadata": {},
   "source": [
    "Итак, кросс-валидация помогла нам выбрать глубину дерева. Обучим его с этим знанием"
   ]
  },
  {
   "cell_type": "markdown",
   "metadata": {},
   "source": [
    "**Задание:** обучите дерево и сделайте предсказание как классов, так и вероятностей принадлежности классам"
   ]
  },
  {
   "cell_type": "code",
   "execution_count": 598,
   "metadata": {},
   "outputs": [],
   "source": [
    "y_train_predict = model.predict(X_train)\n",
    "y_train_prob = model.predict_proba(X_train)[:, 1]\n",
    "\n",
    "y_test_predict = model.predict(X_test)\n",
    "y_test_prob = model.predict_proba(X_test)[:, 1]"
   ]
  },
  {
   "cell_type": "markdown",
   "metadata": {},
   "source": [
    "### Оценим качество"
   ]
  },
  {
   "cell_type": "markdown",
   "metadata": {},
   "source": [
    "**Задание:** оцените с помощью как минимум 3 метрик качество построенного решения"
   ]
  },
  {
   "cell_type": "code",
   "execution_count": 519,
   "metadata": {},
   "outputs": [],
   "source": [
    "from sklearn.metrics import confusion_matrix, accuracy_score\n",
    "from sklearn.metrics import  f1_score, brier_score_loss"
   ]
  },
  {
   "cell_type": "code",
   "execution_count": 599,
   "metadata": {},
   "outputs": [
    {
     "data": {
      "image/png": "[encoded data removed]",
      "text/plain": [
       "<Figure size 432x288 with 2 Axes>"
      ]
     },
     "metadata": {
      "needs_background": "light"
     },
     "output_type": "display_data"
    }
   ],
   "source": [
    "cm_train = confusion_matrix(y_train, y_train_predict)\n",
    "ax = sns.heatmap(cm_train, annot=True)"
   ]
  },
  {
   "cell_type": "code",
   "execution_count": 600,
   "metadata": {},
   "outputs": [
    {
     "data": {
      "image/png": "[encoded data removed]",
      "text/plain": [
       "<Figure size 432x288 with 2 Axes>"
      ]
     },
     "metadata": {
      "needs_background": "light"
     },
     "output_type": "display_data"
    }
   ],
   "source": [
    "cm_test = confusion_matrix(y_test, y_test_predict)\n",
    "ax = sns.heatmap(cm_test, annot=True)"
   ]
  },
  {
   "cell_type": "code",
   "execution_count": 601,
   "metadata": {},
   "outputs": [
    {
     "data": {
      "text/plain": [
       "(0.9333333333333333, 0.6274509803921569)"
      ]
     },
     "execution_count": 601,
     "metadata": {},
     "output_type": "execute_result"
    }
   ],
   "source": [
    "accuracy_score(y_train, y_train_predict), accuracy_score(y_test, y_test_predict)"
   ]
  },
  {
   "cell_type": "code",
   "execution_count": 602,
   "metadata": {},
   "outputs": [
    {
     "data": {
      "text/plain": [
       "(0.9314079422382673, 0.5957446808510638)"
      ]
     },
     "execution_count": 602,
     "metadata": {},
     "output_type": "execute_result"
    }
   ],
   "source": [
    "f1_score(y_train, y_train_predict), f1_score(y_test, y_test_predict)"
   ]
  },
  {
   "cell_type": "code",
   "execution_count": 603,
   "metadata": {},
   "outputs": [
    {
     "data": {
      "text/plain": [
       "(0.04576023391812866, 0.3453754765795207)"
      ]
     },
     "execution_count": 603,
     "metadata": {},
     "output_type": "execute_result"
    }
   ],
   "source": [
    "brier_score_loss(y_train, y_train_prob), brier_score_loss(y_test, y_test_prob)"
   ]
  },
  {
   "cell_type": "markdown",
   "metadata": {},
   "source": [
    "Точность на тестовых данных получилась не высокой. Также, можно предположить, что обещания Путина и Медведева в целом могут быть очень похожими."
   ]
  },
  {
   "cell_type": "markdown",
   "metadata": {},
   "source": [
    "### Посмотрим на дерево решений"
   ]
  },
  {
   "cell_type": "markdown",
   "metadata": {},
   "source": [
    "http://www.webgraphviz.com"
   ]
  },
  {
   "cell_type": "code",
   "execution_count": 604,
   "metadata": {},
   "outputs": [],
   "source": [
    "from sklearn.tree import export_graphviz\n",
    "import graphviz"
   ]
  },
  {
   "cell_type": "code",
   "execution_count": 608,
   "metadata": {},
   "outputs": [],
   "source": [
    "dot_tree = export_graphviz(model, out_file=None, filled=True, \n",
    "                           feature_names=None, class_names=['Путин', 'Медведев'])"
   ]
  },
  {
   "cell_type": "code",
   "execution_count": 609,
   "metadata": {
    "scrolled": false
   },
   "outputs": [
    {
     "data": {
      "image/svg+xml": [
       "<?xml version=\"1.0\" encoding=\"UTF-8\" standalone=\"no\"?>\n",
       "<!DOCTYPE svg PUBLIC \"-//W3C//DTD SVG 1.1//EN\"\n",
       " \"http://www.w3.org/Graphics/SVG/1.1/DTD/svg11.dtd\">\n",
       "<!-- Generated by graphviz version 2.40.1 (20161225.0304)\n",
       " -->\n",
       "<!-- Title: Tree Pages: 1 -->\n",
       "<svg width=\"1892pt\" height=\"2099pt\"\n",
       " viewBox=\"0.00 0.00 1892.00 2099.00\" xmlns=\"http://www.w3.org/2000/svg\" xmlns:xlink=\"http://www.w3.org/1999/xlink\">\n",
       "<g id=\"graph0\" class=\"graph\" transform=\"scale(1 1) rotate(0) translate(4 2095)\">\n",
       "<title>Tree</title>\n",
       "<polygon fill=\"#ffffff\" stroke=\"transparent\" points=\"-4,4 -4,-2095 1888,-2095 1888,4 -4,4\"/>\n",
       "<!-- 0 -->\n",
       "<g id=\"node1\" class=\"node\">\n",
       "<title>0</title>\n",
       "<polygon fill=\"#399de5\" fill-opacity=\"0.019608\" stroke=\"#000000\" points=\"1690,-2091 1571,-2091 1571,-2008 1690,-2008 1690,-2091\"/>\n",
       "<text text-anchor=\"middle\" x=\"1630.5\" y=\"-2075.8\" font-family=\"Times,serif\" font-size=\"14.00\" fill=\"#000000\">X[1100] &lt;= 0.5</text>\n",
       "<text text-anchor=\"middle\" x=\"1630.5\" y=\"-2060.8\" font-family=\"Times,serif\" font-size=\"14.00\" fill=\"#000000\">entropy = 1.0</text>\n",
       "<text text-anchor=\"middle\" x=\"1630.5\" y=\"-2045.8\" font-family=\"Times,serif\" font-size=\"14.00\" fill=\"#000000\">samples = 285</text>\n",
       "<text text-anchor=\"middle\" x=\"1630.5\" y=\"-2030.8\" font-family=\"Times,serif\" font-size=\"14.00\" fill=\"#000000\">value = [141, 144]</text>\n",
       "<text text-anchor=\"middle\" x=\"1630.5\" y=\"-2015.8\" font-family=\"Times,serif\" font-size=\"14.00\" fill=\"#000000\">class = Медведев</text>\n",
       "</g>\n",
       "<!-- 1 -->\n",
       "<g id=\"node2\" class=\"node\">\n",
       "<title>1</title>\n",
       "<polygon fill=\"#399de5\" fill-opacity=\"0.172549\" stroke=\"#000000\" points=\"1569,-1972 1450,-1972 1450,-1889 1569,-1889 1569,-1972\"/>\n",
       "<text text-anchor=\"middle\" x=\"1509.5\" y=\"-1956.8\" font-family=\"Times,serif\" font-size=\"14.00\" fill=\"#000000\">X[2080] &lt;= 0.5</text>\n",
       "<text text-anchor=\"middle\" x=\"1509.5\" y=\"-1941.8\" font-family=\"Times,serif\" font-size=\"14.00\" fill=\"#000000\">entropy = 0.993</text>\n",
       "<text text-anchor=\"middle\" x=\"1509.5\" y=\"-1926.8\" font-family=\"Times,serif\" font-size=\"14.00\" fill=\"#000000\">samples = 252</text>\n",
       "<text text-anchor=\"middle\" x=\"1509.5\" y=\"-1911.8\" font-family=\"Times,serif\" font-size=\"14.00\" fill=\"#000000\">value = [114, 138]</text>\n",
       "<text text-anchor=\"middle\" x=\"1509.5\" y=\"-1896.8\" font-family=\"Times,serif\" font-size=\"14.00\" fill=\"#000000\">class = Медведев</text>\n",
       "</g>\n",
       "<!-- 0&#45;&gt;1 -->\n",
       "<g id=\"edge1\" class=\"edge\">\n",
       "<title>0&#45;&gt;1</title>\n",
       "<path fill=\"none\" stroke=\"#000000\" d=\"M1588.1801,-2007.8796C1578.8392,-1998.6931 1568.861,-1988.8798 1559.256,-1979.4336\"/>\n",
       "<polygon fill=\"#000000\" stroke=\"#000000\" points=\"1561.5845,-1976.8146 1552.0006,-1972.2981 1556.6762,-1981.8054 1561.5845,-1976.8146\"/>\n",
       "<text text-anchor=\"middle\" x=\"1552.2089\" y=\"-1993.5972\" font-family=\"Times,serif\" font-size=\"14.00\" fill=\"#000000\">True</text>\n",
       "</g>\n",
       "<!-- 66 -->\n",
       "<g id=\"node67\" class=\"node\">\n",
       "<title>66</title>\n",
       "<polygon fill=\"#e58139\" fill-opacity=\"0.776471\" stroke=\"#000000\" points=\"1748.5,-1972 1644.5,-1972 1644.5,-1889 1748.5,-1889 1748.5,-1972\"/>\n",
       "<text text-anchor=\"middle\" x=\"1696.5\" y=\"-1956.8\" font-family=\"Times,serif\" font-size=\"14.00\" fill=\"#000000\">X[2152] &lt;= 0.5</text>\n",
       "<text text-anchor=\"middle\" x=\"1696.5\" y=\"-1941.8\" font-family=\"Times,serif\" font-size=\"14.00\" fill=\"#000000\">entropy = 0.684</text>\n",
       "<text text-anchor=\"middle\" x=\"1696.5\" y=\"-1926.8\" font-family=\"Times,serif\" font-size=\"14.00\" fill=\"#000000\">samples = 33</text>\n",
       "<text text-anchor=\"middle\" x=\"1696.5\" y=\"-1911.8\" font-family=\"Times,serif\" font-size=\"14.00\" fill=\"#000000\">value = [27, 6]</text>\n",
       "<text text-anchor=\"middle\" x=\"1696.5\" y=\"-1896.8\" font-family=\"Times,serif\" font-size=\"14.00\" fill=\"#000000\">class = Путин</text>\n",
       "</g>\n",
       "<!-- 0&#45;&gt;66 -->\n",
       "<g id=\"edge66\" class=\"edge\">\n",
       "<title>0&#45;&gt;66</title>\n",
       "<path fill=\"none\" stroke=\"#000000\" d=\"M1653.5836,-2007.8796C1658.3789,-1999.2335 1663.4822,-1990.0322 1668.4338,-1981.1042\"/>\n",
       "<polygon fill=\"#000000\" stroke=\"#000000\" points=\"1671.5284,-1982.7407 1673.3179,-1972.2981 1665.4069,-1979.3455 1671.5284,-1982.7407\"/>\n",
       "<text text-anchor=\"middle\" x=\"1680.2031\" y=\"-1992.6313\" font-family=\"Times,serif\" font-size=\"14.00\" fill=\"#000000\">False</text>\n",
       "</g>\n",
       "<!-- 2 -->\n",
       "<g id=\"node3\" class=\"node\">\n",
       "<title>2</title>\n",
       "<polygon fill=\"#e58139\" fill-opacity=\"0.243137\" stroke=\"#000000\" points=\"1371,-1853 1266,-1853 1266,-1770 1371,-1770 1371,-1853\"/>\n",
       "<text text-anchor=\"middle\" x=\"1318.5\" y=\"-1837.8\" font-family=\"Times,serif\" font-size=\"14.00\" fill=\"#000000\">X[3513] &lt;= 0.5</text>\n",
       "<text text-anchor=\"middle\" x=\"1318.5\" y=\"-1822.8\" font-family=\"Times,serif\" font-size=\"14.00\" fill=\"#000000\">entropy = 0.986</text>\n",
       "<text text-anchor=\"middle\" x=\"1318.5\" y=\"-1807.8\" font-family=\"Times,serif\" font-size=\"14.00\" fill=\"#000000\">samples = 130</text>\n",
       "<text text-anchor=\"middle\" x=\"1318.5\" y=\"-1792.8\" font-family=\"Times,serif\" font-size=\"14.00\" fill=\"#000000\">value = [74, 56]</text>\n",
       "<text text-anchor=\"middle\" x=\"1318.5\" y=\"-1777.8\" font-family=\"Times,serif\" font-size=\"14.00\" fill=\"#000000\">class = Путин</text>\n",
       "</g>\n",
       "<!-- 1&#45;&gt;2 -->\n",
       "<g id=\"edge2\" class=\"edge\">\n",
       "<title>1&#45;&gt;2</title>\n",
       "<path fill=\"none\" stroke=\"#000000\" d=\"M1449.8521,-1893.3371C1427.6273,-1879.4903 1402.3721,-1863.7554 1379.9854,-1849.8077\"/>\n",
       "<polygon fill=\"#000000\" stroke=\"#000000\" points=\"1381.5741,-1846.6737 1371.2358,-1844.3563 1377.8724,-1852.615 1381.5741,-1846.6737\"/>\n",
       "</g>\n",
       "<!-- 33 -->\n",
       "<g id=\"node34\" class=\"node\">\n",
       "<title>33</title>\n",
       "<polygon fill=\"#399de5\" fill-opacity=\"0.513725\" stroke=\"#000000\" points=\"1568,-1853 1451,-1853 1451,-1770 1568,-1770 1568,-1853\"/>\n",
       "<text text-anchor=\"middle\" x=\"1509.5\" y=\"-1837.8\" font-family=\"Times,serif\" font-size=\"14.00\" fill=\"#000000\">X[4802] &lt;= 0.5</text>\n",
       "<text text-anchor=\"middle\" x=\"1509.5\" y=\"-1822.8\" font-family=\"Times,serif\" font-size=\"14.00\" fill=\"#000000\">entropy = 0.913</text>\n",
       "<text text-anchor=\"middle\" x=\"1509.5\" y=\"-1807.8\" font-family=\"Times,serif\" font-size=\"14.00\" fill=\"#000000\">samples = 122</text>\n",
       "<text text-anchor=\"middle\" x=\"1509.5\" y=\"-1792.8\" font-family=\"Times,serif\" font-size=\"14.00\" fill=\"#000000\">value = [40, 82]</text>\n",
       "<text text-anchor=\"middle\" x=\"1509.5\" y=\"-1777.8\" font-family=\"Times,serif\" font-size=\"14.00\" fill=\"#000000\">class = Медведев</text>\n",
       "</g>\n",
       "<!-- 1&#45;&gt;33 -->\n",
       "<g id=\"edge33\" class=\"edge\">\n",
       "<title>1&#45;&gt;33</title>\n",
       "<path fill=\"none\" stroke=\"#000000\" d=\"M1509.5,-1888.8796C1509.5,-1880.6838 1509.5,-1871.9891 1509.5,-1863.5013\"/>\n",
       "<polygon fill=\"#000000\" stroke=\"#000000\" points=\"1513.0001,-1863.298 1509.5,-1853.2981 1506.0001,-1863.2981 1513.0001,-1863.298\"/>\n",
       "</g>\n",
       "<!-- 3 -->\n",
       "<g id=\"node4\" class=\"node\">\n",
       "<title>3</title>\n",
       "<polygon fill=\"#e58139\" fill-opacity=\"0.352941\" stroke=\"#000000\" points=\"1242,-1734 1137,-1734 1137,-1651 1242,-1651 1242,-1734\"/>\n",
       "<text text-anchor=\"middle\" x=\"1189.5\" y=\"-1718.8\" font-family=\"Times,serif\" font-size=\"14.00\" fill=\"#000000\">X[4561] &lt;= 0.5</text>\n",
       "<text text-anchor=\"middle\" x=\"1189.5\" y=\"-1703.8\" font-family=\"Times,serif\" font-size=\"14.00\" fill=\"#000000\">entropy = 0.967</text>\n",
       "<text text-anchor=\"middle\" x=\"1189.5\" y=\"-1688.8\" font-family=\"Times,serif\" font-size=\"14.00\" fill=\"#000000\">samples = 122</text>\n",
       "<text text-anchor=\"middle\" x=\"1189.5\" y=\"-1673.8\" font-family=\"Times,serif\" font-size=\"14.00\" fill=\"#000000\">value = [74, 48]</text>\n",
       "<text text-anchor=\"middle\" x=\"1189.5\" y=\"-1658.8\" font-family=\"Times,serif\" font-size=\"14.00\" fill=\"#000000\">class = Путин</text>\n",
       "</g>\n",
       "<!-- 2&#45;&gt;3 -->\n",
       "<g id=\"edge3\" class=\"edge\">\n",
       "<title>2&#45;&gt;3</title>\n",
       "<path fill=\"none\" stroke=\"#000000\" d=\"M1273.3821,-1769.8796C1263.326,-1760.6031 1252.577,-1750.6874 1242.2446,-1741.1559\"/>\n",
       "<polygon fill=\"#000000\" stroke=\"#000000\" points=\"1244.5339,-1738.506 1234.8105,-1734.2981 1239.7876,-1743.6511 1244.5339,-1738.506\"/>\n",
       "</g>\n",
       "<!-- 32 -->\n",
       "<g id=\"node33\" class=\"node\">\n",
       "<title>32</title>\n",
       "<polygon fill=\"#399de5\" stroke=\"#000000\" points=\"1377,-1726.5 1260,-1726.5 1260,-1658.5 1377,-1658.5 1377,-1726.5\"/>\n",
       "<text text-anchor=\"middle\" x=\"1318.5\" y=\"-1711.3\" font-family=\"Times,serif\" font-size=\"14.00\" fill=\"#000000\">entropy = 0.0</text>\n",
       "<text text-anchor=\"middle\" x=\"1318.5\" y=\"-1696.3\" font-family=\"Times,serif\" font-size=\"14.00\" fill=\"#000000\">samples = 8</text>\n",
       "<text text-anchor=\"middle\" x=\"1318.5\" y=\"-1681.3\" font-family=\"Times,serif\" font-size=\"14.00\" fill=\"#000000\">value = [0, 8]</text>\n",
       "<text text-anchor=\"middle\" x=\"1318.5\" y=\"-1666.3\" font-family=\"Times,serif\" font-size=\"14.00\" fill=\"#000000\">class = Медведев</text>\n",
       "</g>\n",
       "<!-- 2&#45;&gt;32 -->\n",
       "<g id=\"edge32\" class=\"edge\">\n",
       "<title>2&#45;&gt;32</title>\n",
       "<path fill=\"none\" stroke=\"#000000\" d=\"M1318.5,-1769.8796C1318.5,-1759.2134 1318.5,-1747.7021 1318.5,-1736.9015\"/>\n",
       "<polygon fill=\"#000000\" stroke=\"#000000\" points=\"1322.0001,-1736.8149 1318.5,-1726.8149 1315.0001,-1736.815 1322.0001,-1736.8149\"/>\n",
       "</g>\n",
       "<!-- 4 -->\n",
       "<g id=\"node5\" class=\"node\">\n",
       "<title>4</title>\n",
       "<polygon fill=\"#e58139\" fill-opacity=\"0.419608\" stroke=\"#000000\" points=\"1130,-1615 1025,-1615 1025,-1532 1130,-1532 1130,-1615\"/>\n",
       "<text text-anchor=\"middle\" x=\"1077.5\" y=\"-1599.8\" font-family=\"Times,serif\" font-size=\"14.00\" fill=\"#000000\">X[4455] &lt;= 0.5</text>\n",
       "<text text-anchor=\"middle\" x=\"1077.5\" y=\"-1584.8\" font-family=\"Times,serif\" font-size=\"14.00\" fill=\"#000000\">entropy = 0.949</text>\n",
       "<text text-anchor=\"middle\" x=\"1077.5\" y=\"-1569.8\" font-family=\"Times,serif\" font-size=\"14.00\" fill=\"#000000\">samples = 117</text>\n",
       "<text text-anchor=\"middle\" x=\"1077.5\" y=\"-1554.8\" font-family=\"Times,serif\" font-size=\"14.00\" fill=\"#000000\">value = [74, 43]</text>\n",
       "<text text-anchor=\"middle\" x=\"1077.5\" y=\"-1539.8\" font-family=\"Times,serif\" font-size=\"14.00\" fill=\"#000000\">class = Путин</text>\n",
       "</g>\n",
       "<!-- 3&#45;&gt;4 -->\n",
       "<g id=\"edge4\" class=\"edge\">\n",
       "<title>3&#45;&gt;4</title>\n",
       "<path fill=\"none\" stroke=\"#000000\" d=\"M1150.3278,-1650.8796C1141.7665,-1641.7832 1132.6268,-1632.0722 1123.8168,-1622.7116\"/>\n",
       "<polygon fill=\"#000000\" stroke=\"#000000\" points=\"1126.2417,-1620.1813 1116.8394,-1615.2981 1121.1443,-1624.9789 1126.2417,-1620.1813\"/>\n",
       "</g>\n",
       "<!-- 31 -->\n",
       "<g id=\"node32\" class=\"node\">\n",
       "<title>31</title>\n",
       "<polygon fill=\"#399de5\" stroke=\"#000000\" points=\"1265,-1607.5 1148,-1607.5 1148,-1539.5 1265,-1539.5 1265,-1607.5\"/>\n",
       "<text text-anchor=\"middle\" x=\"1206.5\" y=\"-1592.3\" font-family=\"Times,serif\" font-size=\"14.00\" fill=\"#000000\">entropy = 0.0</text>\n",
       "<text text-anchor=\"middle\" x=\"1206.5\" y=\"-1577.3\" font-family=\"Times,serif\" font-size=\"14.00\" fill=\"#000000\">samples = 5</text>\n",
       "<text text-anchor=\"middle\" x=\"1206.5\" y=\"-1562.3\" font-family=\"Times,serif\" font-size=\"14.00\" fill=\"#000000\">value = [0, 5]</text>\n",
       "<text text-anchor=\"middle\" x=\"1206.5\" y=\"-1547.3\" font-family=\"Times,serif\" font-size=\"14.00\" fill=\"#000000\">class = Медведев</text>\n",
       "</g>\n",
       "<!-- 3&#45;&gt;31 -->\n",
       "<g id=\"edge31\" class=\"edge\">\n",
       "<title>3&#45;&gt;31</title>\n",
       "<path fill=\"none\" stroke=\"#000000\" d=\"M1195.4458,-1650.8796C1196.9695,-1640.2134 1198.614,-1628.7021 1200.1569,-1617.9015\"/>\n",
       "<polygon fill=\"#000000\" stroke=\"#000000\" points=\"1203.6484,-1618.2094 1201.5979,-1607.8149 1196.7187,-1617.2194 1203.6484,-1618.2094\"/>\n",
       "</g>\n",
       "<!-- 5 -->\n",
       "<g id=\"node6\" class=\"node\">\n",
       "<title>5</title>\n",
       "<polygon fill=\"#e58139\" fill-opacity=\"0.486275\" stroke=\"#000000\" points=\"1027,-1496 922,-1496 922,-1413 1027,-1413 1027,-1496\"/>\n",
       "<text text-anchor=\"middle\" x=\"974.5\" y=\"-1480.8\" font-family=\"Times,serif\" font-size=\"14.00\" fill=\"#000000\">X[4033] &lt;= 0.5</text>\n",
       "<text text-anchor=\"middle\" x=\"974.5\" y=\"-1465.8\" font-family=\"Times,serif\" font-size=\"14.00\" fill=\"#000000\">entropy = 0.924</text>\n",
       "<text text-anchor=\"middle\" x=\"974.5\" y=\"-1450.8\" font-family=\"Times,serif\" font-size=\"14.00\" fill=\"#000000\">samples = 112</text>\n",
       "<text text-anchor=\"middle\" x=\"974.5\" y=\"-1435.8\" font-family=\"Times,serif\" font-size=\"14.00\" fill=\"#000000\">value = [74, 38]</text>\n",
       "<text text-anchor=\"middle\" x=\"974.5\" y=\"-1420.8\" font-family=\"Times,serif\" font-size=\"14.00\" fill=\"#000000\">class = Путин</text>\n",
       "</g>\n",
       "<!-- 4&#45;&gt;5 -->\n",
       "<g id=\"edge5\" class=\"edge\">\n",
       "<title>4&#45;&gt;5</title>\n",
       "<path fill=\"none\" stroke=\"#000000\" d=\"M1041.4756,-1531.8796C1033.6802,-1522.8733 1025.3633,-1513.2644 1017.3356,-1503.9897\"/>\n",
       "<polygon fill=\"#000000\" stroke=\"#000000\" points=\"1019.8691,-1501.5686 1010.6782,-1496.2981 1014.5763,-1506.1498 1019.8691,-1501.5686\"/>\n",
       "</g>\n",
       "<!-- 30 -->\n",
       "<g id=\"node31\" class=\"node\">\n",
       "<title>30</title>\n",
       "<polygon fill=\"#399de5\" stroke=\"#000000\" points=\"1162,-1488.5 1045,-1488.5 1045,-1420.5 1162,-1420.5 1162,-1488.5\"/>\n",
       "<text text-anchor=\"middle\" x=\"1103.5\" y=\"-1473.3\" font-family=\"Times,serif\" font-size=\"14.00\" fill=\"#000000\">entropy = 0.0</text>\n",
       "<text text-anchor=\"middle\" x=\"1103.5\" y=\"-1458.3\" font-family=\"Times,serif\" font-size=\"14.00\" fill=\"#000000\">samples = 5</text>\n",
       "<text text-anchor=\"middle\" x=\"1103.5\" y=\"-1443.3\" font-family=\"Times,serif\" font-size=\"14.00\" fill=\"#000000\">value = [0, 5]</text>\n",
       "<text text-anchor=\"middle\" x=\"1103.5\" y=\"-1428.3\" font-family=\"Times,serif\" font-size=\"14.00\" fill=\"#000000\">class = Медведев</text>\n",
       "</g>\n",
       "<!-- 4&#45;&gt;30 -->\n",
       "<g id=\"edge30\" class=\"edge\">\n",
       "<title>4&#45;&gt;30</title>\n",
       "<path fill=\"none\" stroke=\"#000000\" d=\"M1086.5935,-1531.8796C1088.924,-1521.2134 1091.439,-1509.7021 1093.7988,-1498.9015\"/>\n",
       "<polygon fill=\"#000000\" stroke=\"#000000\" points=\"1097.2874,-1499.3316 1096.0026,-1488.8149 1090.4487,-1497.8374 1097.2874,-1499.3316\"/>\n",
       "</g>\n",
       "<!-- 6 -->\n",
       "<g id=\"node7\" class=\"node\">\n",
       "<title>6</title>\n",
       "<polygon fill=\"#e58139\" fill-opacity=\"0.541176\" stroke=\"#000000\" points=\"941,-1377 836,-1377 836,-1294 941,-1294 941,-1377\"/>\n",
       "<text text-anchor=\"middle\" x=\"888.5\" y=\"-1361.8\" font-family=\"Times,serif\" font-size=\"14.00\" fill=\"#000000\">X[3383] &lt;= 0.5</text>\n",
       "<text text-anchor=\"middle\" x=\"888.5\" y=\"-1346.8\" font-family=\"Times,serif\" font-size=\"14.00\" fill=\"#000000\">entropy = 0.899</text>\n",
       "<text text-anchor=\"middle\" x=\"888.5\" y=\"-1331.8\" font-family=\"Times,serif\" font-size=\"14.00\" fill=\"#000000\">samples = 108</text>\n",
       "<text text-anchor=\"middle\" x=\"888.5\" y=\"-1316.8\" font-family=\"Times,serif\" font-size=\"14.00\" fill=\"#000000\">value = [74, 34]</text>\n",
       "<text text-anchor=\"middle\" x=\"888.5\" y=\"-1301.8\" font-family=\"Times,serif\" font-size=\"14.00\" fill=\"#000000\">class = Путин</text>\n",
       "</g>\n",
       "<!-- 5&#45;&gt;6 -->\n",
       "<g id=\"edge6\" class=\"edge\">\n",
       "<title>5&#45;&gt;6</title>\n",
       "<path fill=\"none\" stroke=\"#000000\" d=\"M944.4214,-1412.8796C938.0428,-1404.0534 931.246,-1394.6485 924.6681,-1385.5466\"/>\n",
       "<polygon fill=\"#000000\" stroke=\"#000000\" points=\"927.4012,-1383.353 918.707,-1377.2981 921.7277,-1387.4532 927.4012,-1383.353\"/>\n",
       "</g>\n",
       "<!-- 29 -->\n",
       "<g id=\"node30\" class=\"node\">\n",
       "<title>29</title>\n",
       "<polygon fill=\"#399de5\" stroke=\"#000000\" points=\"1076,-1369.5 959,-1369.5 959,-1301.5 1076,-1301.5 1076,-1369.5\"/>\n",
       "<text text-anchor=\"middle\" x=\"1017.5\" y=\"-1354.3\" font-family=\"Times,serif\" font-size=\"14.00\" fill=\"#000000\">entropy = 0.0</text>\n",
       "<text text-anchor=\"middle\" x=\"1017.5\" y=\"-1339.3\" font-family=\"Times,serif\" font-size=\"14.00\" fill=\"#000000\">samples = 4</text>\n",
       "<text text-anchor=\"middle\" x=\"1017.5\" y=\"-1324.3\" font-family=\"Times,serif\" font-size=\"14.00\" fill=\"#000000\">value = [0, 4]</text>\n",
       "<text text-anchor=\"middle\" x=\"1017.5\" y=\"-1309.3\" font-family=\"Times,serif\" font-size=\"14.00\" fill=\"#000000\">class = Медведев</text>\n",
       "</g>\n",
       "<!-- 5&#45;&gt;29 -->\n",
       "<g id=\"edge29\" class=\"edge\">\n",
       "<title>5&#45;&gt;29</title>\n",
       "<path fill=\"none\" stroke=\"#000000\" d=\"M989.5393,-1412.8796C993.473,-1401.9935 997.7247,-1390.227 1001.6968,-1379.2344\"/>\n",
       "<polygon fill=\"#000000\" stroke=\"#000000\" points=\"1004.9937,-1380.4092 1005.1005,-1369.8149 998.4103,-1378.0303 1004.9937,-1380.4092\"/>\n",
       "</g>\n",
       "<!-- 7 -->\n",
       "<g id=\"node8\" class=\"node\">\n",
       "<title>7</title>\n",
       "<polygon fill=\"#e58139\" fill-opacity=\"0.596078\" stroke=\"#000000\" points=\"879,-1258 774,-1258 774,-1175 879,-1175 879,-1258\"/>\n",
       "<text text-anchor=\"middle\" x=\"826.5\" y=\"-1242.8\" font-family=\"Times,serif\" font-size=\"14.00\" fill=\"#000000\">X[1407] &lt;= 0.5</text>\n",
       "<text text-anchor=\"middle\" x=\"826.5\" y=\"-1227.8\" font-family=\"Times,serif\" font-size=\"14.00\" fill=\"#000000\">entropy = 0.867</text>\n",
       "<text text-anchor=\"middle\" x=\"826.5\" y=\"-1212.8\" font-family=\"Times,serif\" font-size=\"14.00\" fill=\"#000000\">samples = 104</text>\n",
       "<text text-anchor=\"middle\" x=\"826.5\" y=\"-1197.8\" font-family=\"Times,serif\" font-size=\"14.00\" fill=\"#000000\">value = [74, 30]</text>\n",
       "<text text-anchor=\"middle\" x=\"826.5\" y=\"-1182.8\" font-family=\"Times,serif\" font-size=\"14.00\" fill=\"#000000\">class = Путин</text>\n",
       "</g>\n",
       "<!-- 6&#45;&gt;7 -->\n",
       "<g id=\"edge7\" class=\"edge\">\n",
       "<title>6&#45;&gt;7</title>\n",
       "<path fill=\"none\" stroke=\"#000000\" d=\"M866.8154,-1293.8796C862.3577,-1285.3236 857.6166,-1276.2238 853.0106,-1267.3833\"/>\n",
       "<polygon fill=\"#000000\" stroke=\"#000000\" points=\"856.0017,-1265.5494 848.2771,-1258.2981 849.7938,-1268.7838 856.0017,-1265.5494\"/>\n",
       "</g>\n",
       "<!-- 28 -->\n",
       "<g id=\"node29\" class=\"node\">\n",
       "<title>28</title>\n",
       "<polygon fill=\"#399de5\" stroke=\"#000000\" points=\"1014,-1250.5 897,-1250.5 897,-1182.5 1014,-1182.5 1014,-1250.5\"/>\n",
       "<text text-anchor=\"middle\" x=\"955.5\" y=\"-1235.3\" font-family=\"Times,serif\" font-size=\"14.00\" fill=\"#000000\">entropy = 0.0</text>\n",
       "<text text-anchor=\"middle\" x=\"955.5\" y=\"-1220.3\" font-family=\"Times,serif\" font-size=\"14.00\" fill=\"#000000\">samples = 4</text>\n",
       "<text text-anchor=\"middle\" x=\"955.5\" y=\"-1205.3\" font-family=\"Times,serif\" font-size=\"14.00\" fill=\"#000000\">value = [0, 4]</text>\n",
       "<text text-anchor=\"middle\" x=\"955.5\" y=\"-1190.3\" font-family=\"Times,serif\" font-size=\"14.00\" fill=\"#000000\">class = Медведев</text>\n",
       "</g>\n",
       "<!-- 6&#45;&gt;28 -->\n",
       "<g id=\"edge28\" class=\"edge\">\n",
       "<title>6&#45;&gt;28</title>\n",
       "<path fill=\"none\" stroke=\"#000000\" d=\"M911.9333,-1293.8796C918.1863,-1282.7735 924.9552,-1270.7513 931.251,-1259.5691\"/>\n",
       "<polygon fill=\"#000000\" stroke=\"#000000\" points=\"934.3235,-1261.2459 936.1798,-1250.8149 928.2239,-1257.8116 934.3235,-1261.2459\"/>\n",
       "</g>\n",
       "<!-- 8 -->\n",
       "<g id=\"node9\" class=\"node\">\n",
       "<title>8</title>\n",
       "<polygon fill=\"#e58139\" fill-opacity=\"0.647059\" stroke=\"#000000\" points=\"812,-1139 707,-1139 707,-1056 812,-1056 812,-1139\"/>\n",
       "<text text-anchor=\"middle\" x=\"759.5\" y=\"-1123.8\" font-family=\"Times,serif\" font-size=\"14.00\" fill=\"#000000\">X[4160] &lt;= 0.5</text>\n",
       "<text text-anchor=\"middle\" x=\"759.5\" y=\"-1108.8\" font-family=\"Times,serif\" font-size=\"14.00\" fill=\"#000000\">entropy = 0.827</text>\n",
       "<text text-anchor=\"middle\" x=\"759.5\" y=\"-1093.8\" font-family=\"Times,serif\" font-size=\"14.00\" fill=\"#000000\">samples = 100</text>\n",
       "<text text-anchor=\"middle\" x=\"759.5\" y=\"-1078.8\" font-family=\"Times,serif\" font-size=\"14.00\" fill=\"#000000\">value = [74, 26]</text>\n",
       "<text text-anchor=\"middle\" x=\"759.5\" y=\"-1063.8\" font-family=\"Times,serif\" font-size=\"14.00\" fill=\"#000000\">class = Путин</text>\n",
       "</g>\n",
       "<!-- 7&#45;&gt;8 -->\n",
       "<g id=\"edge8\" class=\"edge\">\n",
       "<title>7&#45;&gt;8</title>\n",
       "<path fill=\"none\" stroke=\"#000000\" d=\"M803.0667,-1174.8796C798.1987,-1166.2335 793.0181,-1157.0322 787.9914,-1148.1042\"/>\n",
       "<polygon fill=\"#000000\" stroke=\"#000000\" points=\"790.9893,-1146.2947 783.0334,-1139.2981 784.8897,-1149.729 790.9893,-1146.2947\"/>\n",
       "</g>\n",
       "<!-- 27 -->\n",
       "<g id=\"node28\" class=\"node\">\n",
       "<title>27</title>\n",
       "<polygon fill=\"#399de5\" stroke=\"#000000\" points=\"947,-1131.5 830,-1131.5 830,-1063.5 947,-1063.5 947,-1131.5\"/>\n",
       "<text text-anchor=\"middle\" x=\"888.5\" y=\"-1116.3\" font-family=\"Times,serif\" font-size=\"14.00\" fill=\"#000000\">entropy = 0.0</text>\n",
       "<text text-anchor=\"middle\" x=\"888.5\" y=\"-1101.3\" font-family=\"Times,serif\" font-size=\"14.00\" fill=\"#000000\">samples = 4</text>\n",
       "<text text-anchor=\"middle\" x=\"888.5\" y=\"-1086.3\" font-family=\"Times,serif\" font-size=\"14.00\" fill=\"#000000\">value = [0, 4]</text>\n",
       "<text text-anchor=\"middle\" x=\"888.5\" y=\"-1071.3\" font-family=\"Times,serif\" font-size=\"14.00\" fill=\"#000000\">class = Медведев</text>\n",
       "</g>\n",
       "<!-- 7&#45;&gt;27 -->\n",
       "<g id=\"edge27\" class=\"edge\">\n",
       "<title>7&#45;&gt;27</title>\n",
       "<path fill=\"none\" stroke=\"#000000\" d=\"M848.1846,-1174.8796C853.9136,-1163.8835 860.1106,-1151.9893 865.8874,-1140.9015\"/>\n",
       "<polygon fill=\"#000000\" stroke=\"#000000\" points=\"869.105,-1142.3007 870.6216,-1131.8149 862.897,-1139.0662 869.105,-1142.3007\"/>\n",
       "</g>\n",
       "<!-- 9 -->\n",
       "<g id=\"node10\" class=\"node\">\n",
       "<title>9</title>\n",
       "<polygon fill=\"#e58139\" fill-opacity=\"0.701961\" stroke=\"#000000\" points=\"691,-1020 586,-1020 586,-937 691,-937 691,-1020\"/>\n",
       "<text text-anchor=\"middle\" x=\"638.5\" y=\"-1004.8\" font-family=\"Times,serif\" font-size=\"14.00\" fill=\"#000000\">X[3195] &lt;= 0.5</text>\n",
       "<text text-anchor=\"middle\" x=\"638.5\" y=\"-989.8\" font-family=\"Times,serif\" font-size=\"14.00\" fill=\"#000000\">entropy = 0.777</text>\n",
       "<text text-anchor=\"middle\" x=\"638.5\" y=\"-974.8\" font-family=\"Times,serif\" font-size=\"14.00\" fill=\"#000000\">samples = 96</text>\n",
       "<text text-anchor=\"middle\" x=\"638.5\" y=\"-959.8\" font-family=\"Times,serif\" font-size=\"14.00\" fill=\"#000000\">value = [74, 22]</text>\n",
       "<text text-anchor=\"middle\" x=\"638.5\" y=\"-944.8\" font-family=\"Times,serif\" font-size=\"14.00\" fill=\"#000000\">class = Путин</text>\n",
       "</g>\n",
       "<!-- 8&#45;&gt;9 -->\n",
       "<g id=\"edge9\" class=\"edge\">\n",
       "<title>8&#45;&gt;9</title>\n",
       "<path fill=\"none\" stroke=\"#000000\" d=\"M717.1801,-1055.8796C707.8392,-1046.6931 697.861,-1036.8798 688.256,-1027.4336\"/>\n",
       "<polygon fill=\"#000000\" stroke=\"#000000\" points=\"690.5845,-1024.8146 681.0006,-1020.2981 685.6762,-1029.8054 690.5845,-1024.8146\"/>\n",
       "</g>\n",
       "<!-- 26 -->\n",
       "<g id=\"node27\" class=\"node\">\n",
       "<title>26</title>\n",
       "<polygon fill=\"#399de5\" stroke=\"#000000\" points=\"826,-1012.5 709,-1012.5 709,-944.5 826,-944.5 826,-1012.5\"/>\n",
       "<text text-anchor=\"middle\" x=\"767.5\" y=\"-997.3\" font-family=\"Times,serif\" font-size=\"14.00\" fill=\"#000000\">entropy = 0.0</text>\n",
       "<text text-anchor=\"middle\" x=\"767.5\" y=\"-982.3\" font-family=\"Times,serif\" font-size=\"14.00\" fill=\"#000000\">samples = 4</text>\n",
       "<text text-anchor=\"middle\" x=\"767.5\" y=\"-967.3\" font-family=\"Times,serif\" font-size=\"14.00\" fill=\"#000000\">value = [0, 4]</text>\n",
       "<text text-anchor=\"middle\" x=\"767.5\" y=\"-952.3\" font-family=\"Times,serif\" font-size=\"14.00\" fill=\"#000000\">class = Медведев</text>\n",
       "</g>\n",
       "<!-- 8&#45;&gt;26 -->\n",
       "<g id=\"edge26\" class=\"edge\">\n",
       "<title>8&#45;&gt;26</title>\n",
       "<path fill=\"none\" stroke=\"#000000\" d=\"M762.298,-1055.8796C763.0151,-1045.2134 763.7889,-1033.7021 764.515,-1022.9015\"/>\n",
       "<polygon fill=\"#000000\" stroke=\"#000000\" points=\"768.0144,-1023.0272 765.1931,-1012.8149 761.0301,-1022.5576 768.0144,-1023.0272\"/>\n",
       "</g>\n",
       "<!-- 10 -->\n",
       "<g id=\"node11\" class=\"node\">\n",
       "<title>10</title>\n",
       "<polygon fill=\"#e58139\" fill-opacity=\"0.745098\" stroke=\"#000000\" points=\"570,-901 465,-901 465,-818 570,-818 570,-901\"/>\n",
       "<text text-anchor=\"middle\" x=\"517.5\" y=\"-885.8\" font-family=\"Times,serif\" font-size=\"14.00\" fill=\"#000000\">X[2166] &lt;= 0.5</text>\n",
       "<text text-anchor=\"middle\" x=\"517.5\" y=\"-870.8\" font-family=\"Times,serif\" font-size=\"14.00\" fill=\"#000000\">entropy = 0.73</text>\n",
       "<text text-anchor=\"middle\" x=\"517.5\" y=\"-855.8\" font-family=\"Times,serif\" font-size=\"14.00\" fill=\"#000000\">samples = 93</text>\n",
       "<text text-anchor=\"middle\" x=\"517.5\" y=\"-840.8\" font-family=\"Times,serif\" font-size=\"14.00\" fill=\"#000000\">value = [74, 19]</text>\n",
       "<text text-anchor=\"middle\" x=\"517.5\" y=\"-825.8\" font-family=\"Times,serif\" font-size=\"14.00\" fill=\"#000000\">class = Путин</text>\n",
       "</g>\n",
       "<!-- 9&#45;&gt;10 -->\n",
       "<g id=\"edge10\" class=\"edge\">\n",
       "<title>9&#45;&gt;10</title>\n",
       "<path fill=\"none\" stroke=\"#000000\" d=\"M596.1801,-936.8796C586.8392,-927.6931 576.861,-917.8798 567.256,-908.4336\"/>\n",
       "<polygon fill=\"#000000\" stroke=\"#000000\" points=\"569.5845,-905.8146 560.0006,-901.2981 564.6762,-910.8054 569.5845,-905.8146\"/>\n",
       "</g>\n",
       "<!-- 25 -->\n",
       "<g id=\"node26\" class=\"node\">\n",
       "<title>25</title>\n",
       "<polygon fill=\"#399de5\" stroke=\"#000000\" points=\"705,-893.5 588,-893.5 588,-825.5 705,-825.5 705,-893.5\"/>\n",
       "<text text-anchor=\"middle\" x=\"646.5\" y=\"-878.3\" font-family=\"Times,serif\" font-size=\"14.00\" fill=\"#000000\">entropy = 0.0</text>\n",
       "<text text-anchor=\"middle\" x=\"646.5\" y=\"-863.3\" font-family=\"Times,serif\" font-size=\"14.00\" fill=\"#000000\">samples = 3</text>\n",
       "<text text-anchor=\"middle\" x=\"646.5\" y=\"-848.3\" font-family=\"Times,serif\" font-size=\"14.00\" fill=\"#000000\">value = [0, 3]</text>\n",
       "<text text-anchor=\"middle\" x=\"646.5\" y=\"-833.3\" font-family=\"Times,serif\" font-size=\"14.00\" fill=\"#000000\">class = Медведев</text>\n",
       "</g>\n",
       "<!-- 9&#45;&gt;25 -->\n",
       "<g id=\"edge25\" class=\"edge\">\n",
       "<title>9&#45;&gt;25</title>\n",
       "<path fill=\"none\" stroke=\"#000000\" d=\"M641.298,-936.8796C642.0151,-926.2134 642.7889,-914.7021 643.515,-903.9015\"/>\n",
       "<polygon fill=\"#000000\" stroke=\"#000000\" points=\"647.0144,-904.0272 644.1931,-893.8149 640.0301,-903.5576 647.0144,-904.0272\"/>\n",
       "</g>\n",
       "<!-- 11 -->\n",
       "<g id=\"node12\" class=\"node\">\n",
       "<title>11</title>\n",
       "<polygon fill=\"#e58139\" fill-opacity=\"0.784314\" stroke=\"#000000\" points=\"472,-782 367,-782 367,-699 472,-699 472,-782\"/>\n",
       "<text text-anchor=\"middle\" x=\"419.5\" y=\"-766.8\" font-family=\"Times,serif\" font-size=\"14.00\" fill=\"#000000\">X[1206] &lt;= 0.5</text>\n",
       "<text text-anchor=\"middle\" x=\"419.5\" y=\"-751.8\" font-family=\"Times,serif\" font-size=\"14.00\" fill=\"#000000\">entropy = 0.675</text>\n",
       "<text text-anchor=\"middle\" x=\"419.5\" y=\"-736.8\" font-family=\"Times,serif\" font-size=\"14.00\" fill=\"#000000\">samples = 90</text>\n",
       "<text text-anchor=\"middle\" x=\"419.5\" y=\"-721.8\" font-family=\"Times,serif\" font-size=\"14.00\" fill=\"#000000\">value = [74, 16]</text>\n",
       "<text text-anchor=\"middle\" x=\"419.5\" y=\"-706.8\" font-family=\"Times,serif\" font-size=\"14.00\" fill=\"#000000\">class = Путин</text>\n",
       "</g>\n",
       "<!-- 10&#45;&gt;11 -->\n",
       "<g id=\"edge11\" class=\"edge\">\n",
       "<title>10&#45;&gt;11</title>\n",
       "<path fill=\"none\" stroke=\"#000000\" d=\"M483.2244,-817.8796C475.8816,-808.9633 468.0524,-799.4565 460.4854,-790.268\"/>\n",
       "<polygon fill=\"#000000\" stroke=\"#000000\" points=\"462.9808,-787.7924 453.9219,-782.2981 457.5773,-792.2424 462.9808,-787.7924\"/>\n",
       "</g>\n",
       "<!-- 24 -->\n",
       "<g id=\"node25\" class=\"node\">\n",
       "<title>24</title>\n",
       "<polygon fill=\"#399de5\" stroke=\"#000000\" points=\"607,-774.5 490,-774.5 490,-706.5 607,-706.5 607,-774.5\"/>\n",
       "<text text-anchor=\"middle\" x=\"548.5\" y=\"-759.3\" font-family=\"Times,serif\" font-size=\"14.00\" fill=\"#000000\">entropy = 0.0</text>\n",
       "<text text-anchor=\"middle\" x=\"548.5\" y=\"-744.3\" font-family=\"Times,serif\" font-size=\"14.00\" fill=\"#000000\">samples = 3</text>\n",
       "<text text-anchor=\"middle\" x=\"548.5\" y=\"-729.3\" font-family=\"Times,serif\" font-size=\"14.00\" fill=\"#000000\">value = [0, 3]</text>\n",
       "<text text-anchor=\"middle\" x=\"548.5\" y=\"-714.3\" font-family=\"Times,serif\" font-size=\"14.00\" fill=\"#000000\">class = Медведев</text>\n",
       "</g>\n",
       "<!-- 10&#45;&gt;24 -->\n",
       "<g id=\"edge24\" class=\"edge\">\n",
       "<title>10&#45;&gt;24</title>\n",
       "<path fill=\"none\" stroke=\"#000000\" d=\"M528.3423,-817.8796C531.1495,-807.1034 534.1815,-795.4647 537.0202,-784.5677\"/>\n",
       "<polygon fill=\"#000000\" stroke=\"#000000\" points=\"540.4268,-785.3743 539.5608,-774.8149 533.6529,-783.6096 540.4268,-785.3743\"/>\n",
       "</g>\n",
       "<!-- 12 -->\n",
       "<g id=\"node13\" class=\"node\">\n",
       "<title>12</title>\n",
       "<polygon fill=\"#e58139\" fill-opacity=\"0.823529\" stroke=\"#000000\" points=\"408,-663 303,-663 303,-580 408,-580 408,-663\"/>\n",
       "<text text-anchor=\"middle\" x=\"355.5\" y=\"-647.8\" font-family=\"Times,serif\" font-size=\"14.00\" fill=\"#000000\">X[2940] &lt;= 0.5</text>\n",
       "<text text-anchor=\"middle\" x=\"355.5\" y=\"-632.8\" font-family=\"Times,serif\" font-size=\"14.00\" fill=\"#000000\">entropy = 0.613</text>\n",
       "<text text-anchor=\"middle\" x=\"355.5\" y=\"-617.8\" font-family=\"Times,serif\" font-size=\"14.00\" fill=\"#000000\">samples = 86</text>\n",
       "<text text-anchor=\"middle\" x=\"355.5\" y=\"-602.8\" font-family=\"Times,serif\" font-size=\"14.00\" fill=\"#000000\">value = [73, 13]</text>\n",
       "<text text-anchor=\"middle\" x=\"355.5\" y=\"-587.8\" font-family=\"Times,serif\" font-size=\"14.00\" fill=\"#000000\">class = Путин</text>\n",
       "</g>\n",
       "<!-- 11&#45;&gt;12 -->\n",
       "<g id=\"edge12\" class=\"edge\">\n",
       "<title>11&#45;&gt;12</title>\n",
       "<path fill=\"none\" stroke=\"#000000\" d=\"M397.1159,-698.8796C392.5144,-690.3236 387.6204,-681.2238 382.8658,-672.3833\"/>\n",
       "<polygon fill=\"#000000\" stroke=\"#000000\" points=\"385.7988,-670.4473 377.9796,-663.2981 379.6338,-673.763 385.7988,-670.4473\"/>\n",
       "</g>\n",
       "<!-- 23 -->\n",
       "<g id=\"node24\" class=\"node\">\n",
       "<title>23</title>\n",
       "<polygon fill=\"#399de5\" fill-opacity=\"0.666667\" stroke=\"#000000\" points=\"543,-655.5 426,-655.5 426,-587.5 543,-587.5 543,-655.5\"/>\n",
       "<text text-anchor=\"middle\" x=\"484.5\" y=\"-640.3\" font-family=\"Times,serif\" font-size=\"14.00\" fill=\"#000000\">entropy = 0.811</text>\n",
       "<text text-anchor=\"middle\" x=\"484.5\" y=\"-625.3\" font-family=\"Times,serif\" font-size=\"14.00\" fill=\"#000000\">samples = 4</text>\n",
       "<text text-anchor=\"middle\" x=\"484.5\" y=\"-610.3\" font-family=\"Times,serif\" font-size=\"14.00\" fill=\"#000000\">value = [1, 3]</text>\n",
       "<text text-anchor=\"middle\" x=\"484.5\" y=\"-595.3\" font-family=\"Times,serif\" font-size=\"14.00\" fill=\"#000000\">class = Медведев</text>\n",
       "</g>\n",
       "<!-- 11&#45;&gt;23 -->\n",
       "<g id=\"edge23\" class=\"edge\">\n",
       "<title>11&#45;&gt;23</title>\n",
       "<path fill=\"none\" stroke=\"#000000\" d=\"M442.2338,-698.8796C448.2401,-687.8835 454.737,-675.9893 460.7933,-664.9015\"/>\n",
       "<polygon fill=\"#000000\" stroke=\"#000000\" points=\"464.0345,-666.2689 465.7565,-655.8149 457.8912,-662.9133 464.0345,-666.2689\"/>\n",
       "</g>\n",
       "<!-- 13 -->\n",
       "<g id=\"node14\" class=\"node\">\n",
       "<title>13</title>\n",
       "<polygon fill=\"#e58139\" fill-opacity=\"0.760784\" stroke=\"#000000\" points=\"348,-544 243,-544 243,-461 348,-461 348,-544\"/>\n",
       "<text text-anchor=\"middle\" x=\"295.5\" y=\"-528.8\" font-family=\"Times,serif\" font-size=\"14.00\" fill=\"#000000\">X[267] &lt;= 0.5</text>\n",
       "<text text-anchor=\"middle\" x=\"295.5\" y=\"-513.8\" font-family=\"Times,serif\" font-size=\"14.00\" fill=\"#000000\">entropy = 0.71</text>\n",
       "<text text-anchor=\"middle\" x=\"295.5\" y=\"-498.8\" font-family=\"Times,serif\" font-size=\"14.00\" fill=\"#000000\">samples = 67</text>\n",
       "<text text-anchor=\"middle\" x=\"295.5\" y=\"-483.8\" font-family=\"Times,serif\" font-size=\"14.00\" fill=\"#000000\">value = [54, 13]</text>\n",
       "<text text-anchor=\"middle\" x=\"295.5\" y=\"-468.8\" font-family=\"Times,serif\" font-size=\"14.00\" fill=\"#000000\">class = Путин</text>\n",
       "</g>\n",
       "<!-- 12&#45;&gt;13 -->\n",
       "<g id=\"edge13\" class=\"edge\">\n",
       "<title>12&#45;&gt;13</title>\n",
       "<path fill=\"none\" stroke=\"#000000\" d=\"M334.5149,-579.8796C330.201,-571.3236 325.6128,-562.2238 321.1554,-553.3833\"/>\n",
       "<polygon fill=\"#000000\" stroke=\"#000000\" points=\"324.2021,-551.6515 316.5747,-544.2981 317.9516,-554.8031 324.2021,-551.6515\"/>\n",
       "</g>\n",
       "<!-- 22 -->\n",
       "<g id=\"node23\" class=\"node\">\n",
       "<title>22</title>\n",
       "<polygon fill=\"#e58139\" stroke=\"#000000\" points=\"464.5,-536.5 366.5,-536.5 366.5,-468.5 464.5,-468.5 464.5,-536.5\"/>\n",
       "<text text-anchor=\"middle\" x=\"415.5\" y=\"-521.3\" font-family=\"Times,serif\" font-size=\"14.00\" fill=\"#000000\">entropy = 0.0</text>\n",
       "<text text-anchor=\"middle\" x=\"415.5\" y=\"-506.3\" font-family=\"Times,serif\" font-size=\"14.00\" fill=\"#000000\">samples = 19</text>\n",
       "<text text-anchor=\"middle\" x=\"415.5\" y=\"-491.3\" font-family=\"Times,serif\" font-size=\"14.00\" fill=\"#000000\">value = [19, 0]</text>\n",
       "<text text-anchor=\"middle\" x=\"415.5\" y=\"-476.3\" font-family=\"Times,serif\" font-size=\"14.00\" fill=\"#000000\">class = Путин</text>\n",
       "</g>\n",
       "<!-- 12&#45;&gt;22 -->\n",
       "<g id=\"edge22\" class=\"edge\">\n",
       "<title>12&#45;&gt;22</title>\n",
       "<path fill=\"none\" stroke=\"#000000\" d=\"M376.4851,-579.8796C382.0293,-568.8835 388.0264,-556.9893 393.6169,-545.9015\"/>\n",
       "<polygon fill=\"#000000\" stroke=\"#000000\" points=\"396.8214,-547.3199 398.1984,-536.8149 390.5709,-544.1684 396.8214,-547.3199\"/>\n",
       "</g>\n",
       "<!-- 14 -->\n",
       "<g id=\"node15\" class=\"node\">\n",
       "<title>14</title>\n",
       "<polygon fill=\"#e58139\" fill-opacity=\"0.682353\" stroke=\"#000000\" points=\"288,-425 183,-425 183,-342 288,-342 288,-425\"/>\n",
       "<text text-anchor=\"middle\" x=\"235.5\" y=\"-409.8\" font-family=\"Times,serif\" font-size=\"14.00\" fill=\"#000000\">X[1049] &lt;= 0.5</text>\n",
       "<text text-anchor=\"middle\" x=\"235.5\" y=\"-394.8\" font-family=\"Times,serif\" font-size=\"14.00\" fill=\"#000000\">entropy = 0.796</text>\n",
       "<text text-anchor=\"middle\" x=\"235.5\" y=\"-379.8\" font-family=\"Times,serif\" font-size=\"14.00\" fill=\"#000000\">samples = 54</text>\n",
       "<text text-anchor=\"middle\" x=\"235.5\" y=\"-364.8\" font-family=\"Times,serif\" font-size=\"14.00\" fill=\"#000000\">value = [41, 13]</text>\n",
       "<text text-anchor=\"middle\" x=\"235.5\" y=\"-349.8\" font-family=\"Times,serif\" font-size=\"14.00\" fill=\"#000000\">class = Путин</text>\n",
       "</g>\n",
       "<!-- 13&#45;&gt;14 -->\n",
       "<g id=\"edge14\" class=\"edge\">\n",
       "<title>13&#45;&gt;14</title>\n",
       "<path fill=\"none\" stroke=\"#000000\" d=\"M274.5149,-460.8796C270.201,-452.3236 265.6128,-443.2238 261.1554,-434.3833\"/>\n",
       "<polygon fill=\"#000000\" stroke=\"#000000\" points=\"264.2021,-432.6515 256.5747,-425.2981 257.9516,-435.8031 264.2021,-432.6515\"/>\n",
       "</g>\n",
       "<!-- 21 -->\n",
       "<g id=\"node22\" class=\"node\">\n",
       "<title>21</title>\n",
       "<polygon fill=\"#e58139\" stroke=\"#000000\" points=\"404.5,-417.5 306.5,-417.5 306.5,-349.5 404.5,-349.5 404.5,-417.5\"/>\n",
       "<text text-anchor=\"middle\" x=\"355.5\" y=\"-402.3\" font-family=\"Times,serif\" font-size=\"14.00\" fill=\"#000000\">entropy = 0.0</text>\n",
       "<text text-anchor=\"middle\" x=\"355.5\" y=\"-387.3\" font-family=\"Times,serif\" font-size=\"14.00\" fill=\"#000000\">samples = 13</text>\n",
       "<text text-anchor=\"middle\" x=\"355.5\" y=\"-372.3\" font-family=\"Times,serif\" font-size=\"14.00\" fill=\"#000000\">value = [13, 0]</text>\n",
       "<text text-anchor=\"middle\" x=\"355.5\" y=\"-357.3\" font-family=\"Times,serif\" font-size=\"14.00\" fill=\"#000000\">class = Путин</text>\n",
       "</g>\n",
       "<!-- 13&#45;&gt;21 -->\n",
       "<g id=\"edge21\" class=\"edge\">\n",
       "<title>13&#45;&gt;21</title>\n",
       "<path fill=\"none\" stroke=\"#000000\" d=\"M316.4851,-460.8796C322.0293,-449.8835 328.0264,-437.9893 333.6169,-426.9015\"/>\n",
       "<polygon fill=\"#000000\" stroke=\"#000000\" points=\"336.8214,-428.3199 338.1984,-417.8149 330.5709,-425.1684 336.8214,-428.3199\"/>\n",
       "</g>\n",
       "<!-- 15 -->\n",
       "<g id=\"node16\" class=\"node\">\n",
       "<title>15</title>\n",
       "<polygon fill=\"#e58139\" fill-opacity=\"0.749020\" stroke=\"#000000\" points=\"224,-306 119,-306 119,-223 224,-223 224,-306\"/>\n",
       "<text text-anchor=\"middle\" x=\"171.5\" y=\"-290.8\" font-family=\"Times,serif\" font-size=\"14.00\" fill=\"#000000\">X[3690] &lt;= 0.5</text>\n",
       "<text text-anchor=\"middle\" x=\"171.5\" y=\"-275.8\" font-family=\"Times,serif\" font-size=\"14.00\" fill=\"#000000\">entropy = 0.722</text>\n",
       "<text text-anchor=\"middle\" x=\"171.5\" y=\"-260.8\" font-family=\"Times,serif\" font-size=\"14.00\" fill=\"#000000\">samples = 50</text>\n",
       "<text text-anchor=\"middle\" x=\"171.5\" y=\"-245.8\" font-family=\"Times,serif\" font-size=\"14.00\" fill=\"#000000\">value = [40, 10]</text>\n",
       "<text text-anchor=\"middle\" x=\"171.5\" y=\"-230.8\" font-family=\"Times,serif\" font-size=\"14.00\" fill=\"#000000\">class = Путин</text>\n",
       "</g>\n",
       "<!-- 14&#45;&gt;15 -->\n",
       "<g id=\"edge15\" class=\"edge\">\n",
       "<title>14&#45;&gt;15</title>\n",
       "<path fill=\"none\" stroke=\"#000000\" d=\"M213.1159,-341.8796C208.5144,-333.3236 203.6204,-324.2238 198.8658,-315.3833\"/>\n",
       "<polygon fill=\"#000000\" stroke=\"#000000\" points=\"201.7988,-313.4473 193.9796,-306.2981 195.6338,-316.763 201.7988,-313.4473\"/>\n",
       "</g>\n",
       "<!-- 20 -->\n",
       "<g id=\"node21\" class=\"node\">\n",
       "<title>20</title>\n",
       "<polygon fill=\"#399de5\" fill-opacity=\"0.666667\" stroke=\"#000000\" points=\"359,-298.5 242,-298.5 242,-230.5 359,-230.5 359,-298.5\"/>\n",
       "<text text-anchor=\"middle\" x=\"300.5\" y=\"-283.3\" font-family=\"Times,serif\" font-size=\"14.00\" fill=\"#000000\">entropy = 0.811</text>\n",
       "<text text-anchor=\"middle\" x=\"300.5\" y=\"-268.3\" font-family=\"Times,serif\" font-size=\"14.00\" fill=\"#000000\">samples = 4</text>\n",
       "<text text-anchor=\"middle\" x=\"300.5\" y=\"-253.3\" font-family=\"Times,serif\" font-size=\"14.00\" fill=\"#000000\">value = [1, 3]</text>\n",
       "<text text-anchor=\"middle\" x=\"300.5\" y=\"-238.3\" font-family=\"Times,serif\" font-size=\"14.00\" fill=\"#000000\">class = Медведев</text>\n",
       "</g>\n",
       "<!-- 14&#45;&gt;20 -->\n",
       "<g id=\"edge20\" class=\"edge\">\n",
       "<title>14&#45;&gt;20</title>\n",
       "<path fill=\"none\" stroke=\"#000000\" d=\"M258.2338,-341.8796C264.2401,-330.8835 270.737,-318.9893 276.7933,-307.9015\"/>\n",
       "<polygon fill=\"#000000\" stroke=\"#000000\" points=\"280.0345,-309.2689 281.7565,-298.8149 273.8912,-305.9133 280.0345,-309.2689\"/>\n",
       "</g>\n",
       "<!-- 16 -->\n",
       "<g id=\"node17\" class=\"node\">\n",
       "<title>16</title>\n",
       "<polygon fill=\"#e58139\" fill-opacity=\"0.654902\" stroke=\"#000000\" points=\"164,-187 59,-187 59,-104 164,-104 164,-187\"/>\n",
       "<text text-anchor=\"middle\" x=\"111.5\" y=\"-171.8\" font-family=\"Times,serif\" font-size=\"14.00\" fill=\"#000000\">X[718] &lt;= 0.5</text>\n",
       "<text text-anchor=\"middle\" x=\"111.5\" y=\"-156.8\" font-family=\"Times,serif\" font-size=\"14.00\" fill=\"#000000\">entropy = 0.821</text>\n",
       "<text text-anchor=\"middle\" x=\"111.5\" y=\"-141.8\" font-family=\"Times,serif\" font-size=\"14.00\" fill=\"#000000\">samples = 39</text>\n",
       "<text text-anchor=\"middle\" x=\"111.5\" y=\"-126.8\" font-family=\"Times,serif\" font-size=\"14.00\" fill=\"#000000\">value = [29, 10]</text>\n",
       "<text text-anchor=\"middle\" x=\"111.5\" y=\"-111.8\" font-family=\"Times,serif\" font-size=\"14.00\" fill=\"#000000\">class = Путин</text>\n",
       "</g>\n",
       "<!-- 15&#45;&gt;16 -->\n",
       "<g id=\"edge16\" class=\"edge\">\n",
       "<title>15&#45;&gt;16</title>\n",
       "<path fill=\"none\" stroke=\"#000000\" d=\"M150.5149,-222.8796C146.201,-214.3236 141.6128,-205.2238 137.1554,-196.3833\"/>\n",
       "<polygon fill=\"#000000\" stroke=\"#000000\" points=\"140.2021,-194.6515 132.5747,-187.2981 133.9516,-197.8031 140.2021,-194.6515\"/>\n",
       "</g>\n",
       "<!-- 19 -->\n",
       "<g id=\"node20\" class=\"node\">\n",
       "<title>19</title>\n",
       "<polygon fill=\"#e58139\" stroke=\"#000000\" points=\"280.5,-179.5 182.5,-179.5 182.5,-111.5 280.5,-111.5 280.5,-179.5\"/>\n",
       "<text text-anchor=\"middle\" x=\"231.5\" y=\"-164.3\" font-family=\"Times,serif\" font-size=\"14.00\" fill=\"#000000\">entropy = 0.0</text>\n",
       "<text text-anchor=\"middle\" x=\"231.5\" y=\"-149.3\" font-family=\"Times,serif\" font-size=\"14.00\" fill=\"#000000\">samples = 11</text>\n",
       "<text text-anchor=\"middle\" x=\"231.5\" y=\"-134.3\" font-family=\"Times,serif\" font-size=\"14.00\" fill=\"#000000\">value = [11, 0]</text>\n",
       "<text text-anchor=\"middle\" x=\"231.5\" y=\"-119.3\" font-family=\"Times,serif\" font-size=\"14.00\" fill=\"#000000\">class = Путин</text>\n",
       "</g>\n",
       "<!-- 15&#45;&gt;19 -->\n",
       "<g id=\"edge19\" class=\"edge\">\n",
       "<title>15&#45;&gt;19</title>\n",
       "<path fill=\"none\" stroke=\"#000000\" d=\"M192.4851,-222.8796C198.0293,-211.8835 204.0264,-199.9893 209.6169,-188.9015\"/>\n",
       "<polygon fill=\"#000000\" stroke=\"#000000\" points=\"212.8214,-190.3199 214.1984,-179.8149 206.5709,-187.1684 212.8214,-190.3199\"/>\n",
       "</g>\n",
       "<!-- 17 -->\n",
       "<g id=\"node18\" class=\"node\">\n",
       "<title>17</title>\n",
       "<polygon fill=\"#e58139\" fill-opacity=\"0.545098\" stroke=\"#000000\" points=\"105,-68 0,-68 0,0 105,0 105,-68\"/>\n",
       "<text text-anchor=\"middle\" x=\"52.5\" y=\"-52.8\" font-family=\"Times,serif\" font-size=\"14.00\" fill=\"#000000\">entropy = 0.896</text>\n",
       "<text text-anchor=\"middle\" x=\"52.5\" y=\"-37.8\" font-family=\"Times,serif\" font-size=\"14.00\" fill=\"#000000\">samples = 32</text>\n",
       "<text text-anchor=\"middle\" x=\"52.5\" y=\"-22.8\" font-family=\"Times,serif\" font-size=\"14.00\" fill=\"#000000\">value = [22, 10]</text>\n",
       "<text text-anchor=\"middle\" x=\"52.5\" y=\"-7.8\" font-family=\"Times,serif\" font-size=\"14.00\" fill=\"#000000\">class = Путин</text>\n",
       "</g>\n",
       "<!-- 16&#45;&gt;17 -->\n",
       "<g id=\"edge17\" class=\"edge\">\n",
       "<title>16&#45;&gt;17</title>\n",
       "<path fill=\"none\" stroke=\"#000000\" d=\"M89.5306,-103.9815C84.9105,-95.2504 80.0264,-86.0202 75.374,-77.2281\"/>\n",
       "<polygon fill=\"#000000\" stroke=\"#000000\" points=\"78.4013,-75.4655 70.6306,-68.2637 72.2141,-78.7395 78.4013,-75.4655\"/>\n",
       "</g>\n",
       "<!-- 18 -->\n",
       "<g id=\"node19\" class=\"node\">\n",
       "<title>18</title>\n",
       "<polygon fill=\"#e58139\" stroke=\"#000000\" points=\"219.5,-68 123.5,-68 123.5,0 219.5,0 219.5,-68\"/>\n",
       "<text text-anchor=\"middle\" x=\"171.5\" y=\"-52.8\" font-family=\"Times,serif\" font-size=\"14.00\" fill=\"#000000\">entropy = 0.0</text>\n",
       "<text text-anchor=\"middle\" x=\"171.5\" y=\"-37.8\" font-family=\"Times,serif\" font-size=\"14.00\" fill=\"#000000\">samples = 7</text>\n",
       "<text text-anchor=\"middle\" x=\"171.5\" y=\"-22.8\" font-family=\"Times,serif\" font-size=\"14.00\" fill=\"#000000\">value = [7, 0]</text>\n",
       "<text text-anchor=\"middle\" x=\"171.5\" y=\"-7.8\" font-family=\"Times,serif\" font-size=\"14.00\" fill=\"#000000\">class = Путин</text>\n",
       "</g>\n",
       "<!-- 16&#45;&gt;18 -->\n",
       "<g id=\"edge18\" class=\"edge\">\n",
       "<title>16&#45;&gt;18</title>\n",
       "<path fill=\"none\" stroke=\"#000000\" d=\"M133.8418,-103.9815C138.5402,-95.2504 143.5071,-86.0202 148.2383,-77.2281\"/>\n",
       "<polygon fill=\"#000000\" stroke=\"#000000\" points=\"151.4056,-78.7282 153.0621,-68.2637 145.2414,-75.4111 151.4056,-78.7282\"/>\n",
       "</g>\n",
       "<!-- 34 -->\n",
       "<g id=\"node35\" class=\"node\">\n",
       "<title>34</title>\n",
       "<polygon fill=\"#399de5\" fill-opacity=\"0.596078\" stroke=\"#000000\" points=\"1512,-1734 1395,-1734 1395,-1651 1512,-1651 1512,-1734\"/>\n",
       "<text text-anchor=\"middle\" x=\"1453.5\" y=\"-1718.8\" font-family=\"Times,serif\" font-size=\"14.00\" fill=\"#000000\">X[821] &lt;= 0.5</text>\n",
       "<text text-anchor=\"middle\" x=\"1453.5\" y=\"-1703.8\" font-family=\"Times,serif\" font-size=\"14.00\" fill=\"#000000\">entropy = 0.865</text>\n",
       "<text text-anchor=\"middle\" x=\"1453.5\" y=\"-1688.8\" font-family=\"Times,serif\" font-size=\"14.00\" fill=\"#000000\">samples = 115</text>\n",
       "<text text-anchor=\"middle\" x=\"1453.5\" y=\"-1673.8\" font-family=\"Times,serif\" font-size=\"14.00\" fill=\"#000000\">value = [33, 82]</text>\n",
       "<text text-anchor=\"middle\" x=\"1453.5\" y=\"-1658.8\" font-family=\"Times,serif\" font-size=\"14.00\" fill=\"#000000\">class = Медведев</text>\n",
       "</g>\n",
       "<!-- 33&#45;&gt;34 -->\n",
       "<g id=\"edge34\" class=\"edge\">\n",
       "<title>33&#45;&gt;34</title>\n",
       "<path fill=\"none\" stroke=\"#000000\" d=\"M1489.9139,-1769.8796C1485.8876,-1761.3236 1481.6053,-1752.2238 1477.4451,-1743.3833\"/>\n",
       "<polygon fill=\"#000000\" stroke=\"#000000\" points=\"1480.5946,-1741.856 1473.1697,-1734.2981 1474.2608,-1744.8366 1480.5946,-1741.856\"/>\n",
       "</g>\n",
       "<!-- 65 -->\n",
       "<g id=\"node66\" class=\"node\">\n",
       "<title>65</title>\n",
       "<polygon fill=\"#e58139\" stroke=\"#000000\" points=\"1626.5,-1726.5 1530.5,-1726.5 1530.5,-1658.5 1626.5,-1658.5 1626.5,-1726.5\"/>\n",
       "<text text-anchor=\"middle\" x=\"1578.5\" y=\"-1711.3\" font-family=\"Times,serif\" font-size=\"14.00\" fill=\"#000000\">entropy = 0.0</text>\n",
       "<text text-anchor=\"middle\" x=\"1578.5\" y=\"-1696.3\" font-family=\"Times,serif\" font-size=\"14.00\" fill=\"#000000\">samples = 7</text>\n",
       "<text text-anchor=\"middle\" x=\"1578.5\" y=\"-1681.3\" font-family=\"Times,serif\" font-size=\"14.00\" fill=\"#000000\">value = [7, 0]</text>\n",
       "<text text-anchor=\"middle\" x=\"1578.5\" y=\"-1666.3\" font-family=\"Times,serif\" font-size=\"14.00\" fill=\"#000000\">class = Путин</text>\n",
       "</g>\n",
       "<!-- 33&#45;&gt;65 -->\n",
       "<g id=\"edge65\" class=\"edge\">\n",
       "<title>33&#45;&gt;65</title>\n",
       "<path fill=\"none\" stroke=\"#000000\" d=\"M1533.6329,-1769.8796C1540.0725,-1758.7735 1547.0434,-1746.7513 1553.5271,-1735.5691\"/>\n",
       "<polygon fill=\"#000000\" stroke=\"#000000\" points=\"1556.6148,-1737.2215 1558.6031,-1726.8149 1550.5591,-1733.7102 1556.6148,-1737.2215\"/>\n",
       "</g>\n",
       "<!-- 35 -->\n",
       "<g id=\"node36\" class=\"node\">\n",
       "<title>35</title>\n",
       "<polygon fill=\"#399de5\" fill-opacity=\"0.705882\" stroke=\"#000000\" points=\"1459,-1615 1342,-1615 1342,-1532 1459,-1532 1459,-1615\"/>\n",
       "<text text-anchor=\"middle\" x=\"1400.5\" y=\"-1599.8\" font-family=\"Times,serif\" font-size=\"14.00\" fill=\"#000000\">X[3123] &lt;= 0.5</text>\n",
       "<text text-anchor=\"middle\" x=\"1400.5\" y=\"-1584.8\" font-family=\"Times,serif\" font-size=\"14.00\" fill=\"#000000\">entropy = 0.774</text>\n",
       "<text text-anchor=\"middle\" x=\"1400.5\" y=\"-1569.8\" font-family=\"Times,serif\" font-size=\"14.00\" fill=\"#000000\">samples = 101</text>\n",
       "<text text-anchor=\"middle\" x=\"1400.5\" y=\"-1554.8\" font-family=\"Times,serif\" font-size=\"14.00\" fill=\"#000000\">value = [23, 78]</text>\n",
       "<text text-anchor=\"middle\" x=\"1400.5\" y=\"-1539.8\" font-family=\"Times,serif\" font-size=\"14.00\" fill=\"#000000\">class = Медведев</text>\n",
       "</g>\n",
       "<!-- 34&#45;&gt;35 -->\n",
       "<g id=\"edge35\" class=\"edge\">\n",
       "<title>34&#45;&gt;35</title>\n",
       "<path fill=\"none\" stroke=\"#000000\" d=\"M1434.9632,-1650.8796C1431.1926,-1642.4136 1427.185,-1633.4153 1423.2867,-1624.6626\"/>\n",
       "<polygon fill=\"#000000\" stroke=\"#000000\" points=\"1426.3817,-1623.009 1419.1159,-1615.2981 1419.9873,-1625.857 1426.3817,-1623.009\"/>\n",
       "</g>\n",
       "<!-- 60 -->\n",
       "<g id=\"node61\" class=\"node\">\n",
       "<title>60</title>\n",
       "<polygon fill=\"#e58139\" fill-opacity=\"0.600000\" stroke=\"#000000\" points=\"1581.5,-1615 1477.5,-1615 1477.5,-1532 1581.5,-1532 1581.5,-1615\"/>\n",
       "<text text-anchor=\"middle\" x=\"1529.5\" y=\"-1599.8\" font-family=\"Times,serif\" font-size=\"14.00\" fill=\"#000000\">X[3797] &lt;= 2.5</text>\n",
       "<text text-anchor=\"middle\" x=\"1529.5\" y=\"-1584.8\" font-family=\"Times,serif\" font-size=\"14.00\" fill=\"#000000\">entropy = 0.863</text>\n",
       "<text text-anchor=\"middle\" x=\"1529.5\" y=\"-1569.8\" font-family=\"Times,serif\" font-size=\"14.00\" fill=\"#000000\">samples = 14</text>\n",
       "<text text-anchor=\"middle\" x=\"1529.5\" y=\"-1554.8\" font-family=\"Times,serif\" font-size=\"14.00\" fill=\"#000000\">value = [10, 4]</text>\n",
       "<text text-anchor=\"middle\" x=\"1529.5\" y=\"-1539.8\" font-family=\"Times,serif\" font-size=\"14.00\" fill=\"#000000\">class = Путин</text>\n",
       "</g>\n",
       "<!-- 34&#45;&gt;60 -->\n",
       "<g id=\"edge60\" class=\"edge\">\n",
       "<title>34&#45;&gt;60</title>\n",
       "<path fill=\"none\" stroke=\"#000000\" d=\"M1480.0811,-1650.8796C1485.6605,-1642.1434 1491.6019,-1632.8404 1497.3595,-1623.8253\"/>\n",
       "<polygon fill=\"#000000\" stroke=\"#000000\" points=\"1500.3726,-1625.6098 1502.8054,-1615.2981 1494.4731,-1621.8421 1500.3726,-1625.6098\"/>\n",
       "</g>\n",
       "<!-- 36 -->\n",
       "<g id=\"node37\" class=\"node\">\n",
       "<title>36</title>\n",
       "<polygon fill=\"#399de5\" fill-opacity=\"0.780392\" stroke=\"#000000\" points=\"1332,-1496 1215,-1496 1215,-1413 1332,-1413 1332,-1496\"/>\n",
       "<text text-anchor=\"middle\" x=\"1273.5\" y=\"-1480.8\" font-family=\"Times,serif\" font-size=\"14.00\" fill=\"#000000\">X[2831] &lt;= 0.5</text>\n",
       "<text text-anchor=\"middle\" x=\"1273.5\" y=\"-1465.8\" font-family=\"Times,serif\" font-size=\"14.00\" fill=\"#000000\">entropy = 0.682</text>\n",
       "<text text-anchor=\"middle\" x=\"1273.5\" y=\"-1450.8\" font-family=\"Times,serif\" font-size=\"14.00\" fill=\"#000000\">samples = 94</text>\n",
       "<text text-anchor=\"middle\" x=\"1273.5\" y=\"-1435.8\" font-family=\"Times,serif\" font-size=\"14.00\" fill=\"#000000\">value = [17, 77]</text>\n",
       "<text text-anchor=\"middle\" x=\"1273.5\" y=\"-1420.8\" font-family=\"Times,serif\" font-size=\"14.00\" fill=\"#000000\">class = Медведев</text>\n",
       "</g>\n",
       "<!-- 35&#45;&gt;36 -->\n",
       "<g id=\"edge36\" class=\"edge\">\n",
       "<title>35&#45;&gt;36</title>\n",
       "<path fill=\"none\" stroke=\"#000000\" d=\"M1356.0816,-1531.8796C1346.1814,-1522.6031 1335.5991,-1512.6874 1325.4269,-1503.1559\"/>\n",
       "<polygon fill=\"#000000\" stroke=\"#000000\" points=\"1327.7984,-1500.5816 1318.108,-1496.2981 1323.0121,-1505.6896 1327.7984,-1500.5816\"/>\n",
       "</g>\n",
       "<!-- 57 -->\n",
       "<g id=\"node58\" class=\"node\">\n",
       "<title>57</title>\n",
       "<polygon fill=\"#e58139\" fill-opacity=\"0.831373\" stroke=\"#000000\" points=\"1454.5,-1496 1350.5,-1496 1350.5,-1413 1454.5,-1413 1454.5,-1496\"/>\n",
       "<text text-anchor=\"middle\" x=\"1402.5\" y=\"-1480.8\" font-family=\"Times,serif\" font-size=\"14.00\" fill=\"#000000\">X[1165] &lt;= 0.5</text>\n",
       "<text text-anchor=\"middle\" x=\"1402.5\" y=\"-1465.8\" font-family=\"Times,serif\" font-size=\"14.00\" fill=\"#000000\">entropy = 0.592</text>\n",
       "<text text-anchor=\"middle\" x=\"1402.5\" y=\"-1450.8\" font-family=\"Times,serif\" font-size=\"14.00\" fill=\"#000000\">samples = 7</text>\n",
       "<text text-anchor=\"middle\" x=\"1402.5\" y=\"-1435.8\" font-family=\"Times,serif\" font-size=\"14.00\" fill=\"#000000\">value = [6, 1]</text>\n",
       "<text text-anchor=\"middle\" x=\"1402.5\" y=\"-1420.8\" font-family=\"Times,serif\" font-size=\"14.00\" fill=\"#000000\">class = Путин</text>\n",
       "</g>\n",
       "<!-- 35&#45;&gt;57 -->\n",
       "<g id=\"edge57\" class=\"edge\">\n",
       "<title>35&#45;&gt;57</title>\n",
       "<path fill=\"none\" stroke=\"#000000\" d=\"M1401.1995,-1531.8796C1401.3372,-1523.6838 1401.4834,-1514.9891 1401.626,-1506.5013\"/>\n",
       "<polygon fill=\"#000000\" stroke=\"#000000\" points=\"1405.1289,-1506.3555 1401.7975,-1496.2981 1398.1299,-1506.2378 1405.1289,-1506.3555\"/>\n",
       "</g>\n",
       "<!-- 37 -->\n",
       "<g id=\"node38\" class=\"node\">\n",
       "<title>37</title>\n",
       "<polygon fill=\"#399de5\" fill-opacity=\"0.819608\" stroke=\"#000000\" points=\"1211,-1377 1094,-1377 1094,-1294 1211,-1294 1211,-1377\"/>\n",
       "<text text-anchor=\"middle\" x=\"1152.5\" y=\"-1361.8\" font-family=\"Times,serif\" font-size=\"14.00\" fill=\"#000000\">X[947] &lt;= 0.5</text>\n",
       "<text text-anchor=\"middle\" x=\"1152.5\" y=\"-1346.8\" font-family=\"Times,serif\" font-size=\"14.00\" fill=\"#000000\">entropy = 0.619</text>\n",
       "<text text-anchor=\"middle\" x=\"1152.5\" y=\"-1331.8\" font-family=\"Times,serif\" font-size=\"14.00\" fill=\"#000000\">samples = 91</text>\n",
       "<text text-anchor=\"middle\" x=\"1152.5\" y=\"-1316.8\" font-family=\"Times,serif\" font-size=\"14.00\" fill=\"#000000\">value = [14, 77]</text>\n",
       "<text text-anchor=\"middle\" x=\"1152.5\" y=\"-1301.8\" font-family=\"Times,serif\" font-size=\"14.00\" fill=\"#000000\">class = Медведев</text>\n",
       "</g>\n",
       "<!-- 36&#45;&gt;37 -->\n",
       "<g id=\"edge37\" class=\"edge\">\n",
       "<title>36&#45;&gt;37</title>\n",
       "<path fill=\"none\" stroke=\"#000000\" d=\"M1231.1801,-1412.8796C1221.8392,-1403.6931 1211.861,-1393.8798 1202.256,-1384.4336\"/>\n",
       "<polygon fill=\"#000000\" stroke=\"#000000\" points=\"1204.5845,-1381.8146 1195.0006,-1377.2981 1199.6762,-1386.8054 1204.5845,-1381.8146\"/>\n",
       "</g>\n",
       "<!-- 56 -->\n",
       "<g id=\"node57\" class=\"node\">\n",
       "<title>56</title>\n",
       "<polygon fill=\"#e58139\" stroke=\"#000000\" points=\"1325.5,-1369.5 1229.5,-1369.5 1229.5,-1301.5 1325.5,-1301.5 1325.5,-1369.5\"/>\n",
       "<text text-anchor=\"middle\" x=\"1277.5\" y=\"-1354.3\" font-family=\"Times,serif\" font-size=\"14.00\" fill=\"#000000\">entropy = 0.0</text>\n",
       "<text text-anchor=\"middle\" x=\"1277.5\" y=\"-1339.3\" font-family=\"Times,serif\" font-size=\"14.00\" fill=\"#000000\">samples = 3</text>\n",
       "<text text-anchor=\"middle\" x=\"1277.5\" y=\"-1324.3\" font-family=\"Times,serif\" font-size=\"14.00\" fill=\"#000000\">value = [3, 0]</text>\n",
       "<text text-anchor=\"middle\" x=\"1277.5\" y=\"-1309.3\" font-family=\"Times,serif\" font-size=\"14.00\" fill=\"#000000\">class = Путин</text>\n",
       "</g>\n",
       "<!-- 36&#45;&gt;56 -->\n",
       "<g id=\"edge56\" class=\"edge\">\n",
       "<title>36&#45;&gt;56</title>\n",
       "<path fill=\"none\" stroke=\"#000000\" d=\"M1274.899,-1412.8796C1275.2575,-1402.2134 1275.6445,-1390.7021 1276.0075,-1379.9015\"/>\n",
       "<polygon fill=\"#000000\" stroke=\"#000000\" points=\"1279.5085,-1379.9269 1276.3466,-1369.8149 1272.5125,-1379.6917 1279.5085,-1379.9269\"/>\n",
       "</g>\n",
       "<!-- 38 -->\n",
       "<g id=\"node39\" class=\"node\">\n",
       "<title>38</title>\n",
       "<polygon fill=\"#399de5\" fill-opacity=\"0.858824\" stroke=\"#000000\" points=\"1149,-1258 1032,-1258 1032,-1175 1149,-1175 1149,-1258\"/>\n",
       "<text text-anchor=\"middle\" x=\"1090.5\" y=\"-1242.8\" font-family=\"Times,serif\" font-size=\"14.00\" fill=\"#000000\">X[1294] &lt;= 0.5</text>\n",
       "<text text-anchor=\"middle\" x=\"1090.5\" y=\"-1227.8\" font-family=\"Times,serif\" font-size=\"14.00\" fill=\"#000000\">entropy = 0.544</text>\n",
       "<text text-anchor=\"middle\" x=\"1090.5\" y=\"-1212.8\" font-family=\"Times,serif\" font-size=\"14.00\" fill=\"#000000\">samples = 88</text>\n",
       "<text text-anchor=\"middle\" x=\"1090.5\" y=\"-1197.8\" font-family=\"Times,serif\" font-size=\"14.00\" fill=\"#000000\">value = [11, 77]</text>\n",
       "<text text-anchor=\"middle\" x=\"1090.5\" y=\"-1182.8\" font-family=\"Times,serif\" font-size=\"14.00\" fill=\"#000000\">class = Медведев</text>\n",
       "</g>\n",
       "<!-- 37&#45;&gt;38 -->\n",
       "<g id=\"edge38\" class=\"edge\">\n",
       "<title>37&#45;&gt;38</title>\n",
       "<path fill=\"none\" stroke=\"#000000\" d=\"M1130.8154,-1293.8796C1126.3577,-1285.3236 1121.6166,-1276.2238 1117.0106,-1267.3833\"/>\n",
       "<polygon fill=\"#000000\" stroke=\"#000000\" points=\"1120.0017,-1265.5494 1112.2771,-1258.2981 1113.7938,-1268.7838 1120.0017,-1265.5494\"/>\n",
       "</g>\n",
       "<!-- 55 -->\n",
       "<g id=\"node56\" class=\"node\">\n",
       "<title>55</title>\n",
       "<polygon fill=\"#e58139\" stroke=\"#000000\" points=\"1263.5,-1250.5 1167.5,-1250.5 1167.5,-1182.5 1263.5,-1182.5 1263.5,-1250.5\"/>\n",
       "<text text-anchor=\"middle\" x=\"1215.5\" y=\"-1235.3\" font-family=\"Times,serif\" font-size=\"14.00\" fill=\"#000000\">entropy = 0.0</text>\n",
       "<text text-anchor=\"middle\" x=\"1215.5\" y=\"-1220.3\" font-family=\"Times,serif\" font-size=\"14.00\" fill=\"#000000\">samples = 3</text>\n",
       "<text text-anchor=\"middle\" x=\"1215.5\" y=\"-1205.3\" font-family=\"Times,serif\" font-size=\"14.00\" fill=\"#000000\">value = [3, 0]</text>\n",
       "<text text-anchor=\"middle\" x=\"1215.5\" y=\"-1190.3\" font-family=\"Times,serif\" font-size=\"14.00\" fill=\"#000000\">class = Путин</text>\n",
       "</g>\n",
       "<!-- 37&#45;&gt;55 -->\n",
       "<g id=\"edge55\" class=\"edge\">\n",
       "<title>37&#45;&gt;55</title>\n",
       "<path fill=\"none\" stroke=\"#000000\" d=\"M1174.5343,-1293.8796C1180.3558,-1282.8835 1186.6527,-1270.9893 1192.5227,-1259.9015\"/>\n",
       "<polygon fill=\"#000000\" stroke=\"#000000\" points=\"1195.7476,-1261.2905 1197.3333,-1250.8149 1189.5611,-1258.0152 1195.7476,-1261.2905\"/>\n",
       "</g>\n",
       "<!-- 39 -->\n",
       "<g id=\"node40\" class=\"node\">\n",
       "<title>39</title>\n",
       "<polygon fill=\"#399de5\" fill-opacity=\"0.898039\" stroke=\"#000000\" points=\"1088,-1139 971,-1139 971,-1056 1088,-1056 1088,-1139\"/>\n",
       "<text text-anchor=\"middle\" x=\"1029.5\" y=\"-1123.8\" font-family=\"Times,serif\" font-size=\"14.00\" fill=\"#000000\">X[1165] &lt;= 0.5</text>\n",
       "<text text-anchor=\"middle\" x=\"1029.5\" y=\"-1108.8\" font-family=\"Times,serif\" font-size=\"14.00\" fill=\"#000000\">entropy = 0.45</text>\n",
       "<text text-anchor=\"middle\" x=\"1029.5\" y=\"-1093.8\" font-family=\"Times,serif\" font-size=\"14.00\" fill=\"#000000\">samples = 85</text>\n",
       "<text text-anchor=\"middle\" x=\"1029.5\" y=\"-1078.8\" font-family=\"Times,serif\" font-size=\"14.00\" fill=\"#000000\">value = [8, 77]</text>\n",
       "<text text-anchor=\"middle\" x=\"1029.5\" y=\"-1063.8\" font-family=\"Times,serif\" font-size=\"14.00\" fill=\"#000000\">class = Медведев</text>\n",
       "</g>\n",
       "<!-- 38&#45;&gt;39 -->\n",
       "<g id=\"edge39\" class=\"edge\">\n",
       "<title>38&#45;&gt;39</title>\n",
       "<path fill=\"none\" stroke=\"#000000\" d=\"M1069.1652,-1174.8796C1064.7793,-1166.3236 1060.1147,-1157.2238 1055.583,-1148.3833\"/>\n",
       "<polygon fill=\"#000000\" stroke=\"#000000\" points=\"1058.6022,-1146.6004 1050.9259,-1139.2981 1052.373,-1149.7936 1058.6022,-1146.6004\"/>\n",
       "</g>\n",
       "<!-- 54 -->\n",
       "<g id=\"node55\" class=\"node\">\n",
       "<title>54</title>\n",
       "<polygon fill=\"#e58139\" stroke=\"#000000\" points=\"1202.5,-1131.5 1106.5,-1131.5 1106.5,-1063.5 1202.5,-1063.5 1202.5,-1131.5\"/>\n",
       "<text text-anchor=\"middle\" x=\"1154.5\" y=\"-1116.3\" font-family=\"Times,serif\" font-size=\"14.00\" fill=\"#000000\">entropy = 0.0</text>\n",
       "<text text-anchor=\"middle\" x=\"1154.5\" y=\"-1101.3\" font-family=\"Times,serif\" font-size=\"14.00\" fill=\"#000000\">samples = 3</text>\n",
       "<text text-anchor=\"middle\" x=\"1154.5\" y=\"-1086.3\" font-family=\"Times,serif\" font-size=\"14.00\" fill=\"#000000\">value = [3, 0]</text>\n",
       "<text text-anchor=\"middle\" x=\"1154.5\" y=\"-1071.3\" font-family=\"Times,serif\" font-size=\"14.00\" fill=\"#000000\">class = Путин</text>\n",
       "</g>\n",
       "<!-- 38&#45;&gt;54 -->\n",
       "<g id=\"edge54\" class=\"edge\">\n",
       "<title>38&#45;&gt;54</title>\n",
       "<path fill=\"none\" stroke=\"#000000\" d=\"M1112.8841,-1174.8796C1118.798,-1163.8835 1125.1949,-1151.9893 1131.158,-1140.9015\"/>\n",
       "<polygon fill=\"#000000\" stroke=\"#000000\" points=\"1134.3908,-1142.2799 1136.0449,-1131.8149 1128.2258,-1138.9642 1134.3908,-1142.2799\"/>\n",
       "</g>\n",
       "<!-- 40 -->\n",
       "<g id=\"node41\" class=\"node\">\n",
       "<title>40</title>\n",
       "<polygon fill=\"#399de5\" fill-opacity=\"0.941176\" stroke=\"#000000\" points=\"1073,-1020 956,-1020 956,-937 1073,-937 1073,-1020\"/>\n",
       "<text text-anchor=\"middle\" x=\"1014.5\" y=\"-1004.8\" font-family=\"Times,serif\" font-size=\"14.00\" fill=\"#000000\">X[3780] &lt;= 0.5</text>\n",
       "<text text-anchor=\"middle\" x=\"1014.5\" y=\"-989.8\" font-family=\"Times,serif\" font-size=\"14.00\" fill=\"#000000\">entropy = 0.303</text>\n",
       "<text text-anchor=\"middle\" x=\"1014.5\" y=\"-974.8\" font-family=\"Times,serif\" font-size=\"14.00\" fill=\"#000000\">samples = 74</text>\n",
       "<text text-anchor=\"middle\" x=\"1014.5\" y=\"-959.8\" font-family=\"Times,serif\" font-size=\"14.00\" fill=\"#000000\">value = [4, 70]</text>\n",
       "<text text-anchor=\"middle\" x=\"1014.5\" y=\"-944.8\" font-family=\"Times,serif\" font-size=\"14.00\" fill=\"#000000\">class = Медведев</text>\n",
       "</g>\n",
       "<!-- 39&#45;&gt;40 -->\n",
       "<g id=\"edge40\" class=\"edge\">\n",
       "<title>39&#45;&gt;40</title>\n",
       "<path fill=\"none\" stroke=\"#000000\" d=\"M1024.2537,-1055.8796C1023.2093,-1047.5938 1022.1006,-1038.798 1021.0195,-1030.2216\"/>\n",
       "<polygon fill=\"#000000\" stroke=\"#000000\" points=\"1024.4919,-1029.7818 1019.7687,-1020.2981 1017.5468,-1030.6573 1024.4919,-1029.7818\"/>\n",
       "</g>\n",
       "<!-- 49 -->\n",
       "<g id=\"node50\" class=\"node\">\n",
       "<title>49</title>\n",
       "<polygon fill=\"#399de5\" fill-opacity=\"0.427451\" stroke=\"#000000\" points=\"1208,-1020 1091,-1020 1091,-937 1208,-937 1208,-1020\"/>\n",
       "<text text-anchor=\"middle\" x=\"1149.5\" y=\"-1004.8\" font-family=\"Times,serif\" font-size=\"14.00\" fill=\"#000000\">X[2998] &lt;= 0.5</text>\n",
       "<text text-anchor=\"middle\" x=\"1149.5\" y=\"-989.8\" font-family=\"Times,serif\" font-size=\"14.00\" fill=\"#000000\">entropy = 0.946</text>\n",
       "<text text-anchor=\"middle\" x=\"1149.5\" y=\"-974.8\" font-family=\"Times,serif\" font-size=\"14.00\" fill=\"#000000\">samples = 11</text>\n",
       "<text text-anchor=\"middle\" x=\"1149.5\" y=\"-959.8\" font-family=\"Times,serif\" font-size=\"14.00\" fill=\"#000000\">value = [4, 7]</text>\n",
       "<text text-anchor=\"middle\" x=\"1149.5\" y=\"-944.8\" font-family=\"Times,serif\" font-size=\"14.00\" fill=\"#000000\">class = Медведев</text>\n",
       "</g>\n",
       "<!-- 39&#45;&gt;49 -->\n",
       "<g id=\"edge49\" class=\"edge\">\n",
       "<title>39&#45;&gt;49</title>\n",
       "<path fill=\"none\" stroke=\"#000000\" d=\"M1071.4702,-1055.8796C1080.7338,-1046.6931 1090.6296,-1036.8798 1100.1552,-1027.4336\"/>\n",
       "<polygon fill=\"#000000\" stroke=\"#000000\" points=\"1102.7146,-1029.8247 1107.3507,-1020.2981 1097.7856,-1024.8543 1102.7146,-1029.8247\"/>\n",
       "</g>\n",
       "<!-- 41 -->\n",
       "<g id=\"node42\" class=\"node\">\n",
       "<title>41</title>\n",
       "<polygon fill=\"#399de5\" fill-opacity=\"0.968627\" stroke=\"#000000\" points=\"938,-901 821,-901 821,-818 938,-818 938,-901\"/>\n",
       "<text text-anchor=\"middle\" x=\"879.5\" y=\"-885.8\" font-family=\"Times,serif\" font-size=\"14.00\" fill=\"#000000\">X[4837] &lt;= 0.5</text>\n",
       "<text text-anchor=\"middle\" x=\"879.5\" y=\"-870.8\" font-family=\"Times,serif\" font-size=\"14.00\" fill=\"#000000\">entropy = 0.194</text>\n",
       "<text text-anchor=\"middle\" x=\"879.5\" y=\"-855.8\" font-family=\"Times,serif\" font-size=\"14.00\" fill=\"#000000\">samples = 67</text>\n",
       "<text text-anchor=\"middle\" x=\"879.5\" y=\"-840.8\" font-family=\"Times,serif\" font-size=\"14.00\" fill=\"#000000\">value = [2, 65]</text>\n",
       "<text text-anchor=\"middle\" x=\"879.5\" y=\"-825.8\" font-family=\"Times,serif\" font-size=\"14.00\" fill=\"#000000\">class = Медведев</text>\n",
       "</g>\n",
       "<!-- 40&#45;&gt;41 -->\n",
       "<g id=\"edge41\" class=\"edge\">\n",
       "<title>40&#45;&gt;41</title>\n",
       "<path fill=\"none\" stroke=\"#000000\" d=\"M967.2836,-936.8796C956.7598,-927.6031 945.5109,-917.6874 934.6979,-908.1559\"/>\n",
       "<polygon fill=\"#000000\" stroke=\"#000000\" points=\"936.734,-905.2851 926.918,-901.2981 932.1052,-910.5362 936.734,-905.2851\"/>\n",
       "</g>\n",
       "<!-- 46 -->\n",
       "<g id=\"node47\" class=\"node\">\n",
       "<title>46</title>\n",
       "<polygon fill=\"#399de5\" fill-opacity=\"0.600000\" stroke=\"#000000\" points=\"1073,-901 956,-901 956,-818 1073,-818 1073,-901\"/>\n",
       "<text text-anchor=\"middle\" x=\"1014.5\" y=\"-885.8\" font-family=\"Times,serif\" font-size=\"14.00\" fill=\"#000000\">X[2940] &lt;= 0.5</text>\n",
       "<text text-anchor=\"middle\" x=\"1014.5\" y=\"-870.8\" font-family=\"Times,serif\" font-size=\"14.00\" fill=\"#000000\">entropy = 0.863</text>\n",
       "<text text-anchor=\"middle\" x=\"1014.5\" y=\"-855.8\" font-family=\"Times,serif\" font-size=\"14.00\" fill=\"#000000\">samples = 7</text>\n",
       "<text text-anchor=\"middle\" x=\"1014.5\" y=\"-840.8\" font-family=\"Times,serif\" font-size=\"14.00\" fill=\"#000000\">value = [2, 5]</text>\n",
       "<text text-anchor=\"middle\" x=\"1014.5\" y=\"-825.8\" font-family=\"Times,serif\" font-size=\"14.00\" fill=\"#000000\">class = Медведев</text>\n",
       "</g>\n",
       "<!-- 40&#45;&gt;46 -->\n",
       "<g id=\"edge46\" class=\"edge\">\n",
       "<title>40&#45;&gt;46</title>\n",
       "<path fill=\"none\" stroke=\"#000000\" d=\"M1014.5,-936.8796C1014.5,-928.6838 1014.5,-919.9891 1014.5,-911.5013\"/>\n",
       "<polygon fill=\"#000000\" stroke=\"#000000\" points=\"1018.0001,-911.298 1014.5,-901.2981 1011.0001,-911.2981 1018.0001,-911.298\"/>\n",
       "</g>\n",
       "<!-- 42 -->\n",
       "<g id=\"node43\" class=\"node\">\n",
       "<title>42</title>\n",
       "<polygon fill=\"#399de5\" stroke=\"#000000\" points=\"803,-774.5 686,-774.5 686,-706.5 803,-706.5 803,-774.5\"/>\n",
       "<text text-anchor=\"middle\" x=\"744.5\" y=\"-759.3\" font-family=\"Times,serif\" font-size=\"14.00\" fill=\"#000000\">entropy = 0.0</text>\n",
       "<text text-anchor=\"middle\" x=\"744.5\" y=\"-744.3\" font-family=\"Times,serif\" font-size=\"14.00\" fill=\"#000000\">samples = 57</text>\n",
       "<text text-anchor=\"middle\" x=\"744.5\" y=\"-729.3\" font-family=\"Times,serif\" font-size=\"14.00\" fill=\"#000000\">value = [0, 57]</text>\n",
       "<text text-anchor=\"middle\" x=\"744.5\" y=\"-714.3\" font-family=\"Times,serif\" font-size=\"14.00\" fill=\"#000000\">class = Медведев</text>\n",
       "</g>\n",
       "<!-- 41&#45;&gt;42 -->\n",
       "<g id=\"edge42\" class=\"edge\">\n",
       "<title>41&#45;&gt;42</title>\n",
       "<path fill=\"none\" stroke=\"#000000\" d=\"M832.2836,-817.8796C818.9358,-806.1138 804.4215,-793.3197 791.1096,-781.5855\"/>\n",
       "<polygon fill=\"#000000\" stroke=\"#000000\" points=\"793.2448,-778.8019 783.4287,-774.8149 788.616,-784.0531 793.2448,-778.8019\"/>\n",
       "</g>\n",
       "<!-- 43 -->\n",
       "<g id=\"node44\" class=\"node\">\n",
       "<title>43</title>\n",
       "<polygon fill=\"#399de5\" fill-opacity=\"0.749020\" stroke=\"#000000\" points=\"938,-782 821,-782 821,-699 938,-699 938,-782\"/>\n",
       "<text text-anchor=\"middle\" x=\"879.5\" y=\"-766.8\" font-family=\"Times,serif\" font-size=\"14.00\" fill=\"#000000\">X[2998] &lt;= 0.5</text>\n",
       "<text text-anchor=\"middle\" x=\"879.5\" y=\"-751.8\" font-family=\"Times,serif\" font-size=\"14.00\" fill=\"#000000\">entropy = 0.722</text>\n",
       "<text text-anchor=\"middle\" x=\"879.5\" y=\"-736.8\" font-family=\"Times,serif\" font-size=\"14.00\" fill=\"#000000\">samples = 10</text>\n",
       "<text text-anchor=\"middle\" x=\"879.5\" y=\"-721.8\" font-family=\"Times,serif\" font-size=\"14.00\" fill=\"#000000\">value = [2, 8]</text>\n",
       "<text text-anchor=\"middle\" x=\"879.5\" y=\"-706.8\" font-family=\"Times,serif\" font-size=\"14.00\" fill=\"#000000\">class = Медведев</text>\n",
       "</g>\n",
       "<!-- 41&#45;&gt;43 -->\n",
       "<g id=\"edge43\" class=\"edge\">\n",
       "<title>41&#45;&gt;43</title>\n",
       "<path fill=\"none\" stroke=\"#000000\" d=\"M879.5,-817.8796C879.5,-809.6838 879.5,-800.9891 879.5,-792.5013\"/>\n",
       "<polygon fill=\"#000000\" stroke=\"#000000\" points=\"883.0001,-792.298 879.5,-782.2981 876.0001,-792.2981 883.0001,-792.298\"/>\n",
       "</g>\n",
       "<!-- 44 -->\n",
       "<g id=\"node45\" class=\"node\">\n",
       "<title>44</title>\n",
       "<polygon fill=\"#399de5\" stroke=\"#000000\" points=\"873,-655.5 756,-655.5 756,-587.5 873,-587.5 873,-655.5\"/>\n",
       "<text text-anchor=\"middle\" x=\"814.5\" y=\"-640.3\" font-family=\"Times,serif\" font-size=\"14.00\" fill=\"#000000\">entropy = 0.0</text>\n",
       "<text text-anchor=\"middle\" x=\"814.5\" y=\"-625.3\" font-family=\"Times,serif\" font-size=\"14.00\" fill=\"#000000\">samples = 7</text>\n",
       "<text text-anchor=\"middle\" x=\"814.5\" y=\"-610.3\" font-family=\"Times,serif\" font-size=\"14.00\" fill=\"#000000\">value = [0, 7]</text>\n",
       "<text text-anchor=\"middle\" x=\"814.5\" y=\"-595.3\" font-family=\"Times,serif\" font-size=\"14.00\" fill=\"#000000\">class = Медведев</text>\n",
       "</g>\n",
       "<!-- 43&#45;&gt;44 -->\n",
       "<g id=\"edge44\" class=\"edge\">\n",
       "<title>43&#45;&gt;44</title>\n",
       "<path fill=\"none\" stroke=\"#000000\" d=\"M856.7662,-698.8796C850.7599,-687.8835 844.263,-675.9893 838.2067,-664.9015\"/>\n",
       "<polygon fill=\"#000000\" stroke=\"#000000\" points=\"841.1088,-662.9133 833.2435,-655.8149 834.9655,-666.2689 841.1088,-662.9133\"/>\n",
       "</g>\n",
       "<!-- 45 -->\n",
       "<g id=\"node46\" class=\"node\">\n",
       "<title>45</title>\n",
       "<polygon fill=\"#e58139\" fill-opacity=\"0.498039\" stroke=\"#000000\" points=\"995.5,-655.5 891.5,-655.5 891.5,-587.5 995.5,-587.5 995.5,-655.5\"/>\n",
       "<text text-anchor=\"middle\" x=\"943.5\" y=\"-640.3\" font-family=\"Times,serif\" font-size=\"14.00\" fill=\"#000000\">entropy = 0.918</text>\n",
       "<text text-anchor=\"middle\" x=\"943.5\" y=\"-625.3\" font-family=\"Times,serif\" font-size=\"14.00\" fill=\"#000000\">samples = 3</text>\n",
       "<text text-anchor=\"middle\" x=\"943.5\" y=\"-610.3\" font-family=\"Times,serif\" font-size=\"14.00\" fill=\"#000000\">value = [2, 1]</text>\n",
       "<text text-anchor=\"middle\" x=\"943.5\" y=\"-595.3\" font-family=\"Times,serif\" font-size=\"14.00\" fill=\"#000000\">class = Путин</text>\n",
       "</g>\n",
       "<!-- 43&#45;&gt;45 -->\n",
       "<g id=\"edge45\" class=\"edge\">\n",
       "<title>43&#45;&gt;45</title>\n",
       "<path fill=\"none\" stroke=\"#000000\" d=\"M901.8841,-698.8796C907.798,-687.8835 914.1949,-675.9893 920.158,-664.9015\"/>\n",
       "<polygon fill=\"#000000\" stroke=\"#000000\" points=\"923.3908,-666.2799 925.0449,-655.8149 917.2258,-662.9642 923.3908,-666.2799\"/>\n",
       "</g>\n",
       "<!-- 47 -->\n",
       "<g id=\"node48\" class=\"node\">\n",
       "<title>47</title>\n",
       "<polygon fill=\"#399de5\" stroke=\"#000000\" points=\"1073,-774.5 956,-774.5 956,-706.5 1073,-706.5 1073,-774.5\"/>\n",
       "<text text-anchor=\"middle\" x=\"1014.5\" y=\"-759.3\" font-family=\"Times,serif\" font-size=\"14.00\" fill=\"#000000\">entropy = 0.0</text>\n",
       "<text text-anchor=\"middle\" x=\"1014.5\" y=\"-744.3\" font-family=\"Times,serif\" font-size=\"14.00\" fill=\"#000000\">samples = 4</text>\n",
       "<text text-anchor=\"middle\" x=\"1014.5\" y=\"-729.3\" font-family=\"Times,serif\" font-size=\"14.00\" fill=\"#000000\">value = [0, 4]</text>\n",
       "<text text-anchor=\"middle\" x=\"1014.5\" y=\"-714.3\" font-family=\"Times,serif\" font-size=\"14.00\" fill=\"#000000\">class = Медведев</text>\n",
       "</g>\n",
       "<!-- 46&#45;&gt;47 -->\n",
       "<g id=\"edge47\" class=\"edge\">\n",
       "<title>46&#45;&gt;47</title>\n",
       "<path fill=\"none\" stroke=\"#000000\" d=\"M1014.5,-817.8796C1014.5,-807.2134 1014.5,-795.7021 1014.5,-784.9015\"/>\n",
       "<polygon fill=\"#000000\" stroke=\"#000000\" points=\"1018.0001,-784.8149 1014.5,-774.8149 1011.0001,-784.815 1018.0001,-784.8149\"/>\n",
       "</g>\n",
       "<!-- 48 -->\n",
       "<g id=\"node49\" class=\"node\">\n",
       "<title>48</title>\n",
       "<polygon fill=\"#e58139\" fill-opacity=\"0.498039\" stroke=\"#000000\" points=\"1195.5,-774.5 1091.5,-774.5 1091.5,-706.5 1195.5,-706.5 1195.5,-774.5\"/>\n",
       "<text text-anchor=\"middle\" x=\"1143.5\" y=\"-759.3\" font-family=\"Times,serif\" font-size=\"14.00\" fill=\"#000000\">entropy = 0.918</text>\n",
       "<text text-anchor=\"middle\" x=\"1143.5\" y=\"-744.3\" font-family=\"Times,serif\" font-size=\"14.00\" fill=\"#000000\">samples = 3</text>\n",
       "<text text-anchor=\"middle\" x=\"1143.5\" y=\"-729.3\" font-family=\"Times,serif\" font-size=\"14.00\" fill=\"#000000\">value = [2, 1]</text>\n",
       "<text text-anchor=\"middle\" x=\"1143.5\" y=\"-714.3\" font-family=\"Times,serif\" font-size=\"14.00\" fill=\"#000000\">class = Путин</text>\n",
       "</g>\n",
       "<!-- 46&#45;&gt;48 -->\n",
       "<g id=\"edge48\" class=\"edge\">\n",
       "<title>46&#45;&gt;48</title>\n",
       "<path fill=\"none\" stroke=\"#000000\" d=\"M1059.6179,-817.8796C1072.2533,-806.2237 1085.9826,-793.5587 1098.605,-781.9148\"/>\n",
       "<polygon fill=\"#000000\" stroke=\"#000000\" points=\"1101.3244,-784.168 1106.3015,-774.8149 1096.578,-779.0228 1101.3244,-784.168\"/>\n",
       "</g>\n",
       "<!-- 50 -->\n",
       "<g id=\"node51\" class=\"node\">\n",
       "<title>50</title>\n",
       "<polygon fill=\"#399de5\" stroke=\"#000000\" points=\"1208,-893.5 1091,-893.5 1091,-825.5 1208,-825.5 1208,-893.5\"/>\n",
       "<text text-anchor=\"middle\" x=\"1149.5\" y=\"-878.3\" font-family=\"Times,serif\" font-size=\"14.00\" fill=\"#000000\">entropy = 0.0</text>\n",
       "<text text-anchor=\"middle\" x=\"1149.5\" y=\"-863.3\" font-family=\"Times,serif\" font-size=\"14.00\" fill=\"#000000\">samples = 5</text>\n",
       "<text text-anchor=\"middle\" x=\"1149.5\" y=\"-848.3\" font-family=\"Times,serif\" font-size=\"14.00\" fill=\"#000000\">value = [0, 5]</text>\n",
       "<text text-anchor=\"middle\" x=\"1149.5\" y=\"-833.3\" font-family=\"Times,serif\" font-size=\"14.00\" fill=\"#000000\">class = Медведев</text>\n",
       "</g>\n",
       "<!-- 49&#45;&gt;50 -->\n",
       "<g id=\"edge50\" class=\"edge\">\n",
       "<title>49&#45;&gt;50</title>\n",
       "<path fill=\"none\" stroke=\"#000000\" d=\"M1149.5,-936.8796C1149.5,-926.2134 1149.5,-914.7021 1149.5,-903.9015\"/>\n",
       "<polygon fill=\"#000000\" stroke=\"#000000\" points=\"1153.0001,-903.8149 1149.5,-893.8149 1146.0001,-903.815 1153.0001,-903.8149\"/>\n",
       "</g>\n",
       "<!-- 51 -->\n",
       "<g id=\"node52\" class=\"node\">\n",
       "<title>51</title>\n",
       "<polygon fill=\"#e58139\" fill-opacity=\"0.498039\" stroke=\"#000000\" points=\"1330.5,-901 1226.5,-901 1226.5,-818 1330.5,-818 1330.5,-901\"/>\n",
       "<text text-anchor=\"middle\" x=\"1278.5\" y=\"-885.8\" font-family=\"Times,serif\" font-size=\"14.00\" fill=\"#000000\">X[2087] &lt;= 2.0</text>\n",
       "<text text-anchor=\"middle\" x=\"1278.5\" y=\"-870.8\" font-family=\"Times,serif\" font-size=\"14.00\" fill=\"#000000\">entropy = 0.918</text>\n",
       "<text text-anchor=\"middle\" x=\"1278.5\" y=\"-855.8\" font-family=\"Times,serif\" font-size=\"14.00\" fill=\"#000000\">samples = 6</text>\n",
       "<text text-anchor=\"middle\" x=\"1278.5\" y=\"-840.8\" font-family=\"Times,serif\" font-size=\"14.00\" fill=\"#000000\">value = [4, 2]</text>\n",
       "<text text-anchor=\"middle\" x=\"1278.5\" y=\"-825.8\" font-family=\"Times,serif\" font-size=\"14.00\" fill=\"#000000\">class = Путин</text>\n",
       "</g>\n",
       "<!-- 49&#45;&gt;51 -->\n",
       "<g id=\"edge51\" class=\"edge\">\n",
       "<title>49&#45;&gt;51</title>\n",
       "<path fill=\"none\" stroke=\"#000000\" d=\"M1194.6179,-936.8796C1204.674,-927.6031 1215.423,-917.6874 1225.7554,-908.1559\"/>\n",
       "<polygon fill=\"#000000\" stroke=\"#000000\" points=\"1228.2124,-910.6511 1233.1895,-901.2981 1223.4661,-905.506 1228.2124,-910.6511\"/>\n",
       "</g>\n",
       "<!-- 52 -->\n",
       "<g id=\"node53\" class=\"node\">\n",
       "<title>52</title>\n",
       "<polygon fill=\"#e58139\" stroke=\"#000000\" points=\"1318.5,-774.5 1222.5,-774.5 1222.5,-706.5 1318.5,-706.5 1318.5,-774.5\"/>\n",
       "<text text-anchor=\"middle\" x=\"1270.5\" y=\"-759.3\" font-family=\"Times,serif\" font-size=\"14.00\" fill=\"#000000\">entropy = 0.0</text>\n",
       "<text text-anchor=\"middle\" x=\"1270.5\" y=\"-744.3\" font-family=\"Times,serif\" font-size=\"14.00\" fill=\"#000000\">samples = 3</text>\n",
       "<text text-anchor=\"middle\" x=\"1270.5\" y=\"-729.3\" font-family=\"Times,serif\" font-size=\"14.00\" fill=\"#000000\">value = [3, 0]</text>\n",
       "<text text-anchor=\"middle\" x=\"1270.5\" y=\"-714.3\" font-family=\"Times,serif\" font-size=\"14.00\" fill=\"#000000\">class = Путин</text>\n",
       "</g>\n",
       "<!-- 51&#45;&gt;52 -->\n",
       "<g id=\"edge52\" class=\"edge\">\n",
       "<title>51&#45;&gt;52</title>\n",
       "<path fill=\"none\" stroke=\"#000000\" d=\"M1275.702,-817.8796C1274.9849,-807.2134 1274.2111,-795.7021 1273.485,-784.9015\"/>\n",
       "<polygon fill=\"#000000\" stroke=\"#000000\" points=\"1276.9699,-784.5576 1272.8069,-774.8149 1269.9856,-785.0272 1276.9699,-784.5576\"/>\n",
       "</g>\n",
       "<!-- 53 -->\n",
       "<g id=\"node54\" class=\"node\">\n",
       "<title>53</title>\n",
       "<polygon fill=\"#399de5\" fill-opacity=\"0.498039\" stroke=\"#000000\" points=\"1454,-774.5 1337,-774.5 1337,-706.5 1454,-706.5 1454,-774.5\"/>\n",
       "<text text-anchor=\"middle\" x=\"1395.5\" y=\"-759.3\" font-family=\"Times,serif\" font-size=\"14.00\" fill=\"#000000\">entropy = 0.918</text>\n",
       "<text text-anchor=\"middle\" x=\"1395.5\" y=\"-744.3\" font-family=\"Times,serif\" font-size=\"14.00\" fill=\"#000000\">samples = 3</text>\n",
       "<text text-anchor=\"middle\" x=\"1395.5\" y=\"-729.3\" font-family=\"Times,serif\" font-size=\"14.00\" fill=\"#000000\">value = [1, 2]</text>\n",
       "<text text-anchor=\"middle\" x=\"1395.5\" y=\"-714.3\" font-family=\"Times,serif\" font-size=\"14.00\" fill=\"#000000\">class = Медведев</text>\n",
       "</g>\n",
       "<!-- 51&#45;&gt;53 -->\n",
       "<g id=\"edge53\" class=\"edge\">\n",
       "<title>51&#45;&gt;53</title>\n",
       "<path fill=\"none\" stroke=\"#000000\" d=\"M1319.4209,-817.8796C1330.7728,-806.3337 1343.0982,-793.7976 1354.457,-782.2446\"/>\n",
       "<polygon fill=\"#000000\" stroke=\"#000000\" points=\"1357.2466,-784.3995 1361.7618,-774.8149 1352.2551,-779.4919 1357.2466,-784.3995\"/>\n",
       "</g>\n",
       "<!-- 58 -->\n",
       "<g id=\"node59\" class=\"node\">\n",
       "<title>58</title>\n",
       "<polygon fill=\"#e58139\" fill-opacity=\"0.498039\" stroke=\"#000000\" points=\"1452.5,-1369.5 1348.5,-1369.5 1348.5,-1301.5 1452.5,-1301.5 1452.5,-1369.5\"/>\n",
       "<text text-anchor=\"middle\" x=\"1400.5\" y=\"-1354.3\" font-family=\"Times,serif\" font-size=\"14.00\" fill=\"#000000\">entropy = 0.918</text>\n",
       "<text text-anchor=\"middle\" x=\"1400.5\" y=\"-1339.3\" font-family=\"Times,serif\" font-size=\"14.00\" fill=\"#000000\">samples = 3</text>\n",
       "<text text-anchor=\"middle\" x=\"1400.5\" y=\"-1324.3\" font-family=\"Times,serif\" font-size=\"14.00\" fill=\"#000000\">value = [2, 1]</text>\n",
       "<text text-anchor=\"middle\" x=\"1400.5\" y=\"-1309.3\" font-family=\"Times,serif\" font-size=\"14.00\" fill=\"#000000\">class = Путин</text>\n",
       "</g>\n",
       "<!-- 57&#45;&gt;58 -->\n",
       "<g id=\"edge58\" class=\"edge\">\n",
       "<title>57&#45;&gt;58</title>\n",
       "<path fill=\"none\" stroke=\"#000000\" d=\"M1401.8005,-1412.8796C1401.6212,-1402.2134 1401.4278,-1390.7021 1401.2462,-1379.9015\"/>\n",
       "<polygon fill=\"#000000\" stroke=\"#000000\" points=\"1404.7444,-1379.7547 1401.0767,-1369.8149 1397.7454,-1379.8724 1404.7444,-1379.7547\"/>\n",
       "</g>\n",
       "<!-- 59 -->\n",
       "<g id=\"node60\" class=\"node\">\n",
       "<title>59</title>\n",
       "<polygon fill=\"#e58139\" stroke=\"#000000\" points=\"1566.5,-1369.5 1470.5,-1369.5 1470.5,-1301.5 1566.5,-1301.5 1566.5,-1369.5\"/>\n",
       "<text text-anchor=\"middle\" x=\"1518.5\" y=\"-1354.3\" font-family=\"Times,serif\" font-size=\"14.00\" fill=\"#000000\">entropy = 0.0</text>\n",
       "<text text-anchor=\"middle\" x=\"1518.5\" y=\"-1339.3\" font-family=\"Times,serif\" font-size=\"14.00\" fill=\"#000000\">samples = 4</text>\n",
       "<text text-anchor=\"middle\" x=\"1518.5\" y=\"-1324.3\" font-family=\"Times,serif\" font-size=\"14.00\" fill=\"#000000\">value = [4, 0]</text>\n",
       "<text text-anchor=\"middle\" x=\"1518.5\" y=\"-1309.3\" font-family=\"Times,serif\" font-size=\"14.00\" fill=\"#000000\">class = Путин</text>\n",
       "</g>\n",
       "<!-- 57&#45;&gt;59 -->\n",
       "<g id=\"edge59\" class=\"edge\">\n",
       "<title>57&#45;&gt;59</title>\n",
       "<path fill=\"none\" stroke=\"#000000\" d=\"M1443.0712,-1412.8796C1454.326,-1401.3337 1466.5461,-1388.7976 1477.8078,-1377.2446\"/>\n",
       "<polygon fill=\"#000000\" stroke=\"#000000\" points=\"1480.5762,-1379.4188 1485.0501,-1369.8149 1475.5636,-1374.5326 1480.5762,-1379.4188\"/>\n",
       "</g>\n",
       "<!-- 61 -->\n",
       "<g id=\"node62\" class=\"node\">\n",
       "<title>61</title>\n",
       "<polygon fill=\"#e58139\" stroke=\"#000000\" points=\"1573.5,-1488.5 1477.5,-1488.5 1477.5,-1420.5 1573.5,-1420.5 1573.5,-1488.5\"/>\n",
       "<text text-anchor=\"middle\" x=\"1525.5\" y=\"-1473.3\" font-family=\"Times,serif\" font-size=\"14.00\" fill=\"#000000\">entropy = 0.0</text>\n",
       "<text text-anchor=\"middle\" x=\"1525.5\" y=\"-1458.3\" font-family=\"Times,serif\" font-size=\"14.00\" fill=\"#000000\">samples = 8</text>\n",
       "<text text-anchor=\"middle\" x=\"1525.5\" y=\"-1443.3\" font-family=\"Times,serif\" font-size=\"14.00\" fill=\"#000000\">value = [8, 0]</text>\n",
       "<text text-anchor=\"middle\" x=\"1525.5\" y=\"-1428.3\" font-family=\"Times,serif\" font-size=\"14.00\" fill=\"#000000\">class = Путин</text>\n",
       "</g>\n",
       "<!-- 60&#45;&gt;61 -->\n",
       "<g id=\"edge61\" class=\"edge\">\n",
       "<title>60&#45;&gt;61</title>\n",
       "<path fill=\"none\" stroke=\"#000000\" d=\"M1528.101,-1531.8796C1527.7425,-1521.2134 1527.3555,-1509.7021 1526.9925,-1498.9015\"/>\n",
       "<polygon fill=\"#000000\" stroke=\"#000000\" points=\"1530.4875,-1498.6917 1526.6534,-1488.8149 1523.4915,-1498.9269 1530.4875,-1498.6917\"/>\n",
       "</g>\n",
       "<!-- 62 -->\n",
       "<g id=\"node63\" class=\"node\">\n",
       "<title>62</title>\n",
       "<polygon fill=\"#399de5\" fill-opacity=\"0.498039\" stroke=\"#000000\" points=\"1709,-1496 1592,-1496 1592,-1413 1709,-1413 1709,-1496\"/>\n",
       "<text text-anchor=\"middle\" x=\"1650.5\" y=\"-1480.8\" font-family=\"Times,serif\" font-size=\"14.00\" fill=\"#000000\">X[3797] &lt;= 3.5</text>\n",
       "<text text-anchor=\"middle\" x=\"1650.5\" y=\"-1465.8\" font-family=\"Times,serif\" font-size=\"14.00\" fill=\"#000000\">entropy = 0.918</text>\n",
       "<text text-anchor=\"middle\" x=\"1650.5\" y=\"-1450.8\" font-family=\"Times,serif\" font-size=\"14.00\" fill=\"#000000\">samples = 6</text>\n",
       "<text text-anchor=\"middle\" x=\"1650.5\" y=\"-1435.8\" font-family=\"Times,serif\" font-size=\"14.00\" fill=\"#000000\">value = [2, 4]</text>\n",
       "<text text-anchor=\"middle\" x=\"1650.5\" y=\"-1420.8\" font-family=\"Times,serif\" font-size=\"14.00\" fill=\"#000000\">class = Медведев</text>\n",
       "</g>\n",
       "<!-- 60&#45;&gt;62 -->\n",
       "<g id=\"edge62\" class=\"edge\">\n",
       "<title>60&#45;&gt;62</title>\n",
       "<path fill=\"none\" stroke=\"#000000\" d=\"M1571.8199,-1531.8796C1581.1608,-1522.6931 1591.139,-1512.8798 1600.744,-1503.4336\"/>\n",
       "<polygon fill=\"#000000\" stroke=\"#000000\" points=\"1603.3238,-1505.8054 1607.9994,-1496.2981 1598.4155,-1500.8146 1603.3238,-1505.8054\"/>\n",
       "</g>\n",
       "<!-- 63 -->\n",
       "<g id=\"node64\" class=\"node\">\n",
       "<title>63</title>\n",
       "<polygon fill=\"#399de5\" stroke=\"#000000\" points=\"1707,-1369.5 1590,-1369.5 1590,-1301.5 1707,-1301.5 1707,-1369.5\"/>\n",
       "<text text-anchor=\"middle\" x=\"1648.5\" y=\"-1354.3\" font-family=\"Times,serif\" font-size=\"14.00\" fill=\"#000000\">entropy = 0.0</text>\n",
       "<text text-anchor=\"middle\" x=\"1648.5\" y=\"-1339.3\" font-family=\"Times,serif\" font-size=\"14.00\" fill=\"#000000\">samples = 3</text>\n",
       "<text text-anchor=\"middle\" x=\"1648.5\" y=\"-1324.3\" font-family=\"Times,serif\" font-size=\"14.00\" fill=\"#000000\">value = [0, 3]</text>\n",
       "<text text-anchor=\"middle\" x=\"1648.5\" y=\"-1309.3\" font-family=\"Times,serif\" font-size=\"14.00\" fill=\"#000000\">class = Медведев</text>\n",
       "</g>\n",
       "<!-- 62&#45;&gt;63 -->\n",
       "<g id=\"edge63\" class=\"edge\">\n",
       "<title>62&#45;&gt;63</title>\n",
       "<path fill=\"none\" stroke=\"#000000\" d=\"M1649.8005,-1412.8796C1649.6212,-1402.2134 1649.4278,-1390.7021 1649.2462,-1379.9015\"/>\n",
       "<polygon fill=\"#000000\" stroke=\"#000000\" points=\"1652.7444,-1379.7547 1649.0767,-1369.8149 1645.7454,-1379.8724 1652.7444,-1379.7547\"/>\n",
       "</g>\n",
       "<!-- 64 -->\n",
       "<g id=\"node65\" class=\"node\">\n",
       "<title>64</title>\n",
       "<polygon fill=\"#e58139\" fill-opacity=\"0.498039\" stroke=\"#000000\" points=\"1829.5,-1369.5 1725.5,-1369.5 1725.5,-1301.5 1829.5,-1301.5 1829.5,-1369.5\"/>\n",
       "<text text-anchor=\"middle\" x=\"1777.5\" y=\"-1354.3\" font-family=\"Times,serif\" font-size=\"14.00\" fill=\"#000000\">entropy = 0.918</text>\n",
       "<text text-anchor=\"middle\" x=\"1777.5\" y=\"-1339.3\" font-family=\"Times,serif\" font-size=\"14.00\" fill=\"#000000\">samples = 3</text>\n",
       "<text text-anchor=\"middle\" x=\"1777.5\" y=\"-1324.3\" font-family=\"Times,serif\" font-size=\"14.00\" fill=\"#000000\">value = [2, 1]</text>\n",
       "<text text-anchor=\"middle\" x=\"1777.5\" y=\"-1309.3\" font-family=\"Times,serif\" font-size=\"14.00\" fill=\"#000000\">class = Путин</text>\n",
       "</g>\n",
       "<!-- 62&#45;&gt;64 -->\n",
       "<g id=\"edge64\" class=\"edge\">\n",
       "<title>62&#45;&gt;64</title>\n",
       "<path fill=\"none\" stroke=\"#000000\" d=\"M1694.9184,-1412.8796C1707.3579,-1401.2237 1720.8743,-1388.5587 1733.301,-1376.9148\"/>\n",
       "<polygon fill=\"#000000\" stroke=\"#000000\" points=\"1735.9741,-1379.2065 1740.8782,-1369.8149 1731.1879,-1374.0985 1735.9741,-1379.2065\"/>\n",
       "</g>\n",
       "<!-- 67 -->\n",
       "<g id=\"node68\" class=\"node\">\n",
       "<title>67</title>\n",
       "<polygon fill=\"#e58139\" fill-opacity=\"0.890196\" stroke=\"#000000\" points=\"1748.5,-1853 1644.5,-1853 1644.5,-1770 1748.5,-1770 1748.5,-1853\"/>\n",
       "<text text-anchor=\"middle\" x=\"1696.5\" y=\"-1837.8\" font-family=\"Times,serif\" font-size=\"14.00\" fill=\"#000000\">X[4381] &lt;= 0.5</text>\n",
       "<text text-anchor=\"middle\" x=\"1696.5\" y=\"-1822.8\" font-family=\"Times,serif\" font-size=\"14.00\" fill=\"#000000\">entropy = 0.469</text>\n",
       "<text text-anchor=\"middle\" x=\"1696.5\" y=\"-1807.8\" font-family=\"Times,serif\" font-size=\"14.00\" fill=\"#000000\">samples = 30</text>\n",
       "<text text-anchor=\"middle\" x=\"1696.5\" y=\"-1792.8\" font-family=\"Times,serif\" font-size=\"14.00\" fill=\"#000000\">value = [27, 3]</text>\n",
       "<text text-anchor=\"middle\" x=\"1696.5\" y=\"-1777.8\" font-family=\"Times,serif\" font-size=\"14.00\" fill=\"#000000\">class = Путин</text>\n",
       "</g>\n",
       "<!-- 66&#45;&gt;67 -->\n",
       "<g id=\"edge67\" class=\"edge\">\n",
       "<title>66&#45;&gt;67</title>\n",
       "<path fill=\"none\" stroke=\"#000000\" d=\"M1696.5,-1888.8796C1696.5,-1880.6838 1696.5,-1871.9891 1696.5,-1863.5013\"/>\n",
       "<polygon fill=\"#000000\" stroke=\"#000000\" points=\"1700.0001,-1863.298 1696.5,-1853.2981 1693.0001,-1863.2981 1700.0001,-1863.298\"/>\n",
       "</g>\n",
       "<!-- 72 -->\n",
       "<g id=\"node73\" class=\"node\">\n",
       "<title>72</title>\n",
       "<polygon fill=\"#399de5\" stroke=\"#000000\" points=\"1884,-1845.5 1767,-1845.5 1767,-1777.5 1884,-1777.5 1884,-1845.5\"/>\n",
       "<text text-anchor=\"middle\" x=\"1825.5\" y=\"-1830.3\" font-family=\"Times,serif\" font-size=\"14.00\" fill=\"#000000\">entropy = 0.0</text>\n",
       "<text text-anchor=\"middle\" x=\"1825.5\" y=\"-1815.3\" font-family=\"Times,serif\" font-size=\"14.00\" fill=\"#000000\">samples = 3</text>\n",
       "<text text-anchor=\"middle\" x=\"1825.5\" y=\"-1800.3\" font-family=\"Times,serif\" font-size=\"14.00\" fill=\"#000000\">value = [0, 3]</text>\n",
       "<text text-anchor=\"middle\" x=\"1825.5\" y=\"-1785.3\" font-family=\"Times,serif\" font-size=\"14.00\" fill=\"#000000\">class = Медведев</text>\n",
       "</g>\n",
       "<!-- 66&#45;&gt;72 -->\n",
       "<g id=\"edge72\" class=\"edge\">\n",
       "<title>66&#45;&gt;72</title>\n",
       "<path fill=\"none\" stroke=\"#000000\" d=\"M1741.6179,-1888.8796C1754.2533,-1877.2237 1767.9826,-1864.5587 1780.605,-1852.9148\"/>\n",
       "<polygon fill=\"#000000\" stroke=\"#000000\" points=\"1783.3244,-1855.168 1788.3015,-1845.8149 1778.578,-1850.0228 1783.3244,-1855.168\"/>\n",
       "</g>\n",
       "<!-- 68 -->\n",
       "<g id=\"node69\" class=\"node\">\n",
       "<title>68</title>\n",
       "<polygon fill=\"#e58139\" fill-opacity=\"0.960784\" stroke=\"#000000\" points=\"1748.5,-1734 1644.5,-1734 1644.5,-1651 1748.5,-1651 1748.5,-1734\"/>\n",
       "<text text-anchor=\"middle\" x=\"1696.5\" y=\"-1718.8\" font-family=\"Times,serif\" font-size=\"14.00\" fill=\"#000000\">X[4777] &lt;= 0.5</text>\n",
       "<text text-anchor=\"middle\" x=\"1696.5\" y=\"-1703.8\" font-family=\"Times,serif\" font-size=\"14.00\" fill=\"#000000\">entropy = 0.229</text>\n",
       "<text text-anchor=\"middle\" x=\"1696.5\" y=\"-1688.8\" font-family=\"Times,serif\" font-size=\"14.00\" fill=\"#000000\">samples = 27</text>\n",
       "<text text-anchor=\"middle\" x=\"1696.5\" y=\"-1673.8\" font-family=\"Times,serif\" font-size=\"14.00\" fill=\"#000000\">value = [26, 1]</text>\n",
       "<text text-anchor=\"middle\" x=\"1696.5\" y=\"-1658.8\" font-family=\"Times,serif\" font-size=\"14.00\" fill=\"#000000\">class = Путин</text>\n",
       "</g>\n",
       "<!-- 67&#45;&gt;68 -->\n",
       "<g id=\"edge68\" class=\"edge\">\n",
       "<title>67&#45;&gt;68</title>\n",
       "<path fill=\"none\" stroke=\"#000000\" d=\"M1696.5,-1769.8796C1696.5,-1761.6838 1696.5,-1752.9891 1696.5,-1744.5013\"/>\n",
       "<polygon fill=\"#000000\" stroke=\"#000000\" points=\"1700.0001,-1744.298 1696.5,-1734.2981 1693.0001,-1744.2981 1700.0001,-1744.298\"/>\n",
       "</g>\n",
       "<!-- 71 -->\n",
       "<g id=\"node72\" class=\"node\">\n",
       "<title>71</title>\n",
       "<polygon fill=\"#399de5\" fill-opacity=\"0.498039\" stroke=\"#000000\" points=\"1884,-1726.5 1767,-1726.5 1767,-1658.5 1884,-1658.5 1884,-1726.5\"/>\n",
       "<text text-anchor=\"middle\" x=\"1825.5\" y=\"-1711.3\" font-family=\"Times,serif\" font-size=\"14.00\" fill=\"#000000\">entropy = 0.918</text>\n",
       "<text text-anchor=\"middle\" x=\"1825.5\" y=\"-1696.3\" font-family=\"Times,serif\" font-size=\"14.00\" fill=\"#000000\">samples = 3</text>\n",
       "<text text-anchor=\"middle\" x=\"1825.5\" y=\"-1681.3\" font-family=\"Times,serif\" font-size=\"14.00\" fill=\"#000000\">value = [1, 2]</text>\n",
       "<text text-anchor=\"middle\" x=\"1825.5\" y=\"-1666.3\" font-family=\"Times,serif\" font-size=\"14.00\" fill=\"#000000\">class = Медведев</text>\n",
       "</g>\n",
       "<!-- 67&#45;&gt;71 -->\n",
       "<g id=\"edge71\" class=\"edge\">\n",
       "<title>67&#45;&gt;71</title>\n",
       "<path fill=\"none\" stroke=\"#000000\" d=\"M1741.6179,-1769.8796C1754.2533,-1758.2237 1767.9826,-1745.5587 1780.605,-1733.9148\"/>\n",
       "<polygon fill=\"#000000\" stroke=\"#000000\" points=\"1783.3244,-1736.168 1788.3015,-1726.8149 1778.578,-1731.0228 1783.3244,-1736.168\"/>\n",
       "</g>\n",
       "<!-- 69 -->\n",
       "<g id=\"node70\" class=\"node\">\n",
       "<title>69</title>\n",
       "<polygon fill=\"#e58139\" stroke=\"#000000\" points=\"1729.5,-1607.5 1631.5,-1607.5 1631.5,-1539.5 1729.5,-1539.5 1729.5,-1607.5\"/>\n",
       "<text text-anchor=\"middle\" x=\"1680.5\" y=\"-1592.3\" font-family=\"Times,serif\" font-size=\"14.00\" fill=\"#000000\">entropy = 0.0</text>\n",
       "<text text-anchor=\"middle\" x=\"1680.5\" y=\"-1577.3\" font-family=\"Times,serif\" font-size=\"14.00\" fill=\"#000000\">samples = 24</text>\n",
       "<text text-anchor=\"middle\" x=\"1680.5\" y=\"-1562.3\" font-family=\"Times,serif\" font-size=\"14.00\" fill=\"#000000\">value = [24, 0]</text>\n",
       "<text text-anchor=\"middle\" x=\"1680.5\" y=\"-1547.3\" font-family=\"Times,serif\" font-size=\"14.00\" fill=\"#000000\">class = Путин</text>\n",
       "</g>\n",
       "<!-- 68&#45;&gt;69 -->\n",
       "<g id=\"edge69\" class=\"edge\">\n",
       "<title>68&#45;&gt;69</title>\n",
       "<path fill=\"none\" stroke=\"#000000\" d=\"M1690.904,-1650.8796C1689.4699,-1640.2134 1687.9221,-1628.7021 1686.47,-1617.9015\"/>\n",
       "<polygon fill=\"#000000\" stroke=\"#000000\" points=\"1689.9152,-1617.2593 1685.1138,-1607.8149 1682.9776,-1618.1922 1689.9152,-1617.2593\"/>\n",
       "</g>\n",
       "<!-- 70 -->\n",
       "<g id=\"node71\" class=\"node\">\n",
       "<title>70</title>\n",
       "<polygon fill=\"#e58139\" fill-opacity=\"0.498039\" stroke=\"#000000\" points=\"1851.5,-1607.5 1747.5,-1607.5 1747.5,-1539.5 1851.5,-1539.5 1851.5,-1607.5\"/>\n",
       "<text text-anchor=\"middle\" x=\"1799.5\" y=\"-1592.3\" font-family=\"Times,serif\" font-size=\"14.00\" fill=\"#000000\">entropy = 0.918</text>\n",
       "<text text-anchor=\"middle\" x=\"1799.5\" y=\"-1577.3\" font-family=\"Times,serif\" font-size=\"14.00\" fill=\"#000000\">samples = 3</text>\n",
       "<text text-anchor=\"middle\" x=\"1799.5\" y=\"-1562.3\" font-family=\"Times,serif\" font-size=\"14.00\" fill=\"#000000\">value = [2, 1]</text>\n",
       "<text text-anchor=\"middle\" x=\"1799.5\" y=\"-1547.3\" font-family=\"Times,serif\" font-size=\"14.00\" fill=\"#000000\">class = Путин</text>\n",
       "</g>\n",
       "<!-- 68&#45;&gt;70 -->\n",
       "<g id=\"edge70\" class=\"edge\">\n",
       "<title>68&#45;&gt;70</title>\n",
       "<path fill=\"none\" stroke=\"#000000\" d=\"M1732.5244,-1650.8796C1742.4227,-1639.4436 1753.1619,-1627.0363 1763.0822,-1615.575\"/>\n",
       "<polygon fill=\"#000000\" stroke=\"#000000\" points=\"1765.9007,-1617.6666 1769.7988,-1607.8149 1760.6079,-1613.0855 1765.9007,-1617.6666\"/>\n",
       "</g>\n",
       "</g>\n",
       "</svg>\n"
      ],
      "text/plain": [
       "<graphviz.files.Source at 0x7fe10516c438>"
      ]
     },
     "execution_count": 609,
     "metadata": {},
     "output_type": "execute_result"
    }
   ],
   "source": [
    "graph = graphviz.Source(dot_tree)\n",
    "graph"
   ]
  },
  {
   "cell_type": "markdown",
   "metadata": {},
   "source": [
    "### Какие слова самые важные?"
   ]
  },
  {
   "cell_type": "code",
   "execution_count": 610,
   "metadata": {},
   "outputs": [],
   "source": [
    "def get_top_indexes(s):\n",
    "    return sorted(range(len(s)), key=lambda k: s[k], reverse=True)"
   ]
  },
  {
   "cell_type": "code",
   "execution_count": 611,
   "metadata": {},
   "outputs": [],
   "source": [
    "feature_names = vectorizer.get_feature_names()"
   ]
  },
  {
   "cell_type": "code",
   "execution_count": 612,
   "metadata": {},
   "outputs": [],
   "source": [
    "top_indexes = get_top_indexes(model.feature_importances_)\n",
    "top_indexes = top_indexes[:10]\n",
    "top_indexes.reverse()"
   ]
  },
  {
   "cell_type": "code",
   "execution_count": 613,
   "metadata": {},
   "outputs": [],
   "source": [
    "top_importances = [model.feature_importances_[i] for i in top_indexes]\n",
    "top_words = [feature_names[i] for i in top_indexes]"
   ]
  },
  {
   "cell_type": "code",
   "execution_count": 614,
   "metadata": {},
   "outputs": [
    {
     "data": {
      "text/plain": [
       "''"
      ]
     },
     "execution_count": 614,
     "metadata": {},
     "output_type": "execute_result"
    },
    {
     "data": {
      "image/png": "[encoded data removed]",
      "text/plain": [
       "<Figure size 432x288 with 1 Axes>"
      ]
     },
     "metadata": {
      "needs_background": "light"
     },
     "output_type": "display_data"
    }
   ],
   "source": [
    "plt.barh(np.arange(len(top_importances)), top_importances)\n",
    "plt.yticks(np.arange(len(top_words)), top_words)\n",
    "''"
   ]
  },
  {
   "cell_type": "code",
   "execution_count": null,
   "metadata": {},
   "outputs": [],
   "source": []
  }
 ],
 "metadata": {
  "anaconda-cloud": {},
  "kernelspec": {
   "display_name": "Python 3",
   "language": "python",
   "name": "python3"
  },
  "language_info": {
   "codemirror_mode": {
    "name": "ipython",
    "version": 3
   },
   "file_extension": ".py",
   "mimetype": "text/x-python",
   "name": "python",
   "nbconvert_exporter": "python",
   "pygments_lexer": "ipython3",
   "version": "3.7.1"
  }
 },
 "nbformat": 4,
 "nbformat_minor": 2
}
